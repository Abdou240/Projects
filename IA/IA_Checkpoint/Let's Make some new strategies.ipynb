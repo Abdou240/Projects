{
 "cells": [
  {
   "cell_type": "markdown",
   "id": "31ef6f78",
   "metadata": {},
   "source": [
    "# Objective\n",
    "Association Rules\n",
    "Let's say you are a machine learning engineer working for a clothing company and you want to adopt new strategies to improve the company's profit.\n",
    "\n",
    "Use this dataset and the association rules mining to find new marketing plans. \n",
    "\n",
    "Note that one of the strategies can be based on which items should be put together\n",
    "\n",
    "dataset = [['Skirt', 'Sneakers', 'Scarf', 'Pants', 'Hat'],\n",
    "\n",
    "    ['Sunglasses', 'Skirt', 'Sneakers', 'Pants', 'Hat'],\n",
    "\n",
    "    ['Dress', 'Sandals', 'Scarf', 'Pants', 'Heels'],\n",
    "\n",
    "    ['Dress', 'Necklace', 'Earrings', 'Scarf', 'Hat', 'Heels', 'Hat'],\n",
    "\n",
    "   ['Earrings', 'Skirt', 'Skirt', 'Scarf', 'Shirt', 'Pants']]\n",
    "\n",
    "Bonus: Try to do some visualization before applying the Apriori algorithm.\n",
    "\n",
    "Let's do the same checkpoint but with a bigger dataset!"
   ]
  },
  {
   "cell_type": "code",
   "execution_count": null,
   "id": "fb5bc899",
   "metadata": {},
   "outputs": [],
   "source": []
  }
 ],
 "metadata": {
  "kernelspec": {
   "display_name": "Python 3 (ipykernel)",
   "language": "python",
   "name": "python3"
  },
  "language_info": {
   "codemirror_mode": {
    "name": "ipython",
    "version": 3
   },
   "file_extension": ".py",
   "mimetype": "text/x-python",
   "name": "python",
   "nbconvert_exporter": "python",
   "pygments_lexer": "ipython3",
   "version": "3.9.7"
  }
 },
 "nbformat": 4,
 "nbformat_minor": 5
}
