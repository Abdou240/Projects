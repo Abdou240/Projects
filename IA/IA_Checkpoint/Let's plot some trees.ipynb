{
 "cells": [
  {
   "cell_type": "markdown",
   "id": "622da8dd",
   "metadata": {},
   "source": [
    "# Objective\n",
    "Decision Trees & Random Forests\n",
    "We are going to predict once again if a passenger on the Titanic is going to survive. This time  using decision trees and random forests: \n",
    "\n",
    "1. Read your Titanic dataset as usual: Create a training set and a testing set then apply decision tree. \n",
    "\n",
    "2. Plot your decision tree and try to read the tree branches and conclude a prediction manually.\n",
    "\n",
    "3. Change the decision tree parameters(at least two parameters). \n",
    "\n",
    "4. Calculate the new accuracy and compare it with the previous results. \n",
    "\n",
    "5. Use a random forest then change the number of estimators.\n",
    "\n",
    "6. Calculate the new accuracy and compare it with the previous result.\n",
    " "
   ]
  },
  {
   "cell_type": "code",
   "execution_count": null,
   "id": "3de0c90e",
   "metadata": {},
   "outputs": [],
   "source": []
  }
 ],
 "metadata": {
  "kernelspec": {
   "display_name": "Python 3 (ipykernel)",
   "language": "python",
   "name": "python3"
  },
  "language_info": {
   "codemirror_mode": {
    "name": "ipython",
    "version": 3
   },
   "file_extension": ".py",
   "mimetype": "text/x-python",
   "name": "python",
   "nbconvert_exporter": "python",
   "pygments_lexer": "ipython3",
   "version": "3.9.7"
  }
 },
 "nbformat": 4,
 "nbformat_minor": 5
}
