{
 "cells": [
  {
   "cell_type": "markdown",
   "id": "42ace64e",
   "metadata": {},
   "source": [
    "# Objective\n",
    "K-means & Hierarchical Clustering \n",
    "This case requires developing a customer segmentation to define marketing strategy. The sample Dataset summarizes the usage behavior of about 9000 active credit cardholders during the last 6 months. The file is at a customer level with 18 behavioral variables.\n",
    "\n",
    "Following is the data dictionary for credit card dataset :\n",
    "\n",
    "CUST_ID: Identification of credit cardholder (Categorical)\n",
    "\n",
    "BALANCE: Balance amount left in their account to make purchases (BALANCE_FREQUENCY : How frequently the Balance is updated, score between 0 and 1 (1 = frequently updated, 0 = not frequently updated)) \n",
    "\n",
    "PURCHASES: Amount of purchases made from the account\n",
    "\n",
    "ONEOFF_PURCHASES: Maximum purchase amount done in once\n",
    "\n",
    " INSTALLMENTS_PURCHASES: Amount of purchase done in installments\n",
    "\n",
    " CASH_ADVANCE: Cash in advance given by the user\n",
    "\n",
    "PURCHASES_FREQUENCY: How frequently the purchases are being made, score between 0 and 1 (1 = frequently purchased, 0 = not frequently purchased)\n",
    "\n",
    " ONEOFFPURCHASESFREQUENCY: How frequently purchases are happening at once (1 = frequently purchased, 0 = not frequently purchased)\n",
    "\n",
    " PURCHASESINSTALLMENTSFREQUENCY: How frequently purchases in installments are being made (1 = frequently done, 0 = not frequently done)\n",
    "\n",
    "CASHADVANCEFREQUENCY: How frequently the cash in advance is being paid \n",
    "\n",
    "CASHADVANCETRX: Number of transactions made with \"Cash in Advance\" PURCHASES_TRX: Number of purchase transactions made\n",
    "\n",
    " CREDIT_LIMIT: Limit of credit card for user \n",
    "\n",
    "PAYMENTS: Amount of payment done by userMINIMUM_PAYMENTS: Minimum amount of payments made by user PRCFULLPAYMENT: Percent of full payment paid by userTENURE: Tenure of credit card service for user\n",
    "\n",
    "1. Load your dataset. \n",
    "\n",
    "2. Use hierarchical clustering to identify the inherent groupings within your data.\n",
    "\n",
    "3. Plot the clusters. \n",
    "\n",
    "4. Plot the dendrogram. Use K-means clustering. \n",
    "\n",
    "5. Try different K values and select the best one. \n",
    "\n",
    "6. Plot the clusters. \n",
    "\n",
    "7. Compare the two results. \n",
    "\n",
    "Bonus: Search for another validation metric"
   ]
  },
  {
   "cell_type": "code",
   "execution_count": null,
   "id": "a7b6cf98",
   "metadata": {},
   "outputs": [],
   "source": []
  },
  {
   "cell_type": "code",
   "execution_count": null,
   "id": "d0622b4d",
   "metadata": {},
   "outputs": [],
   "source": []
  },
  {
   "cell_type": "code",
   "execution_count": null,
   "id": "10ce2f9d",
   "metadata": {},
   "outputs": [],
   "source": []
  },
  {
   "cell_type": "code",
   "execution_count": null,
   "id": "bee0edcd",
   "metadata": {},
   "outputs": [],
   "source": [
    "import pandas as pd\n",
    "data=pd.read_csv(\"Mall_Customers.csv\")\n",
    "\n",
    "data=data.drop(\"CustomerID\", axis=1)\n",
    "data[\"Gender\"]=data[\"Gender\"].map({\"Male\":1, \"Female\":0})  #convert Gender values into numerical\n",
    "data"
   ]
  },
  {
   "cell_type": "code",
   "execution_count": null,
   "id": "a8b5ec26",
   "metadata": {},
   "outputs": [],
   "source": [
    "from sklearn.cluster import AgglomerativeClustering #Importing our clustering algorithm : Agglomerative\n",
    "model=AgglomerativeClustering(n_clusters=5, affinity='euclidean', linkage='complete')\n",
    "clust_labels=model.fit_predict(data)  #Applying agglomerative algorithm with 5 clusters, using euclidean distance as a metric"
   ]
  },
  {
   "cell_type": "code",
   "execution_count": null,
   "id": "f239caee",
   "metadata": {},
   "outputs": [],
   "source": [
    "agglomerative=pd.DataFrame(clust_labels)\n",
    "agglomerative"
   ]
  },
  {
   "cell_type": "code",
   "execution_count": null,
   "id": "987f0146",
   "metadata": {},
   "outputs": [],
   "source": []
  },
  {
   "cell_type": "code",
   "execution_count": null,
   "id": "0851a584",
   "metadata": {},
   "outputs": [],
   "source": []
  },
  {
   "cell_type": "code",
   "execution_count": null,
   "id": "a69457a2",
   "metadata": {},
   "outputs": [],
   "source": []
  },
  {
   "cell_type": "code",
   "execution_count": null,
   "id": "8f1e8bf5",
   "metadata": {},
   "outputs": [],
   "source": []
  }
 ],
 "metadata": {
  "kernelspec": {
   "display_name": "Python 3 (ipykernel)",
   "language": "python",
   "name": "python3"
  },
  "language_info": {
   "codemirror_mode": {
    "name": "ipython",
    "version": 3
   },
   "file_extension": ".py",
   "mimetype": "text/x-python",
   "name": "python",
   "nbconvert_exporter": "python",
   "pygments_lexer": "ipython3",
   "version": "3.9.12"
  }
 },
 "nbformat": 4,
 "nbformat_minor": 5
}
