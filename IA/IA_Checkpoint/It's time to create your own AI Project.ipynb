{
 "cells": [
  {
   "cell_type": "markdown",
   "id": "a3025a6f",
   "metadata": {},
   "source": [
    "# \n",
    "In this checkpoint, It's time to use all the knowledge that you learned from this program to create your own machine learning project."
   ]
  },
  {
   "cell_type": "code",
   "execution_count": null,
   "id": "59acbafc",
   "metadata": {},
   "outputs": [],
   "source": []
  }
 ],
 "metadata": {
  "kernelspec": {
   "display_name": "Python 3 (ipykernel)",
   "language": "python",
   "name": "python3"
  },
  "language_info": {
   "codemirror_mode": {
    "name": "ipython",
    "version": 3
   },
   "file_extension": ".py",
   "mimetype": "text/x-python",
   "name": "python",
   "nbconvert_exporter": "python",
   "pygments_lexer": "ipython3",
   "version": "3.9.12"
  }
 },
 "nbformat": 4,
 "nbformat_minor": 5
}
