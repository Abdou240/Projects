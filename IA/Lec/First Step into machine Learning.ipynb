{
 "cells": [
  {
   "cell_type": "markdown",
   "id": "8e148084",
   "metadata": {},
   "source": [
    "# Regression \n",
    "This is a dataset containing over 21613 houses and their characteristics. The goal is to find the best model to predict a house’s price. \n",
    "\n",
    " \n",
    "\n",
    "1. Explore this dataset using what you have learned in data preprocessing and data visualization \n",
    "\n",
    "2. Write a paragraph selecting the most important features (feature selection). \n",
    "\n",
    "3. Split your dataset into a training set and a testing set. \n",
    "\n",
    "4. Apply linear regression to your training set. \n",
    "\n",
    "5. Plot the linear regression. \n",
    "\n",
    "5. Measure the performance of linear regression using the testing set. \n",
    "\n",
    "6. Apply multiple-linear regression and compare it to the linear model. \n",
    "\n",
    "7. Apply polynomial regression and compare it to linear and multilinear regression. \n",
    "\n",
    "Note: Every result has to be interpreted and justified. Write your interpretations in a markdown."
   ]
  },
  {
   "cell_type": "markdown",
   "id": "b1060c51",
   "metadata": {},
   "source": [
    "### Explore this dataset using what you have learned in data preprocessing and data visualization"
   ]
  },
  {
   "cell_type": "code",
   "execution_count": null,
   "id": "850f367b",
   "metadata": {},
   "outputs": [],
   "source": [
    "import pandas as pd\n",
    "import numpy as np\n",
    "\n",
    "data = pd.read_csv(\"titanic-passengers.csv\",sep=\";\")"
   ]
  }
 ],
 "metadata": {
  "kernelspec": {
   "display_name": "Python 3 (ipykernel)",
   "language": "python",
   "name": "python3"
  },
  "language_info": {
   "codemirror_mode": {
    "name": "ipython",
    "version": 3
   },
   "file_extension": ".py",
   "mimetype": "text/x-python",
   "name": "python",
   "nbconvert_exporter": "python",
   "pygments_lexer": "ipython3",
   "version": "3.9.7"
  }
 },
 "nbformat": 4,
 "nbformat_minor": 5
}
