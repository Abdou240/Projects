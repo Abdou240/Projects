{
 "cells": [
  {
   "cell_type": "code",
   "execution_count": 3,
   "id": "983f153a",
   "metadata": {},
   "outputs": [
    {
     "data": {
      "text/plain": [
       "3.0"
      ]
     },
     "execution_count": 3,
     "metadata": {},
     "output_type": "execute_result"
    }
   ],
   "source": [
    "x = 19\n",
    "y = 10\n",
    "x%y*3/(x-y)"
   ]
  },
  {
   "cell_type": "code",
   "execution_count": 6,
   "id": "036479a5",
   "metadata": {},
   "outputs": [
    {
     "data": {
      "text/plain": [
       "'i'"
      ]
     },
     "execution_count": 6,
     "metadata": {},
     "output_type": "execute_result"
    }
   ],
   "source": [
    "a =\"welcome to coding world\"\n",
    "len(a)\n",
    "a[len(a)-9]\n"
   ]
  },
  {
   "cell_type": "code",
   "execution_count": 2,
   "id": "802c87f6",
   "metadata": {},
   "outputs": [
    {
     "data": {
      "text/plain": [
       "-1"
      ]
     },
     "execution_count": 2,
     "metadata": {},
     "output_type": "execute_result"
    }
   ],
   "source": [
    "a = \"Hello Word\"\n",
    "try:\n",
    "    ist = int(a)\n",
    "except:\n",
    "    ist = -1\n",
    "\n",
    "ist"
   ]
  },
  {
   "cell_type": "code",
   "execution_count": 4,
   "id": "b12ce9b4",
   "metadata": {},
   "outputs": [
    {
     "name": "stdout",
     "output_type": "stream",
     "text": [
      "20\n",
      "20\n"
     ]
    }
   ],
   "source": [
    "def double(n):\n",
    "    return n*2\n",
    "print(double(10))\n",
    "\n",
    "y = lambda x : x*2\n",
    "print(y(10))"
   ]
  },
  {
   "cell_type": "code",
   "execution_count": 6,
   "id": "ac7250bd",
   "metadata": {},
   "outputs": [
    {
     "data": {
      "text/plain": [
       "2"
      ]
     },
     "execution_count": 6,
     "metadata": {},
     "output_type": "execute_result"
    }
   ],
   "source": [
    "def großer (a,b):\n",
    "    if a >b:\n",
    "        return a \n",
    "    else:\n",
    "        return b\n",
    "großer(1,2)\n"
   ]
  },
  {
   "cell_type": "code",
   "execution_count": 10,
   "id": "eef2fdb5",
   "metadata": {},
   "outputs": [
    {
     "data": {
      "text/plain": [
       "5"
      ]
     },
     "execution_count": 10,
     "metadata": {},
     "output_type": "execute_result"
    }
   ],
   "source": [
    "r = lambda a,b: a if a>b else b\n",
    "r(5,3)"
   ]
  },
  {
   "cell_type": "code",
   "execution_count": 17,
   "id": "96ab093b",
   "metadata": {},
   "outputs": [
    {
     "name": "stdout",
     "output_type": "stream",
     "text": [
      "['Zlatan', 'Tom', 'Jonas', 'Gregory', 'Augustine', 'Alan']\n"
     ]
    },
    {
     "data": {
      "text/plain": [
       "['Augustine', 'Gregory', 'Zlatan', 'Jonas', 'Alan', 'Tom']"
      ]
     },
     "execution_count": 17,
     "metadata": {},
     "output_type": "execute_result"
    }
   ],
   "source": [
    "names =[\"Alan\", \"Gregory\", \"Zlatan\", \"Jonas\", \"Tom\", \"Augustine\"]\n",
    "names.sort(reverse =True)\n",
    "print(names)\n",
    "names.sort(key = lambda x : len(x),reverse =True)\n",
    "names"
   ]
  },
  {
   "cell_type": "code",
   "execution_count": 10,
   "id": "a8bacbd5",
   "metadata": {},
   "outputs": [
    {
     "name": "stdout",
     "output_type": "stream",
     "text": [
      "Inside Loop\n",
      "Inside Loop\n",
      "Inside Loop\n",
      "Inside else\n"
     ]
    }
   ],
   "source": [
    "counter = 0\n",
    "while counter<3:\n",
    "    print(\"Inside Loop\")\n",
    "    counter += 1\n",
    "else:\n",
    "    print(\"Inside else\")"
   ]
  },
  {
   "cell_type": "code",
   "execution_count": 13,
   "id": "0ad0a39a",
   "metadata": {},
   "outputs": [
    {
     "name": "stdout",
     "output_type": "stream",
     "text": [
      "1\n",
      "2\n",
      "3\n",
      "4\n",
      "5\n"
     ]
    }
   ],
   "source": [
    "i = 1\n",
    "while i<6:\n",
    "    print(i)\n",
    "    i+=1\n",
    "    "
   ]
  },
  {
   "cell_type": "code",
   "execution_count": 15,
   "id": "46ed7a1f",
   "metadata": {},
   "outputs": [
    {
     "name": "stdout",
     "output_type": "stream",
     "text": [
      "Give your Name: Abderrahmen\n",
      "My Name is Abderrahmen\n"
     ]
    }
   ],
   "source": [
    "def name():\n",
    "    x = input(\"Give your Name: \")\n",
    "    print(\"My Name is \" + x )\n",
    "name()"
   ]
  },
  {
   "cell_type": "code",
   "execution_count": 13,
   "id": "e6bca3c3",
   "metadata": {},
   "outputs": [
    {
     "name": "stdout",
     "output_type": "stream",
     "text": [
      "[5, 6, 6]\n"
     ]
    }
   ],
   "source": [
    "x = map(len,('apple', 'banana', 'cherry'))\n",
    "print(list(x))"
   ]
  },
  {
   "cell_type": "code",
   "execution_count": 19,
   "id": "0cf02420",
   "metadata": {},
   "outputs": [
    {
     "name": "stdout",
     "output_type": "stream",
     "text": [
      "[2.0, 2.23606797749979, 2.449489742783178, 2.6457513110645907]\n"
     ]
    }
   ],
   "source": [
    "import math as m\n",
    "m.sqrt(4)\n",
    "\n",
    "x = map(m.sqrt, (4,5,6,7))\n",
    "\n",
    "print(list(x))"
   ]
  },
  {
   "cell_type": "code",
   "execution_count": 20,
   "id": "e78e82b7",
   "metadata": {},
   "outputs": [
    {
     "data": {
      "text/plain": [
       "[6, 8, 10, 12]"
      ]
     },
     "execution_count": 20,
     "metadata": {},
     "output_type": "execute_result"
    }
   ],
   "source": [
    "T1 = (1,2,3,4)\n",
    "T2 = (5,6,7,8)\n",
    "a = list(map(lambda m,n: m+n, T1,T2))\n",
    "a"
   ]
  },
  {
   "cell_type": "code",
   "execution_count": 41,
   "id": "2bdbe5ad",
   "metadata": {},
   "outputs": [
    {
     "name": "stdout",
     "output_type": "stream",
     "text": [
      "[1 2 3]\n",
      "[[1 2 3]\n",
      " [3 4 5]]\n",
      "(2, 3)\n",
      "<class 'numpy.ndarray'>\n",
      "1 4\n",
      "[[1 2 3]\n",
      " [3 4 5]]\n",
      "(2, 3)\n",
      "(2, 3)\n",
      "\n",
      "[[1 2 3]\n",
      " [3 4 5]]\n"
     ]
    }
   ],
   "source": [
    "import numpy as np\n",
    "New_array = np.array([1,2,3])\n",
    "New_array1 = np.array([[1,2,3],[3,4,5]])\n",
    "print(New_array)\n",
    "print(New_array1)\n",
    "print(New_array1.shape)\n",
    "print(type(New_array1))\n",
    "print(New_array1[0,0],New_array1[1,1])\n",
    "print(New_array1)\n",
    "print(New_array1.shape)\n",
    "print(np.shape(New_array1))\n",
    "print()\n",
    "print(New_array1.reshape(2,3))\n"
   ]
  },
  {
   "cell_type": "code",
   "execution_count": 38,
   "id": "3b8d0c66",
   "metadata": {},
   "outputs": [
    {
     "name": "stdout",
     "output_type": "stream",
     "text": [
      "[0. 0. 0.]\n",
      "[5 5 5]\n",
      "\n",
      "[[1. 0. 0.]\n",
      " [0. 1. 0.]\n",
      " [0. 0. 1.]]\n",
      "\n",
      "[1. 1. 1. 1. 1.]\n"
     ]
    }
   ],
   "source": [
    "print(np.zeros(3))\n",
    "print(np.full(3,5))\n",
    "print()\n",
    "print(np.eye(3))\n",
    "print()\n",
    "print(np.ones(5))"
   ]
  },
  {
   "cell_type": "code",
   "execution_count": 54,
   "id": "344f5462",
   "metadata": {},
   "outputs": [
    {
     "name": "stdout",
     "output_type": "stream",
     "text": [
      "0.7522487189455431\n",
      "[[0.60203226 0.82102947]\n",
      " [0.77921727 0.43098369]]\n",
      "[[14  8]\n",
      " [ 4 15]]\n"
     ]
    }
   ],
   "source": [
    "Value = np.random.random()\n",
    "print(Value)\n",
    "Value1 = np.random.random((2,2))\n",
    "print(Value1)\n",
    "Value3 = np.random.randint(3,19,size=(2,2))\n",
    "print(Value3)\n"
   ]
  },
  {
   "cell_type": "code",
   "execution_count": 60,
   "id": "e93f632d",
   "metadata": {},
   "outputs": [
    {
     "name": "stdout",
     "output_type": "stream",
     "text": [
      "[[ 8 18  4 18]\n",
      " [ 5 11 13 18]\n",
      " [ 7 13  4  8]]\n",
      "[[47 26 20 75]\n",
      " [52 51 64 26]\n",
      " [54 75 70 46]]\n",
      "---\n",
      "[[55 44 24 93]\n",
      " [57 62 77 44]\n",
      " [61 88 74 54]]\n",
      "[[55 44 24 93]\n",
      " [57 62 77 44]\n",
      " [61 88 74 54]]\n",
      "[[-39  -8 -16 -57]\n",
      " [-47 -40 -51  -8]\n",
      " [-47 -62 -66 -38]]\n",
      "[[-39  -8 -16 -57]\n",
      " [-47 -40 -51  -8]\n",
      " [-47 -62 -66 -38]]\n"
     ]
    }
   ],
   "source": [
    "X = np.random.randint(3,19,size=(3,4))\n",
    "Y = np.random.randint(8,78,size=(3,4))\n",
    "print(X)\n",
    "print(Y)\n",
    "print(\"---\")\n",
    "A = np.add(X,Y)\n",
    "A1 = X + Y\n",
    "B = np.subtract(X,Y)\n",
    "B1 = X - Y\n",
    "print(A)\n",
    "print(A1)\n",
    "print(B)\n",
    "print(B1)"
   ]
  },
  {
   "cell_type": "code",
   "execution_count": 68,
   "id": "54ca7b31",
   "metadata": {},
   "outputs": [
    {
     "name": "stdout",
     "output_type": "stream",
     "text": [
      "[[False False  True]\n",
      " [ True  True  True]]\n",
      "[3 3 8 5]\n",
      "[3 3 8 5]\n"
     ]
    }
   ],
   "source": [
    "S = np.array([[1,2,3],[3,8,5]])\n",
    "Bool_index = S>2\n",
    "print(Bool_index)\n",
    "print(S[Bool_index])\n",
    "print(S[S>2])"
   ]
  },
  {
   "cell_type": "code",
   "execution_count": 70,
   "id": "6870e6a8",
   "metadata": {},
   "outputs": [
    {
     "name": "stdout",
     "output_type": "stream",
     "text": [
      "[[False  True]\n",
      " [ True False]]\n"
     ]
    }
   ],
   "source": [
    "a = np.array([[9, 18], [19, 10]])\n",
    "print( a > 10)"
   ]
  },
  {
   "cell_type": "code",
   "execution_count": 74,
   "id": "082946df",
   "metadata": {},
   "outputs": [
    {
     "name": "stdout",
     "output_type": "stream",
     "text": [
      "0    1\n",
      "1    2\n",
      "2    3\n",
      "dtype: int32\n",
      "0    1\n",
      "1    2\n",
      "2    3\n",
      "dtype: int64\n"
     ]
    }
   ],
   "source": [
    "import numpy as np\n",
    "import pandas as pd\n",
    "array = np.array([1,2,3])\n",
    "Serie1 = pd.Series(array)\n",
    "print(Serie1)\n",
    "List = [1,2,3]\n",
    "Serie2 = pd.Series(List)\n",
    "print(Serie2)\n"
   ]
  },
  {
   "cell_type": "code",
   "execution_count": 78,
   "id": "e1489006",
   "metadata": {},
   "outputs": [
    {
     "name": "stdout",
     "output_type": "stream",
     "text": [
      "C     8.0\n",
      "D    12.0\n",
      "G     NaN\n",
      "N     NaN\n",
      "dtype: float64\n"
     ]
    }
   ],
   "source": [
    "Color = [\"C\",\"G\",\"D\"]\n",
    "Color1 = [\"C\",\"N\",\"D\"]\n",
    "A1 = pd.Series([1,2,3], index =Color)\n",
    "A2 = pd.Series([7,4,9], index =Color1)\n",
    "print(A1+A2)"
   ]
  },
  {
   "cell_type": "code",
   "execution_count": 80,
   "id": "fc3a333e",
   "metadata": {},
   "outputs": [
    {
     "data": {
      "text/plain": [
       "6"
      ]
     },
     "execution_count": 80,
     "metadata": {},
     "output_type": "execute_result"
    }
   ],
   "source": [
    "sum(A1)"
   ]
  },
  {
   "cell_type": "code",
   "execution_count": 81,
   "id": "018ec951",
   "metadata": {},
   "outputs": [
    {
     "name": "stdout",
     "output_type": "stream",
     "text": [
      "          a         b         c         d\n",
      "0 -1.268167  1.463729 -1.284096 -1.738472\n",
      "1  1.065986 -1.085599  0.111746 -1.967236\n",
      "2 -0.185474  1.905271  0.974223  1.195657\n"
     ]
    }
   ],
   "source": [
    "import numpy as np\n",
    "import pandas as pd\n",
    "my_numpy_array=np.random.randn(3,4)\n",
    "df=pd.DataFrame(my_numpy_array, columns=list(\"abcd\"))\n",
    "print(df)"
   ]
  },
  {
   "cell_type": "code",
   "execution_count": 82,
   "id": "b4d94470",
   "metadata": {
    "scrolled": true
   },
   "outputs": [
    {
     "data": {
      "text/html": [
       "<div>\n",
       "<style scoped>\n",
       "    .dataframe tbody tr th:only-of-type {\n",
       "        vertical-align: middle;\n",
       "    }\n",
       "\n",
       "    .dataframe tbody tr th {\n",
       "        vertical-align: top;\n",
       "    }\n",
       "\n",
       "    .dataframe thead th {\n",
       "        text-align: right;\n",
       "    }\n",
       "</style>\n",
       "<table border=\"1\" class=\"dataframe\">\n",
       "  <thead>\n",
       "    <tr style=\"text-align: right;\">\n",
       "      <th></th>\n",
       "      <th>a</th>\n",
       "      <th>b</th>\n",
       "      <th>c</th>\n",
       "      <th>d</th>\n",
       "    </tr>\n",
       "  </thead>\n",
       "  <tbody>\n",
       "    <tr>\n",
       "      <th>0</th>\n",
       "      <td>-1.268167</td>\n",
       "      <td>1.463729</td>\n",
       "      <td>-1.284096</td>\n",
       "      <td>-1.738472</td>\n",
       "    </tr>\n",
       "    <tr>\n",
       "      <th>1</th>\n",
       "      <td>1.065986</td>\n",
       "      <td>-1.085599</td>\n",
       "      <td>0.111746</td>\n",
       "      <td>-1.967236</td>\n",
       "    </tr>\n",
       "    <tr>\n",
       "      <th>2</th>\n",
       "      <td>-0.185474</td>\n",
       "      <td>1.905271</td>\n",
       "      <td>0.974223</td>\n",
       "      <td>1.195657</td>\n",
       "    </tr>\n",
       "  </tbody>\n",
       "</table>\n",
       "</div>"
      ],
      "text/plain": [
       "          a         b         c         d\n",
       "0 -1.268167  1.463729 -1.284096 -1.738472\n",
       "1  1.065986 -1.085599  0.111746 -1.967236\n",
       "2 -0.185474  1.905271  0.974223  1.195657"
      ]
     },
     "execution_count": 82,
     "metadata": {},
     "output_type": "execute_result"
    }
   ],
   "source": [
    "df\n"
   ]
  },
  {
   "cell_type": "code",
   "execution_count": 87,
   "id": "28671304",
   "metadata": {},
   "outputs": [
    {
     "data": {
      "text/html": [
       "<div>\n",
       "<style scoped>\n",
       "    .dataframe tbody tr th:only-of-type {\n",
       "        vertical-align: middle;\n",
       "    }\n",
       "\n",
       "    .dataframe tbody tr th {\n",
       "        vertical-align: top;\n",
       "    }\n",
       "\n",
       "    .dataframe thead th {\n",
       "        text-align: right;\n",
       "    }\n",
       "</style>\n",
       "<table border=\"1\" class=\"dataframe\">\n",
       "  <thead>\n",
       "    <tr style=\"text-align: right;\">\n",
       "      <th></th>\n",
       "      <th>Unnamed: 0</th>\n",
       "      <th>name</th>\n",
       "      <th>age</th>\n",
       "      <th>city</th>\n",
       "    </tr>\n",
       "  </thead>\n",
       "  <tbody>\n",
       "    <tr>\n",
       "      <th>0</th>\n",
       "      <td>0</td>\n",
       "      <td>Jack</td>\n",
       "      <td>34</td>\n",
       "      <td>Paris</td>\n",
       "    </tr>\n",
       "    <tr>\n",
       "      <th>1</th>\n",
       "      <td>1</td>\n",
       "      <td>Thomas</td>\n",
       "      <td>30</td>\n",
       "      <td>Roma</td>\n",
       "    </tr>\n",
       "    <tr>\n",
       "      <th>2</th>\n",
       "      <td>2</td>\n",
       "      <td>Alexandre</td>\n",
       "      <td>16</td>\n",
       "      <td>New York</td>\n",
       "    </tr>\n",
       "  </tbody>\n",
       "</table>\n",
       "</div>"
      ],
      "text/plain": [
       "   Unnamed: 0       name  age      city\n",
       "0           0       Jack   34     Paris\n",
       "1           1     Thomas   30      Roma\n",
       "2           2  Alexandre   16  New York"
      ]
     },
     "execution_count": 87,
     "metadata": {},
     "output_type": "execute_result"
    }
   ],
   "source": [
    "New_Data = pd.read_csv(\"Exp.csv\")\n",
    "New_Data"
   ]
  },
  {
   "cell_type": "code",
   "execution_count": 88,
   "id": "e8b87abc",
   "metadata": {},
   "outputs": [
    {
     "data": {
      "text/plain": [
       "count     3.000000\n",
       "mean     26.666667\n",
       "std       9.451631\n",
       "min      16.000000\n",
       "25%      23.000000\n",
       "50%      30.000000\n",
       "75%      32.000000\n",
       "max      34.000000\n",
       "Name: age, dtype: float64"
      ]
     },
     "execution_count": 88,
     "metadata": {},
     "output_type": "execute_result"
    }
   ],
   "source": [
    "New_Data[\"age\"].describe()"
   ]
  },
  {
   "cell_type": "code",
   "execution_count": 90,
   "id": "581fd84a",
   "metadata": {},
   "outputs": [
    {
     "data": {
      "text/plain": [
       "count        3\n",
       "unique       3\n",
       "top       Jack\n",
       "freq         1\n",
       "Name: name, dtype: object"
      ]
     },
     "execution_count": 90,
     "metadata": {},
     "output_type": "execute_result"
    }
   ],
   "source": [
    "New_Data[\"name\"].describe()"
   ]
  },
  {
   "cell_type": "code",
   "execution_count": 91,
   "id": "5de8894e",
   "metadata": {},
   "outputs": [
    {
     "data": {
      "text/plain": [
       "Unnamed: 0         1\n",
       "name          Thomas\n",
       "age               30\n",
       "city            Roma\n",
       "Name: 1, dtype: object"
      ]
     },
     "execution_count": 91,
     "metadata": {},
     "output_type": "execute_result"
    }
   ],
   "source": [
    "New_Data.iloc[1]"
   ]
  },
  {
   "cell_type": "code",
   "execution_count": 93,
   "id": "959a813c",
   "metadata": {},
   "outputs": [
    {
     "data": {
      "text/html": [
       "<div>\n",
       "<style scoped>\n",
       "    .dataframe tbody tr th:only-of-type {\n",
       "        vertical-align: middle;\n",
       "    }\n",
       "\n",
       "    .dataframe tbody tr th {\n",
       "        vertical-align: top;\n",
       "    }\n",
       "\n",
       "    .dataframe thead th {\n",
       "        text-align: right;\n",
       "    }\n",
       "</style>\n",
       "<table border=\"1\" class=\"dataframe\">\n",
       "  <thead>\n",
       "    <tr style=\"text-align: right;\">\n",
       "      <th></th>\n",
       "      <th>Unnamed: 0</th>\n",
       "      <th>name</th>\n",
       "      <th>age</th>\n",
       "      <th>city</th>\n",
       "    </tr>\n",
       "  </thead>\n",
       "  <tbody>\n",
       "    <tr>\n",
       "      <th>0</th>\n",
       "      <td>0</td>\n",
       "      <td>Jack</td>\n",
       "      <td>34</td>\n",
       "      <td>Paris</td>\n",
       "    </tr>\n",
       "    <tr>\n",
       "      <th>1</th>\n",
       "      <td>1</td>\n",
       "      <td>Thomas</td>\n",
       "      <td>30</td>\n",
       "      <td>Roma</td>\n",
       "    </tr>\n",
       "    <tr>\n",
       "      <th>2</th>\n",
       "      <td>2</td>\n",
       "      <td>Alexandre</td>\n",
       "      <td>16</td>\n",
       "      <td>New York</td>\n",
       "    </tr>\n",
       "  </tbody>\n",
       "</table>\n",
       "</div>"
      ],
      "text/plain": [
       "   Unnamed: 0       name  age      city\n",
       "0           0       Jack   34     Paris\n",
       "1           1     Thomas   30      Roma\n",
       "2           2  Alexandre   16  New York"
      ]
     },
     "execution_count": 93,
     "metadata": {},
     "output_type": "execute_result"
    }
   ],
   "source": [
    "New_Data"
   ]
  },
  {
   "cell_type": "code",
   "execution_count": 94,
   "id": "771df142",
   "metadata": {},
   "outputs": [
    {
     "data": {
      "text/html": [
       "<div>\n",
       "<style scoped>\n",
       "    .dataframe tbody tr th:only-of-type {\n",
       "        vertical-align: middle;\n",
       "    }\n",
       "\n",
       "    .dataframe tbody tr th {\n",
       "        vertical-align: top;\n",
       "    }\n",
       "\n",
       "    .dataframe thead th {\n",
       "        text-align: right;\n",
       "    }\n",
       "</style>\n",
       "<table border=\"1\" class=\"dataframe\">\n",
       "  <thead>\n",
       "    <tr style=\"text-align: right;\">\n",
       "      <th></th>\n",
       "      <th>Unnamed: 0</th>\n",
       "      <th>name</th>\n",
       "      <th>age</th>\n",
       "      <th>city</th>\n",
       "    </tr>\n",
       "  </thead>\n",
       "  <tbody>\n",
       "    <tr>\n",
       "      <th>0</th>\n",
       "      <td>0</td>\n",
       "      <td>Jack</td>\n",
       "      <td>34</td>\n",
       "      <td>Paris</td>\n",
       "    </tr>\n",
       "    <tr>\n",
       "      <th>1</th>\n",
       "      <td>1</td>\n",
       "      <td>Thomas</td>\n",
       "      <td>30</td>\n",
       "      <td>Roma</td>\n",
       "    </tr>\n",
       "  </tbody>\n",
       "</table>\n",
       "</div>"
      ],
      "text/plain": [
       "   Unnamed: 0    name  age   city\n",
       "0           0    Jack   34  Paris\n",
       "1           1  Thomas   30   Roma"
      ]
     },
     "execution_count": 94,
     "metadata": {},
     "output_type": "execute_result"
    }
   ],
   "source": [
    "New_Data[New_Data[\"age\"] >17]"
   ]
  },
  {
   "cell_type": "code",
   "execution_count": 95,
   "id": "7fa84165",
   "metadata": {},
   "outputs": [
    {
     "data": {
      "text/html": [
       "<div>\n",
       "<style scoped>\n",
       "    .dataframe tbody tr th:only-of-type {\n",
       "        vertical-align: middle;\n",
       "    }\n",
       "\n",
       "    .dataframe tbody tr th {\n",
       "        vertical-align: top;\n",
       "    }\n",
       "\n",
       "    .dataframe thead th {\n",
       "        text-align: right;\n",
       "    }\n",
       "</style>\n",
       "<table border=\"1\" class=\"dataframe\">\n",
       "  <thead>\n",
       "    <tr style=\"text-align: right;\">\n",
       "      <th></th>\n",
       "      <th>Unnamed: 0</th>\n",
       "      <th>name</th>\n",
       "      <th>age</th>\n",
       "      <th>city</th>\n",
       "    </tr>\n",
       "  </thead>\n",
       "  <tbody>\n",
       "    <tr>\n",
       "      <th>0</th>\n",
       "      <td>0</td>\n",
       "      <td>Jack</td>\n",
       "      <td>34</td>\n",
       "      <td>Paris</td>\n",
       "    </tr>\n",
       "  </tbody>\n",
       "</table>\n",
       "</div>"
      ],
      "text/plain": [
       "   Unnamed: 0  name  age   city\n",
       "0           0  Jack   34  Paris"
      ]
     },
     "execution_count": 95,
     "metadata": {},
     "output_type": "execute_result"
    }
   ],
   "source": [
    "New_Data[New_Data[\"name\"] ==\"Jack\"]"
   ]
  },
  {
   "cell_type": "code",
   "execution_count": 96,
   "id": "77413641",
   "metadata": {},
   "outputs": [
    {
     "data": {
      "text/html": [
       "<div>\n",
       "<style scoped>\n",
       "    .dataframe tbody tr th:only-of-type {\n",
       "        vertical-align: middle;\n",
       "    }\n",
       "\n",
       "    .dataframe tbody tr th {\n",
       "        vertical-align: top;\n",
       "    }\n",
       "\n",
       "    .dataframe thead th {\n",
       "        text-align: right;\n",
       "    }\n",
       "</style>\n",
       "<table border=\"1\" class=\"dataframe\">\n",
       "  <thead>\n",
       "    <tr style=\"text-align: right;\">\n",
       "      <th></th>\n",
       "      <th>Unnamed: 0</th>\n",
       "      <th>name</th>\n",
       "      <th>age</th>\n",
       "      <th>city</th>\n",
       "    </tr>\n",
       "  </thead>\n",
       "  <tbody>\n",
       "    <tr>\n",
       "      <th>0</th>\n",
       "      <td>0</td>\n",
       "      <td>Jack</td>\n",
       "      <td>34</td>\n",
       "      <td>Paris</td>\n",
       "    </tr>\n",
       "    <tr>\n",
       "      <th>1</th>\n",
       "      <td>1</td>\n",
       "      <td>Thomas</td>\n",
       "      <td>30</td>\n",
       "      <td>Roma</td>\n",
       "    </tr>\n",
       "    <tr>\n",
       "      <th>2</th>\n",
       "      <td>2</td>\n",
       "      <td>Alexandre</td>\n",
       "      <td>16</td>\n",
       "      <td>New York</td>\n",
       "    </tr>\n",
       "  </tbody>\n",
       "</table>\n",
       "</div>"
      ],
      "text/plain": [
       "   Unnamed: 0       name  age      city\n",
       "0           0       Jack   34     Paris\n",
       "1           1     Thomas   30      Roma\n",
       "2           2  Alexandre   16  New York"
      ]
     },
     "execution_count": 96,
     "metadata": {},
     "output_type": "execute_result"
    }
   ],
   "source": [
    "New_Data"
   ]
  },
  {
   "cell_type": "code",
   "execution_count": 115,
   "id": "29ddee5d",
   "metadata": {},
   "outputs": [],
   "source": [
    "New_Data[\"Last name\"] = pd.Series([\"Müller\",\"John\",\"Sala\"])"
   ]
  },
  {
   "cell_type": "code",
   "execution_count": 116,
   "id": "ad7229d9",
   "metadata": {},
   "outputs": [
    {
     "data": {
      "text/html": [
       "<div>\n",
       "<style scoped>\n",
       "    .dataframe tbody tr th:only-of-type {\n",
       "        vertical-align: middle;\n",
       "    }\n",
       "\n",
       "    .dataframe tbody tr th {\n",
       "        vertical-align: top;\n",
       "    }\n",
       "\n",
       "    .dataframe thead th {\n",
       "        text-align: right;\n",
       "    }\n",
       "</style>\n",
       "<table border=\"1\" class=\"dataframe\">\n",
       "  <thead>\n",
       "    <tr style=\"text-align: right;\">\n",
       "      <th></th>\n",
       "      <th>Unnamed: 0</th>\n",
       "      <th>name</th>\n",
       "      <th>age</th>\n",
       "      <th>city</th>\n",
       "      <th>Full Name</th>\n",
       "      <th>Last name</th>\n",
       "    </tr>\n",
       "  </thead>\n",
       "  <tbody>\n",
       "    <tr>\n",
       "      <th>0</th>\n",
       "      <td>0</td>\n",
       "      <td>Jack</td>\n",
       "      <td>34</td>\n",
       "      <td>Paris</td>\n",
       "      <td>Jack Müller</td>\n",
       "      <td>Müller</td>\n",
       "    </tr>\n",
       "    <tr>\n",
       "      <th>1</th>\n",
       "      <td>1</td>\n",
       "      <td>Thomas</td>\n",
       "      <td>30</td>\n",
       "      <td>Roma</td>\n",
       "      <td>Thomas John</td>\n",
       "      <td>John</td>\n",
       "    </tr>\n",
       "    <tr>\n",
       "      <th>2</th>\n",
       "      <td>2</td>\n",
       "      <td>Alexandre</td>\n",
       "      <td>16</td>\n",
       "      <td>New York</td>\n",
       "      <td>Alexandre Sala</td>\n",
       "      <td>Sala</td>\n",
       "    </tr>\n",
       "  </tbody>\n",
       "</table>\n",
       "</div>"
      ],
      "text/plain": [
       "   Unnamed: 0       name  age      city       Full Name Last name\n",
       "0           0       Jack   34     Paris     Jack Müller    Müller\n",
       "1           1     Thomas   30      Roma     Thomas John      John\n",
       "2           2  Alexandre   16  New York  Alexandre Sala      Sala"
      ]
     },
     "execution_count": 116,
     "metadata": {},
     "output_type": "execute_result"
    }
   ],
   "source": [
    "New_Data"
   ]
  },
  {
   "cell_type": "code",
   "execution_count": 120,
   "id": "48e1f771",
   "metadata": {},
   "outputs": [
    {
     "data": {
      "text/html": [
       "<div>\n",
       "<style scoped>\n",
       "    .dataframe tbody tr th:only-of-type {\n",
       "        vertical-align: middle;\n",
       "    }\n",
       "\n",
       "    .dataframe tbody tr th {\n",
       "        vertical-align: top;\n",
       "    }\n",
       "\n",
       "    .dataframe thead th {\n",
       "        text-align: right;\n",
       "    }\n",
       "</style>\n",
       "<table border=\"1\" class=\"dataframe\">\n",
       "  <thead>\n",
       "    <tr style=\"text-align: right;\">\n",
       "      <th></th>\n",
       "      <th>Unnamed: 0</th>\n",
       "      <th>name</th>\n",
       "      <th>age</th>\n",
       "      <th>city</th>\n",
       "      <th>Last name</th>\n",
       "    </tr>\n",
       "  </thead>\n",
       "  <tbody>\n",
       "    <tr>\n",
       "      <th>0</th>\n",
       "      <td>0</td>\n",
       "      <td>Jack</td>\n",
       "      <td>34</td>\n",
       "      <td>Paris</td>\n",
       "      <td>Müller</td>\n",
       "    </tr>\n",
       "    <tr>\n",
       "      <th>1</th>\n",
       "      <td>1</td>\n",
       "      <td>Thomas</td>\n",
       "      <td>30</td>\n",
       "      <td>Roma</td>\n",
       "      <td>John</td>\n",
       "    </tr>\n",
       "    <tr>\n",
       "      <th>2</th>\n",
       "      <td>2</td>\n",
       "      <td>Alexandre</td>\n",
       "      <td>16</td>\n",
       "      <td>New York</td>\n",
       "      <td>Sala</td>\n",
       "    </tr>\n",
       "  </tbody>\n",
       "</table>\n",
       "</div>"
      ],
      "text/plain": [
       "   Unnamed: 0       name  age      city Last name\n",
       "0           0       Jack   34     Paris    Müller\n",
       "1           1     Thomas   30      Roma      John\n",
       "2           2  Alexandre   16  New York      Sala"
      ]
     },
     "execution_count": 120,
     "metadata": {},
     "output_type": "execute_result"
    }
   ],
   "source": [
    "New_Data"
   ]
  },
  {
   "cell_type": "code",
   "execution_count": 122,
   "id": "c210ce40",
   "metadata": {},
   "outputs": [
    {
     "data": {
      "text/html": [
       "<div>\n",
       "<style scoped>\n",
       "    .dataframe tbody tr th:only-of-type {\n",
       "        vertical-align: middle;\n",
       "    }\n",
       "\n",
       "    .dataframe tbody tr th {\n",
       "        vertical-align: top;\n",
       "    }\n",
       "\n",
       "    .dataframe thead th {\n",
       "        text-align: right;\n",
       "    }\n",
       "</style>\n",
       "<table border=\"1\" class=\"dataframe\">\n",
       "  <thead>\n",
       "    <tr style=\"text-align: right;\">\n",
       "      <th></th>\n",
       "      <th>Unnamed: 0</th>\n",
       "      <th>name</th>\n",
       "      <th>age</th>\n",
       "      <th>city</th>\n",
       "      <th>Last name</th>\n",
       "    </tr>\n",
       "  </thead>\n",
       "  <tbody>\n",
       "    <tr>\n",
       "      <th>0</th>\n",
       "      <td>0</td>\n",
       "      <td>Jack</td>\n",
       "      <td>34</td>\n",
       "      <td>Paris</td>\n",
       "      <td>Müller</td>\n",
       "    </tr>\n",
       "    <tr>\n",
       "      <th>1</th>\n",
       "      <td>1</td>\n",
       "      <td>Thomas</td>\n",
       "      <td>30</td>\n",
       "      <td>Roma</td>\n",
       "      <td>John</td>\n",
       "    </tr>\n",
       "    <tr>\n",
       "      <th>2</th>\n",
       "      <td>2</td>\n",
       "      <td>Alexandre</td>\n",
       "      <td>16</td>\n",
       "      <td>New York</td>\n",
       "      <td>Sala</td>\n",
       "    </tr>\n",
       "  </tbody>\n",
       "</table>\n",
       "</div>"
      ],
      "text/plain": [
       "   Unnamed: 0       name  age      city Last name\n",
       "0           0       Jack   34     Paris    Müller\n",
       "1           1     Thomas   30      Roma      John\n",
       "2           2  Alexandre   16  New York      Sala"
      ]
     },
     "execution_count": 122,
     "metadata": {},
     "output_type": "execute_result"
    }
   ],
   "source": [
    "New_Data[\"Full Name\"] =  New_Data[\"name\"] + \" \" + New_Data[\"Last name\"]\n",
    "\n",
    "New_Data = New_Data.drop(\"Full Name\", axis = 1)\n",
    "New_Data"
   ]
  },
  {
   "cell_type": "code",
   "execution_count": 123,
   "id": "5b2effbd",
   "metadata": {},
   "outputs": [],
   "source": [
    "New_Data[\"Full name\"] =  New_Data[\"name\"] + \" \" + New_Data[\"Last name\"]\n"
   ]
  },
  {
   "cell_type": "code",
   "execution_count": 124,
   "id": "7365fdef",
   "metadata": {},
   "outputs": [
    {
     "data": {
      "text/html": [
       "<div>\n",
       "<style scoped>\n",
       "    .dataframe tbody tr th:only-of-type {\n",
       "        vertical-align: middle;\n",
       "    }\n",
       "\n",
       "    .dataframe tbody tr th {\n",
       "        vertical-align: top;\n",
       "    }\n",
       "\n",
       "    .dataframe thead th {\n",
       "        text-align: right;\n",
       "    }\n",
       "</style>\n",
       "<table border=\"1\" class=\"dataframe\">\n",
       "  <thead>\n",
       "    <tr style=\"text-align: right;\">\n",
       "      <th></th>\n",
       "      <th>Unnamed: 0</th>\n",
       "      <th>name</th>\n",
       "      <th>age</th>\n",
       "      <th>city</th>\n",
       "      <th>Last name</th>\n",
       "      <th>Full name</th>\n",
       "    </tr>\n",
       "  </thead>\n",
       "  <tbody>\n",
       "    <tr>\n",
       "      <th>0</th>\n",
       "      <td>0</td>\n",
       "      <td>Jack</td>\n",
       "      <td>34</td>\n",
       "      <td>Paris</td>\n",
       "      <td>Müller</td>\n",
       "      <td>Jack Müller</td>\n",
       "    </tr>\n",
       "    <tr>\n",
       "      <th>1</th>\n",
       "      <td>1</td>\n",
       "      <td>Thomas</td>\n",
       "      <td>30</td>\n",
       "      <td>Roma</td>\n",
       "      <td>John</td>\n",
       "      <td>Thomas John</td>\n",
       "    </tr>\n",
       "    <tr>\n",
       "      <th>2</th>\n",
       "      <td>2</td>\n",
       "      <td>Alexandre</td>\n",
       "      <td>16</td>\n",
       "      <td>New York</td>\n",
       "      <td>Sala</td>\n",
       "      <td>Alexandre Sala</td>\n",
       "    </tr>\n",
       "  </tbody>\n",
       "</table>\n",
       "</div>"
      ],
      "text/plain": [
       "   Unnamed: 0       name  age      city Last name       Full name\n",
       "0           0       Jack   34     Paris    Müller     Jack Müller\n",
       "1           1     Thomas   30      Roma      John     Thomas John\n",
       "2           2  Alexandre   16  New York      Sala  Alexandre Sala"
      ]
     },
     "execution_count": 124,
     "metadata": {},
     "output_type": "execute_result"
    }
   ],
   "source": [
    "New_Data"
   ]
  },
  {
   "cell_type": "code",
   "execution_count": 126,
   "id": "ae2633e3",
   "metadata": {},
   "outputs": [
    {
     "data": {
      "text/html": [
       "<div>\n",
       "<style scoped>\n",
       "    .dataframe tbody tr th:only-of-type {\n",
       "        vertical-align: middle;\n",
       "    }\n",
       "\n",
       "    .dataframe tbody tr th {\n",
       "        vertical-align: top;\n",
       "    }\n",
       "\n",
       "    .dataframe thead th {\n",
       "        text-align: right;\n",
       "    }\n",
       "</style>\n",
       "<table border=\"1\" class=\"dataframe\">\n",
       "  <thead>\n",
       "    <tr style=\"text-align: right;\">\n",
       "      <th></th>\n",
       "      <th>Unnamed: 0</th>\n",
       "      <th>age</th>\n",
       "      <th>city</th>\n",
       "      <th>Full name</th>\n",
       "    </tr>\n",
       "  </thead>\n",
       "  <tbody>\n",
       "    <tr>\n",
       "      <th>0</th>\n",
       "      <td>0</td>\n",
       "      <td>34</td>\n",
       "      <td>Paris</td>\n",
       "      <td>Jack Müller</td>\n",
       "    </tr>\n",
       "    <tr>\n",
       "      <th>1</th>\n",
       "      <td>1</td>\n",
       "      <td>30</td>\n",
       "      <td>Roma</td>\n",
       "      <td>Thomas John</td>\n",
       "    </tr>\n",
       "    <tr>\n",
       "      <th>2</th>\n",
       "      <td>2</td>\n",
       "      <td>16</td>\n",
       "      <td>New York</td>\n",
       "      <td>Alexandre Sala</td>\n",
       "    </tr>\n",
       "  </tbody>\n",
       "</table>\n",
       "</div>"
      ],
      "text/plain": [
       "   Unnamed: 0  age      city       Full name\n",
       "0           0   34     Paris     Jack Müller\n",
       "1           1   30      Roma     Thomas John\n",
       "2           2   16  New York  Alexandre Sala"
      ]
     },
     "execution_count": 126,
     "metadata": {},
     "output_type": "execute_result"
    }
   ],
   "source": [
    "New_Data = New_Data.drop([\"name\",\"Last name\"], axis = 1)\n",
    "New_Data"
   ]
  },
  {
   "cell_type": "code",
   "execution_count": 135,
   "id": "f4b829ff",
   "metadata": {},
   "outputs": [
    {
     "data": {
      "text/html": [
       "<div>\n",
       "<style scoped>\n",
       "    .dataframe tbody tr th:only-of-type {\n",
       "        vertical-align: middle;\n",
       "    }\n",
       "\n",
       "    .dataframe tbody tr th {\n",
       "        vertical-align: top;\n",
       "    }\n",
       "\n",
       "    .dataframe thead th {\n",
       "        text-align: right;\n",
       "    }\n",
       "</style>\n",
       "<table border=\"1\" class=\"dataframe\">\n",
       "  <thead>\n",
       "    <tr style=\"text-align: right;\">\n",
       "      <th></th>\n",
       "      <th>Unnamed: 0</th>\n",
       "      <th>age</th>\n",
       "      <th>city</th>\n",
       "      <th>Full name</th>\n",
       "    </tr>\n",
       "  </thead>\n",
       "  <tbody>\n",
       "    <tr>\n",
       "      <th>0</th>\n",
       "      <td>0</td>\n",
       "      <td>34</td>\n",
       "      <td>Paris</td>\n",
       "      <td>Jack Müller</td>\n",
       "    </tr>\n",
       "    <tr>\n",
       "      <th>1</th>\n",
       "      <td>1</td>\n",
       "      <td>30</td>\n",
       "      <td>Roma</td>\n",
       "      <td>Thomas John</td>\n",
       "    </tr>\n",
       "    <tr>\n",
       "      <th>2</th>\n",
       "      <td>2</td>\n",
       "      <td>16</td>\n",
       "      <td>New York</td>\n",
       "      <td>Alexandre Sala</td>\n",
       "    </tr>\n",
       "  </tbody>\n",
       "</table>\n",
       "</div>"
      ],
      "text/plain": [
       "   Unnamed: 0  age      city       Full name\n",
       "0           0   34     Paris     Jack Müller\n",
       "1           1   30      Roma     Thomas John\n",
       "2           2   16  New York  Alexandre Sala"
      ]
     },
     "execution_count": 135,
     "metadata": {},
     "output_type": "execute_result"
    }
   ],
   "source": [
    "D = New_Data.dropna(axis =0, how = \"all\", inplace =False,thresh=3)\n",
    "D"
   ]
  },
  {
   "cell_type": "code",
   "execution_count": 148,
   "id": "da027d38",
   "metadata": {},
   "outputs": [],
   "source": [
    "New_Data.iloc[1:2,1:2] = \"NaN\""
   ]
  },
  {
   "cell_type": "code",
   "execution_count": 150,
   "id": "528f5cc8",
   "metadata": {},
   "outputs": [
    {
     "data": {
      "text/html": [
       "<div>\n",
       "<style scoped>\n",
       "    .dataframe tbody tr th:only-of-type {\n",
       "        vertical-align: middle;\n",
       "    }\n",
       "\n",
       "    .dataframe tbody tr th {\n",
       "        vertical-align: top;\n",
       "    }\n",
       "\n",
       "    .dataframe thead th {\n",
       "        text-align: right;\n",
       "    }\n",
       "</style>\n",
       "<table border=\"1\" class=\"dataframe\">\n",
       "  <thead>\n",
       "    <tr style=\"text-align: right;\">\n",
       "      <th></th>\n",
       "      <th>Unnamed: 0</th>\n",
       "      <th>age</th>\n",
       "      <th>city</th>\n",
       "      <th>Full name</th>\n",
       "    </tr>\n",
       "  </thead>\n",
       "  <tbody>\n",
       "    <tr>\n",
       "      <th>0</th>\n",
       "      <td>0</td>\n",
       "      <td>34</td>\n",
       "      <td>Paris</td>\n",
       "      <td>Jack Müller</td>\n",
       "    </tr>\n",
       "    <tr>\n",
       "      <th>1</th>\n",
       "      <td>1</td>\n",
       "      <td>NaN</td>\n",
       "      <td>Roma</td>\n",
       "      <td>Thomas John</td>\n",
       "    </tr>\n",
       "    <tr>\n",
       "      <th>2</th>\n",
       "      <td>2</td>\n",
       "      <td>16</td>\n",
       "      <td>New York</td>\n",
       "      <td>Alexandre Sala</td>\n",
       "    </tr>\n",
       "  </tbody>\n",
       "</table>\n",
       "</div>"
      ],
      "text/plain": [
       "   Unnamed: 0  age      city       Full name\n",
       "0           0   34     Paris     Jack Müller\n",
       "1           1  NaN      Roma     Thomas John\n",
       "2           2   16  New York  Alexandre Sala"
      ]
     },
     "execution_count": 150,
     "metadata": {},
     "output_type": "execute_result"
    }
   ],
   "source": [
    "New_Data"
   ]
  },
  {
   "cell_type": "code",
   "execution_count": 157,
   "id": "8f3219e1",
   "metadata": {},
   "outputs": [
    {
     "data": {
      "text/html": [
       "<div>\n",
       "<style scoped>\n",
       "    .dataframe tbody tr th:only-of-type {\n",
       "        vertical-align: middle;\n",
       "    }\n",
       "\n",
       "    .dataframe tbody tr th {\n",
       "        vertical-align: top;\n",
       "    }\n",
       "\n",
       "    .dataframe thead th {\n",
       "        text-align: right;\n",
       "    }\n",
       "</style>\n",
       "<table border=\"1\" class=\"dataframe\">\n",
       "  <thead>\n",
       "    <tr style=\"text-align: right;\">\n",
       "      <th></th>\n",
       "      <th>Unnamed: 0</th>\n",
       "      <th>age</th>\n",
       "      <th>city</th>\n",
       "      <th>Full name</th>\n",
       "    </tr>\n",
       "  </thead>\n",
       "  <tbody>\n",
       "    <tr>\n",
       "      <th>0</th>\n",
       "      <td>0</td>\n",
       "      <td>34</td>\n",
       "      <td>Paris</td>\n",
       "      <td>Jack Müller</td>\n",
       "    </tr>\n",
       "    <tr>\n",
       "      <th>1</th>\n",
       "      <td>1</td>\n",
       "      <td>NaN</td>\n",
       "      <td>Roma</td>\n",
       "      <td>Thomas John</td>\n",
       "    </tr>\n",
       "    <tr>\n",
       "      <th>2</th>\n",
       "      <td>2</td>\n",
       "      <td>16</td>\n",
       "      <td>New York</td>\n",
       "      <td>Alexandre Sala</td>\n",
       "    </tr>\n",
       "  </tbody>\n",
       "</table>\n",
       "</div>"
      ],
      "text/plain": [
       "   Unnamed: 0  age      city       Full name\n",
       "0           0   34     Paris     Jack Müller\n",
       "1           1  NaN      Roma     Thomas John\n",
       "2           2   16  New York  Alexandre Sala"
      ]
     },
     "execution_count": 157,
     "metadata": {},
     "output_type": "execute_result"
    }
   ],
   "source": [
    "D = New_Data.dropna(axis =1)\n",
    "D"
   ]
  },
  {
   "cell_type": "code",
   "execution_count": 158,
   "id": "7541db39",
   "metadata": {},
   "outputs": [
    {
     "data": {
      "text/html": [
       "<div>\n",
       "<style scoped>\n",
       "    .dataframe tbody tr th:only-of-type {\n",
       "        vertical-align: middle;\n",
       "    }\n",
       "\n",
       "    .dataframe tbody tr th {\n",
       "        vertical-align: top;\n",
       "    }\n",
       "\n",
       "    .dataframe thead th {\n",
       "        text-align: right;\n",
       "    }\n",
       "</style>\n",
       "<table border=\"1\" class=\"dataframe\">\n",
       "  <thead>\n",
       "    <tr style=\"text-align: right;\">\n",
       "      <th></th>\n",
       "      <th>Unnamed: 0</th>\n",
       "      <th>age</th>\n",
       "      <th>city</th>\n",
       "      <th>Full name</th>\n",
       "    </tr>\n",
       "  </thead>\n",
       "  <tbody>\n",
       "    <tr>\n",
       "      <th>0</th>\n",
       "      <td>0</td>\n",
       "      <td>34</td>\n",
       "      <td>Paris</td>\n",
       "      <td>Jack Müller</td>\n",
       "    </tr>\n",
       "    <tr>\n",
       "      <th>1</th>\n",
       "      <td>1</td>\n",
       "      <td>NaN</td>\n",
       "      <td>Roma</td>\n",
       "      <td>Thomas John</td>\n",
       "    </tr>\n",
       "    <tr>\n",
       "      <th>2</th>\n",
       "      <td>2</td>\n",
       "      <td>16</td>\n",
       "      <td>New York</td>\n",
       "      <td>Alexandre Sala</td>\n",
       "    </tr>\n",
       "  </tbody>\n",
       "</table>\n",
       "</div>"
      ],
      "text/plain": [
       "   Unnamed: 0  age      city       Full name\n",
       "0           0   34     Paris     Jack Müller\n",
       "1           1  NaN      Roma     Thomas John\n",
       "2           2   16  New York  Alexandre Sala"
      ]
     },
     "execution_count": 158,
     "metadata": {},
     "output_type": "execute_result"
    }
   ],
   "source": [
    "D"
   ]
  },
  {
   "cell_type": "code",
   "execution_count": 159,
   "id": "8d1fbc0e",
   "metadata": {},
   "outputs": [
    {
     "data": {
      "text/html": [
       "<div>\n",
       "<style scoped>\n",
       "    .dataframe tbody tr th:only-of-type {\n",
       "        vertical-align: middle;\n",
       "    }\n",
       "\n",
       "    .dataframe tbody tr th {\n",
       "        vertical-align: top;\n",
       "    }\n",
       "\n",
       "    .dataframe thead th {\n",
       "        text-align: right;\n",
       "    }\n",
       "</style>\n",
       "<table border=\"1\" class=\"dataframe\">\n",
       "  <thead>\n",
       "    <tr style=\"text-align: right;\">\n",
       "      <th></th>\n",
       "      <th>Unnamed: 0</th>\n",
       "      <th>age</th>\n",
       "      <th>city</th>\n",
       "      <th>Full name</th>\n",
       "    </tr>\n",
       "  </thead>\n",
       "  <tbody>\n",
       "    <tr>\n",
       "      <th>0</th>\n",
       "      <td>0</td>\n",
       "      <td>34</td>\n",
       "      <td>Paris</td>\n",
       "      <td>Jack Müller</td>\n",
       "    </tr>\n",
       "    <tr>\n",
       "      <th>1</th>\n",
       "      <td>1</td>\n",
       "      <td>NaN</td>\n",
       "      <td>Roma</td>\n",
       "      <td>Thomas John</td>\n",
       "    </tr>\n",
       "    <tr>\n",
       "      <th>2</th>\n",
       "      <td>2</td>\n",
       "      <td>16</td>\n",
       "      <td>New York</td>\n",
       "      <td>Alexandre Sala</td>\n",
       "    </tr>\n",
       "  </tbody>\n",
       "</table>\n",
       "</div>"
      ],
      "text/plain": [
       "   Unnamed: 0  age      city       Full name\n",
       "0           0   34     Paris     Jack Müller\n",
       "1           1  NaN      Roma     Thomas John\n",
       "2           2   16  New York  Alexandre Sala"
      ]
     },
     "execution_count": 159,
     "metadata": {},
     "output_type": "execute_result"
    }
   ],
   "source": [
    "New_Data"
   ]
  },
  {
   "cell_type": "code",
   "execution_count": 163,
   "id": "7c3bba9b",
   "metadata": {},
   "outputs": [],
   "source": [
    "NN = pd.concat([New_Data,D])"
   ]
  },
  {
   "cell_type": "code",
   "execution_count": 164,
   "id": "bf8b2f91",
   "metadata": {},
   "outputs": [
    {
     "data": {
      "text/html": [
       "<div>\n",
       "<style scoped>\n",
       "    .dataframe tbody tr th:only-of-type {\n",
       "        vertical-align: middle;\n",
       "    }\n",
       "\n",
       "    .dataframe tbody tr th {\n",
       "        vertical-align: top;\n",
       "    }\n",
       "\n",
       "    .dataframe thead th {\n",
       "        text-align: right;\n",
       "    }\n",
       "</style>\n",
       "<table border=\"1\" class=\"dataframe\">\n",
       "  <thead>\n",
       "    <tr style=\"text-align: right;\">\n",
       "      <th></th>\n",
       "      <th>Unnamed: 0</th>\n",
       "      <th>age</th>\n",
       "      <th>city</th>\n",
       "      <th>Full name</th>\n",
       "    </tr>\n",
       "  </thead>\n",
       "  <tbody>\n",
       "    <tr>\n",
       "      <th>0</th>\n",
       "      <td>0</td>\n",
       "      <td>34</td>\n",
       "      <td>Paris</td>\n",
       "      <td>Jack Müller</td>\n",
       "    </tr>\n",
       "    <tr>\n",
       "      <th>1</th>\n",
       "      <td>1</td>\n",
       "      <td>NaN</td>\n",
       "      <td>Roma</td>\n",
       "      <td>Thomas John</td>\n",
       "    </tr>\n",
       "    <tr>\n",
       "      <th>2</th>\n",
       "      <td>2</td>\n",
       "      <td>16</td>\n",
       "      <td>New York</td>\n",
       "      <td>Alexandre Sala</td>\n",
       "    </tr>\n",
       "    <tr>\n",
       "      <th>0</th>\n",
       "      <td>0</td>\n",
       "      <td>34</td>\n",
       "      <td>Paris</td>\n",
       "      <td>Jack Müller</td>\n",
       "    </tr>\n",
       "    <tr>\n",
       "      <th>1</th>\n",
       "      <td>1</td>\n",
       "      <td>NaN</td>\n",
       "      <td>Roma</td>\n",
       "      <td>Thomas John</td>\n",
       "    </tr>\n",
       "    <tr>\n",
       "      <th>2</th>\n",
       "      <td>2</td>\n",
       "      <td>16</td>\n",
       "      <td>New York</td>\n",
       "      <td>Alexandre Sala</td>\n",
       "    </tr>\n",
       "  </tbody>\n",
       "</table>\n",
       "</div>"
      ],
      "text/plain": [
       "   Unnamed: 0  age      city       Full name\n",
       "0           0   34     Paris     Jack Müller\n",
       "1           1  NaN      Roma     Thomas John\n",
       "2           2   16  New York  Alexandre Sala\n",
       "0           0   34     Paris     Jack Müller\n",
       "1           1  NaN      Roma     Thomas John\n",
       "2           2   16  New York  Alexandre Sala"
      ]
     },
     "execution_count": 164,
     "metadata": {},
     "output_type": "execute_result"
    }
   ],
   "source": [
    "NN\n"
   ]
  },
  {
   "cell_type": "code",
   "execution_count": 168,
   "id": "5a087a03",
   "metadata": {},
   "outputs": [
    {
     "name": "stdout",
     "output_type": "stream",
     "text": [
      "Enter the input 8\n",
      "True\n"
     ]
    }
   ],
   "source": [
    "user_input = input(\"Enter the input \")\n",
    "\n",
    "try:\n",
    "    int(user_input)\n",
    "    it_is = True\n",
    "except ValueError:\n",
    "    it_is = False\n",
    "\n",
    "print(it_is)"
   ]
  },
  {
   "cell_type": "code",
   "execution_count": 172,
   "id": "4501c70a",
   "metadata": {},
   "outputs": [
    {
     "name": "stdout",
     "output_type": "stream",
     "text": [
      "Enter the input ö\n",
      "Do it again\n",
      "Enter the input a\n",
      "Do it again\n",
      "Enter the input 1\n"
     ]
    }
   ],
   "source": [
    "a = input(\"Enter the input \")\n",
    "it_is = False\n",
    "while it_is == False:\n",
    "    try:\n",
    "        int(a)\n",
    "        it_is = True\n",
    "    except ValueError:\n",
    "        it_is = False\n",
    "        print(\"Do it again\")\n",
    "        a = input(\"Enter the input \")    "
   ]
  },
  {
   "cell_type": "code",
   "execution_count": 178,
   "id": "c9c5da12",
   "metadata": {},
   "outputs": [
    {
     "name": "stdout",
     "output_type": "stream",
     "text": [
      "Enter the input l\n",
      "The Given Number is not an integer, Please give an integer:\n",
      "Enter the input 1\n"
     ]
    }
   ],
   "source": [
    "it_is = False\n",
    "while it_is == False:\n",
    "    a = input(\"Enter the input \")\n",
    "    try:\n",
    "        int(a)\n",
    "        it_is = True\n",
    "    except ValueError:\n",
    "        it_is = False\n",
    "        print(\"The Given Number is not an integer, Please give an integer:\")"
   ]
  },
  {
   "cell_type": "code",
   "execution_count": 208,
   "id": "5aab9125",
   "metadata": {},
   "outputs": [
    {
     "name": "stdout",
     "output_type": "stream",
     "text": [
      "Given Nummer: 2.0\n"
     ]
    },
    {
     "data": {
      "text/plain": [
       "2"
      ]
     },
     "execution_count": 208,
     "metadata": {},
     "output_type": "execute_result"
    }
   ],
   "source": [
    "Number = input(\"Given Nummer: \")\n",
    "Number = float(Number)\n",
    "int(Number)\n",
    "\n",
    "#print(int(Number))"
   ]
  },
  {
   "cell_type": "code",
   "execution_count": 206,
   "id": "072a6706",
   "metadata": {},
   "outputs": [
    {
     "data": {
      "text/plain": [
       "5"
      ]
     },
     "execution_count": 206,
     "metadata": {},
     "output_type": "execute_result"
    }
   ],
   "source": [
    "num1 = \"5.9\"\n",
    "num3 = float(num1)\n",
    "\n",
    "int(num3)\n"
   ]
  },
  {
   "cell_type": "code",
   "execution_count": 210,
   "id": "8daaf527",
   "metadata": {},
   "outputs": [
    {
     "data": {
      "text/plain": [
       "'1'"
      ]
     },
     "execution_count": 210,
     "metadata": {},
     "output_type": "execute_result"
    }
   ],
   "source": [
    "a == -0.2 >-1.0 \n",
    "a"
   ]
  },
  {
   "cell_type": "code",
   "execution_count": 5,
   "id": "3ff6781c",
   "metadata": {},
   "outputs": [
    {
     "data": {
      "text/plain": [
       "'.txt'"
      ]
     },
     "execution_count": 5,
     "metadata": {},
     "output_type": "execute_result"
    }
   ],
   "source": [
    "import os.path\n",
    "filename =\"Lec2.txt\"\n",
    "extension = os.path.splitext(filename)[1]\n",
    "extension"
   ]
  },
  {
   "cell_type": "code",
   "execution_count": 6,
   "id": "b67a5ac6",
   "metadata": {},
   "outputs": [
    {
     "ename": "NameError",
     "evalue": "name 'filetype' is not defined",
     "output_type": "error",
     "traceback": [
      "\u001b[1;31m---------------------------------------------------------------------------\u001b[0m",
      "\u001b[1;31mNameError\u001b[0m                                 Traceback (most recent call last)",
      "\u001b[1;32mC:\\Users\\ABDERR~1\\AppData\\Local\\Temp/ipykernel_16336/1492355895.py\u001b[0m in \u001b[0;36m<module>\u001b[1;34m\u001b[0m\n\u001b[0;32m      1\u001b[0m \u001b[0mfiles\u001b[0m \u001b[1;33m=\u001b[0m \u001b[0mos\u001b[0m\u001b[1;33m.\u001b[0m\u001b[0mlistdir\u001b[0m\u001b[1;33m(\u001b[0m\u001b[1;34m\".\"\u001b[0m\u001b[1;33m)\u001b[0m\u001b[1;33m\u001b[0m\u001b[1;33m\u001b[0m\u001b[0m\n\u001b[0;32m      2\u001b[0m \u001b[1;32mfor\u001b[0m \u001b[0mf\u001b[0m \u001b[1;32min\u001b[0m \u001b[0mfiles\u001b[0m\u001b[1;33m:\u001b[0m\u001b[1;33m\u001b[0m\u001b[1;33m\u001b[0m\u001b[0m\n\u001b[1;32m----> 3\u001b[1;33m     \u001b[0mos\u001b[0m\u001b[1;33m.\u001b[0m\u001b[0mrename\u001b[0m\u001b[1;33m(\u001b[0m\u001b[0mf\u001b[0m\u001b[1;33m,\u001b[0m \u001b[0mf\u001b[0m\u001b[1;33m+\u001b[0m\u001b[0mfiletype\u001b[0m\u001b[1;33m(\u001b[0m\u001b[0mf\u001b[0m\u001b[1;33m)\u001b[0m\u001b[1;33m)\u001b[0m\u001b[1;33m\u001b[0m\u001b[1;33m\u001b[0m\u001b[0m\n\u001b[0m",
      "\u001b[1;31mNameError\u001b[0m: name 'filetype' is not defined"
     ]
    }
   ],
   "source": [
    "files = os.listdir(\".\")\n",
    "for f in files:\n",
    "    os.rename(f, f+filetype(f))"
   ]
  },
  {
   "cell_type": "code",
   "execution_count": 8,
   "id": "335db69a",
   "metadata": {},
   "outputs": [
    {
     "name": "stdout",
     "output_type": "stream",
     "text": [
      "['C:\\\\Users\\\\Abderrahmen Mansour\\\\anaconda3\\\\lib\\\\site-packages\\\\ipykernel_launcher.py', '-f', 'C:\\\\Users\\\\Abderrahmen Mansour\\\\AppData\\\\Roaming\\\\jupyter\\\\runtime\\\\kernel-72ca8898-c162-498b-a2cf-ceea826d9cbb.json']\n"
     ]
    }
   ],
   "source": [
    "import sys \n",
    "\n",
    "print(sys.argv)"
   ]
  },
  {
   "cell_type": "code",
   "execution_count": 9,
   "id": "4aa889d7",
   "metadata": {},
   "outputs": [
    {
     "ename": "NameError",
     "evalue": "name '__file__' is not defined",
     "output_type": "error",
     "traceback": [
      "\u001b[1;31m---------------------------------------------------------------------------\u001b[0m",
      "\u001b[1;31mNameError\u001b[0m                                 Traceback (most recent call last)",
      "\u001b[1;32mC:\\Users\\ABDERR~1\\AppData\\Local\\Temp/ipykernel_16336/1315704912.py\u001b[0m in \u001b[0;36m<module>\u001b[1;34m\u001b[0m\n\u001b[0;32m      1\u001b[0m \u001b[1;32mimport\u001b[0m \u001b[0mos\u001b[0m\u001b[1;33m\u001b[0m\u001b[1;33m\u001b[0m\u001b[0m\n\u001b[1;32m----> 2\u001b[1;33m \u001b[0mprint\u001b[0m\u001b[1;33m(\u001b[0m\u001b[1;34m\"Current File Name : \"\u001b[0m\u001b[1;33m,\u001b[0m\u001b[0mos\u001b[0m\u001b[1;33m.\u001b[0m\u001b[0mpath\u001b[0m\u001b[1;33m.\u001b[0m\u001b[0mrealpath\u001b[0m\u001b[1;33m(\u001b[0m\u001b[0m__file__\u001b[0m\u001b[1;33m)\u001b[0m\u001b[1;33m)\u001b[0m\u001b[1;33m\u001b[0m\u001b[1;33m\u001b[0m\u001b[0m\n\u001b[0m",
      "\u001b[1;31mNameError\u001b[0m: name '__file__' is not defined"
     ]
    }
   ],
   "source": [
    "import os\n",
    "print(\"Current File Name : \",os.path.realpath(__file__))"
   ]
  },
  {
   "cell_type": "code",
   "execution_count": 10,
   "id": "2ead8949",
   "metadata": {},
   "outputs": [
    {
     "ename": "NameError",
     "evalue": "name 'your_path' is not defined",
     "output_type": "error",
     "traceback": [
      "\u001b[1;31m---------------------------------------------------------------------------\u001b[0m",
      "\u001b[1;31mNameError\u001b[0m                                 Traceback (most recent call last)",
      "\u001b[1;32mC:\\Users\\ABDERR~1\\AppData\\Local\\Temp/ipykernel_16336/2742683551.py\u001b[0m in \u001b[0;36m<module>\u001b[1;34m\u001b[0m\n\u001b[0;32m      1\u001b[0m \u001b[1;32mimport\u001b[0m \u001b[0mos\u001b[0m\u001b[1;33m\u001b[0m\u001b[1;33m\u001b[0m\u001b[0m\n\u001b[1;32m----> 2\u001b[1;33m \u001b[0mprint\u001b[0m\u001b[1;33m(\u001b[0m\u001b[0mos\u001b[0m\u001b[1;33m.\u001b[0m\u001b[0mpath\u001b[0m\u001b[1;33m.\u001b[0m\u001b[0mbasename\u001b[0m\u001b[1;33m(\u001b[0m\u001b[0myour_path\u001b[0m\u001b[1;33m)\u001b[0m\u001b[1;33m)\u001b[0m\u001b[1;33m\u001b[0m\u001b[1;33m\u001b[0m\u001b[0m\n\u001b[0m",
      "\u001b[1;31mNameError\u001b[0m: name 'your_path' is not defined"
     ]
    }
   ],
   "source": [
    "import os\n",
    "print(os.path.basename(your_path))"
   ]
  },
  {
   "cell_type": "code",
   "execution_count": 11,
   "id": "cd4903b3",
   "metadata": {},
   "outputs": [
    {
     "ename": "NameError",
     "evalue": "name 'your_path' is not defined",
     "output_type": "error",
     "traceback": [
      "\u001b[1;31m---------------------------------------------------------------------------\u001b[0m",
      "\u001b[1;31mNameError\u001b[0m                                 Traceback (most recent call last)",
      "\u001b[1;32mC:\\Users\\ABDERR~1\\AppData\\Local\\Temp/ipykernel_16336/2742683551.py\u001b[0m in \u001b[0;36m<module>\u001b[1;34m\u001b[0m\n\u001b[0;32m      1\u001b[0m \u001b[1;32mimport\u001b[0m \u001b[0mos\u001b[0m\u001b[1;33m\u001b[0m\u001b[1;33m\u001b[0m\u001b[0m\n\u001b[1;32m----> 2\u001b[1;33m \u001b[0mprint\u001b[0m\u001b[1;33m(\u001b[0m\u001b[0mos\u001b[0m\u001b[1;33m.\u001b[0m\u001b[0mpath\u001b[0m\u001b[1;33m.\u001b[0m\u001b[0mbasename\u001b[0m\u001b[1;33m(\u001b[0m\u001b[0myour_path\u001b[0m\u001b[1;33m)\u001b[0m\u001b[1;33m)\u001b[0m\u001b[1;33m\u001b[0m\u001b[1;33m\u001b[0m\u001b[0m\n\u001b[0m",
      "\u001b[1;31mNameError\u001b[0m: name 'your_path' is not defined"
     ]
    }
   ],
   "source": [
    "import os\n",
    "print(os.path.basename(your_path))"
   ]
  },
  {
   "cell_type": "code",
   "execution_count": 12,
   "id": "b22787e6",
   "metadata": {},
   "outputs": [
    {
     "data": {
      "text/plain": [
       "'C:\\\\Users\\\\Abderrahmen Mansour\\\\Documents\\\\Project\\\\Projects\\\\IA\\\\Lec'"
      ]
     },
     "execution_count": 12,
     "metadata": {},
     "output_type": "execute_result"
    }
   ],
   "source": [
    "os.getcwd()"
   ]
  },
  {
   "cell_type": "code",
   "execution_count": 13,
   "id": "0640ec96",
   "metadata": {},
   "outputs": [
    {
     "data": {
      "text/plain": [
       "['.ipynb_checkpoints', 'Exp.csv', 'Lec1.ipynb', 'Lec2.ipynb']"
      ]
     },
     "execution_count": 13,
     "metadata": {},
     "output_type": "execute_result"
    }
   ],
   "source": [
    "os.listdir()"
   ]
  },
  {
   "cell_type": "code",
   "execution_count": 20,
   "id": "6ce9c483",
   "metadata": {},
   "outputs": [
    {
     "data": {
      "text/plain": [
       "['C:\\\\Users\\\\Abderrahmen Mansour\\\\Documents\\\\Project\\\\Projects\\\\IA\\\\Lec\\\\Exp.csv',\n",
       " 'C:\\\\Users\\\\Abderrahmen Mansour\\\\Documents\\\\Project\\\\Projects\\\\IA\\\\Lec\\\\Lec1.ipynb',\n",
       " 'C:\\\\Users\\\\Abderrahmen Mansour\\\\Documents\\\\Project\\\\Projects\\\\IA\\\\Lec\\\\Lec2.ipynb']"
      ]
     },
     "execution_count": 20,
     "metadata": {},
     "output_type": "execute_result"
    }
   ],
   "source": [
    "import os\n",
    "\n",
    "def absolute_file_paths(directory):\n",
    "    path = os.path.abspath(directory)\n",
    "    return [entry.path for entry in os.scandir(path) if entry.is_file()]\n",
    "\n",
    "absolute_file_paths('C:\\\\Users\\\\Abderrahmen Mansour\\\\Documents\\\\Project\\\\Projects\\\\IA\\\\Lec')"
   ]
  },
  {
   "cell_type": "code",
   "execution_count": 21,
   "id": "9c45d58f",
   "metadata": {},
   "outputs": [
    {
     "name": "stdout",
     "output_type": "stream",
     "text": [
      "C:\\Users\\Abderrahmen Mansour\\anaconda3\\lib\\site-packages\\ipykernel_launcher.py\n"
     ]
    }
   ],
   "source": [
    "import sys\n",
    "print(sys.argv[0])"
   ]
  },
  {
   "cell_type": "code",
   "execution_count": 23,
   "id": "6fa1afae",
   "metadata": {},
   "outputs": [
    {
     "ename": "AttributeError",
     "evalue": "module '__main__' has no attribute '__file__'",
     "output_type": "error",
     "traceback": [
      "\u001b[1;31m---------------------------------------------------------------------------\u001b[0m",
      "\u001b[1;31mAttributeError\u001b[0m                            Traceback (most recent call last)",
      "\u001b[1;32mC:\\Users\\ABDERR~1\\AppData\\Local\\Temp/ipykernel_16336/2574688632.py\u001b[0m in \u001b[0;36m<module>\u001b[1;34m\u001b[0m\n\u001b[0;32m      1\u001b[0m \u001b[1;32mimport\u001b[0m \u001b[0m__main__\u001b[0m \u001b[1;32mas\u001b[0m \u001b[0mmain\u001b[0m\u001b[1;33m\u001b[0m\u001b[1;33m\u001b[0m\u001b[0m\n\u001b[1;32m----> 2\u001b[1;33m \u001b[0mprint\u001b[0m\u001b[1;33m(\u001b[0m\u001b[0mmain\u001b[0m\u001b[1;33m.\u001b[0m\u001b[0m__file__\u001b[0m\u001b[1;33m)\u001b[0m\u001b[1;33m\u001b[0m\u001b[1;33m\u001b[0m\u001b[0m\n\u001b[0m",
      "\u001b[1;31mAttributeError\u001b[0m: module '__main__' has no attribute '__file__'"
     ]
    }
   ],
   "source": [
    "import __main__ as main\n",
    "print(main.__file__)"
   ]
  },
  {
   "cell_type": "code",
   "execution_count": 25,
   "id": "e3c2dc0f",
   "metadata": {},
   "outputs": [
    {
     "data": {
      "text/plain": [
       "'ipykernel_launcher.py'"
      ]
     },
     "execution_count": 25,
     "metadata": {},
     "output_type": "execute_result"
    }
   ],
   "source": [
    "import sys    \n",
    "import os    \n",
    "file_name =  os.path.basename(sys.argv[0])\n",
    "file_name"
   ]
  },
  {
   "cell_type": "code",
   "execution_count": 26,
   "id": "41710c6e",
   "metadata": {},
   "outputs": [
    {
     "name": "stdout",
     "output_type": "stream",
     "text": [
      "C:\\Users\\ABDERR~1\\AppData\\Local\\Temp/ipykernel_16336/4145296073.py\n"
     ]
    }
   ],
   "source": [
    "import inspect\n",
    "print (inspect.getfile(inspect.currentframe()))"
   ]
  },
  {
   "cell_type": "code",
   "execution_count": 27,
   "id": "741f8932",
   "metadata": {},
   "outputs": [
    {
     "ename": "NameError",
     "evalue": "name '__file__' is not defined",
     "output_type": "error",
     "traceback": [
      "\u001b[1;31m---------------------------------------------------------------------------\u001b[0m",
      "\u001b[1;31mNameError\u001b[0m                                 Traceback (most recent call last)",
      "\u001b[1;32mC:\\Users\\ABDERR~1\\AppData\\Local\\Temp/ipykernel_16336/709708861.py\u001b[0m in \u001b[0;36m<module>\u001b[1;34m\u001b[0m\n\u001b[0;32m      1\u001b[0m \u001b[1;32mfrom\u001b[0m \u001b[0mpathlib\u001b[0m \u001b[1;32mimport\u001b[0m \u001b[0mPath\u001b[0m\u001b[1;33m\u001b[0m\u001b[1;33m\u001b[0m\u001b[0m\n\u001b[1;32m----> 2\u001b[1;33m \u001b[0mPath\u001b[0m\u001b[1;33m(\u001b[0m\u001b[0m__file__\u001b[0m\u001b[1;33m)\u001b[0m\u001b[1;33m.\u001b[0m\u001b[0mstem\u001b[0m\u001b[1;33m\u001b[0m\u001b[1;33m\u001b[0m\u001b[0m\n\u001b[0m",
      "\u001b[1;31mNameError\u001b[0m: name '__file__' is not defined"
     ]
    }
   ],
   "source": [
    "from pathlib import Path\n",
    "Path(__file__).stem"
   ]
  },
  {
   "cell_type": "code",
   "execution_count": 28,
   "id": "15051766",
   "metadata": {},
   "outputs": [
    {
     "data": {
      "text/plain": [
       "'ipykernel_launcher.py'"
      ]
     },
     "execution_count": 28,
     "metadata": {},
     "output_type": "execute_result"
    }
   ],
   "source": [
    "import os\n",
    "os.path.split(sys.argv[0])[1]"
   ]
  },
  {
   "cell_type": "code",
   "execution_count": 32,
   "id": "8092cf71",
   "metadata": {},
   "outputs": [
    {
     "ename": "NameError",
     "evalue": "name '__file__' is not defined",
     "output_type": "error",
     "traceback": [
      "\u001b[1;31m---------------------------------------------------------------------------\u001b[0m",
      "\u001b[1;31mNameError\u001b[0m                                 Traceback (most recent call last)",
      "\u001b[1;32mC:\\Users\\ABDERR~1\\AppData\\Local\\Temp/ipykernel_16336/2560703424.py\u001b[0m in \u001b[0;36m<module>\u001b[1;34m\u001b[0m\n\u001b[0;32m      1\u001b[0m \u001b[1;32mimport\u001b[0m \u001b[0mos\u001b[0m\u001b[1;33m\u001b[0m\u001b[1;33m\u001b[0m\u001b[0m\n\u001b[0;32m      2\u001b[0m \u001b[1;33m\u001b[0m\u001b[0m\n\u001b[1;32m----> 3\u001b[1;33m \u001b[0mprint\u001b[0m\u001b[1;33m(\u001b[0m\u001b[0mos\u001b[0m\u001b[1;33m.\u001b[0m\u001b[0mpath\u001b[0m\u001b[1;33m.\u001b[0m\u001b[0mbasename\u001b[0m\u001b[1;33m(\u001b[0m\u001b[0m__file__\u001b[0m\u001b[1;33m)\u001b[0m\u001b[1;33m)\u001b[0m\u001b[1;33m\u001b[0m\u001b[1;33m\u001b[0m\u001b[0m\n\u001b[0m",
      "\u001b[1;31mNameError\u001b[0m: name '__file__' is not defined"
     ]
    }
   ],
   "source": [
    "import os \n",
    " \n",
    "print(os.path.basename(__file__))"
   ]
  },
  {
   "cell_type": "code",
   "execution_count": 30,
   "id": "1b481157",
   "metadata": {},
   "outputs": [
    {
     "name": "stdout",
     "output_type": "stream",
     "text": [
      "C:\\Users\\Abderrahmen Mansour\\Documents\\Project\\Projects\\IA\\Lec\n",
      "C:\\Users\\Abderrahmen Mansour\\anaconda3\\lib\\site-packages\\ipykernel_launcher.py\n",
      "C:\\Users\\Abderrahmen Mansour\\Documents\\Project\\Projects\\IA\\Lec\n"
     ]
    }
   ],
   "source": [
    "print(os.getcwd())\n",
    "print(sys.argv[0])\n",
    "print(os.path.dirname(os.path.realpath('__file__')))"
   ]
  },
  {
   "cell_type": "code",
   "execution_count": 33,
   "id": "0c950b9c",
   "metadata": {},
   "outputs": [],
   "source": [
    "def find_data_file(filename):\n",
    "    if getattr(sys, 'frozen', False):\n",
    "        # The application is frozen\n",
    "        datadir = os.path.dirname(sys.executable)\n",
    "    else:\n",
    "        # The application is not frozen\n",
    "        # Change this bit to match where you store your data files:\n",
    "        datadir = os.path.dirname(__file__)\n",
    "\n",
    "    return os.path.join(datadir, filename)"
   ]
  },
  {
   "cell_type": "code",
   "execution_count": 35,
   "id": "8419d2e6",
   "metadata": {},
   "outputs": [
    {
     "data": {
      "text/plain": [
       "'C:\\\\Users\\\\ABDERR~1\\\\AppData\\\\Local\\\\Temp/ipykernel_16336/633098899.py'"
      ]
     },
     "execution_count": 35,
     "metadata": {},
     "output_type": "execute_result"
    }
   ],
   "source": [
    "import inspect\n",
    "src_file_path = inspect.getfile(lambda: None)\n",
    "src_file_path"
   ]
  },
  {
   "cell_type": "code",
   "execution_count": 37,
   "id": "f05642c9",
   "metadata": {},
   "outputs": [
    {
     "ename": "SyntaxError",
     "evalue": "invalid syntax (Temp/ipykernel_16336/4215947995.py, line 1)",
     "output_type": "error",
     "traceback": [
      "\u001b[1;36m  File \u001b[1;32m\"C:\\Users\\ABDERR~1\\AppData\\Local\\Temp/ipykernel_16336/4215947995.py\"\u001b[1;36m, line \u001b[1;32m1\u001b[0m\n\u001b[1;33m    os.path.dirname(os.path.abspath(<span class=\"hljs-string\">\"__file__\"</span>))\u001b[0m\n\u001b[1;37m                                    ^\u001b[0m\n\u001b[1;31mSyntaxError\u001b[0m\u001b[1;31m:\u001b[0m invalid syntax\n"
     ]
    }
   ],
   "source": [
    "os.path.dirname(os.path.abspath(<span class=\"hljs-string\">\"__file__\"</span>))"
   ]
  },
  {
   "cell_type": "code",
   "execution_count": 38,
   "id": "355d12e9",
   "metadata": {},
   "outputs": [
    {
     "data": {
      "text/plain": [
       "'C:\\\\Users\\\\Abderrahmen Mansour\\\\Documents\\\\Project\\\\Projects\\\\IA\\\\Lec'"
      ]
     },
     "execution_count": 38,
     "metadata": {},
     "output_type": "execute_result"
    }
   ],
   "source": [
    "os.path.abspath('')"
   ]
  },
  {
   "cell_type": "code",
   "execution_count": 40,
   "id": "1fab0ae5",
   "metadata": {},
   "outputs": [
    {
     "data": {
      "text/plain": [
       "['.ipynb_checkpoints', 'Exp.csv', 'Lec1.ipynb', 'Lec2.ipynb']"
      ]
     },
     "execution_count": 40,
     "metadata": {},
     "output_type": "execute_result"
    }
   ],
   "source": [
    "import os\n",
    "os.listdir()"
   ]
  },
  {
   "cell_type": "code",
   "execution_count": 54,
   "id": "af88d8c4",
   "metadata": {},
   "outputs": [
    {
     "name": "stdout",
     "output_type": "stream",
     "text": [
      "Printing directories...\n",
      "C:\\Users\\Abderrahmen Mansour\\Documents\\Project\\Projects\\IA\\Lec\\.ipynb_checkpoints\n",
      "Printing files....\n",
      "C:\\Users\\Abderrahmen Mansour\\Documents\\Project\\Projects\\IA\\Lec\\Exp.csv\n",
      "C:\\Users\\Abderrahmen Mansour\\Documents\\Project\\Projects\\IA\\Lec\\Lec1.ipynb\n",
      "C:\\Users\\Abderrahmen Mansour\\Documents\\Project\\Projects\\IA\\Lec\\Lec2.ipynb\n",
      "C:\\Users\\Abderrahmen Mansour\\Documents\\Project\\Projects\\IA\\Lec\\Lec3.ipynb\n",
      "Printing directories...\n",
      "Printing files....\n",
      "C:\\Users\\Abderrahmen Mansour\\Documents\\Project\\Projects\\IA\\Lec\\.ipynb_checkpoints\\Lec2-checkpoint.ipynb\n",
      "C:\\Users\\Abderrahmen Mansour\\Documents\\Project\\Projects\\IA\\Lec\\.ipynb_checkpoints\\Lec3-checkpoint.ipynb\n"
     ]
    }
   ],
   "source": [
    "for top, dirs, files in os.walk(os.getcwd()):\n",
    "    print(\"Printing directories...\")\n",
    "    for dir in dirs:\n",
    "        print(os.path.join(top, dir))\n",
    "    print(\"Printing files....\")\n",
    "    for file in files:\n",
    "        print(os.path.join(top, file))\n"
   ]
  },
  {
   "cell_type": "code",
   "execution_count": 42,
   "id": "80f190fa",
   "metadata": {},
   "outputs": [
    {
     "data": {
      "text/plain": [
       "'C:\\\\Users\\\\Abderrahmen Mansour\\\\Documents\\\\Project\\\\Projects\\\\IA\\\\Lec'"
      ]
     },
     "execution_count": 42,
     "metadata": {},
     "output_type": "execute_result"
    }
   ],
   "source": [
    "os.getcwd()"
   ]
  },
  {
   "cell_type": "code",
   "execution_count": 47,
   "id": "f48daa99",
   "metadata": {},
   "outputs": [
    {
     "name": "stdout",
     "output_type": "stream",
     "text": [
      "<generator object _walk at 0x000001932F292E40>\n"
     ]
    }
   ],
   "source": [
    "print(os.walk(os.getcwd()))\n"
   ]
  },
  {
   "cell_type": "code",
   "execution_count": 58,
   "id": "c57b5f1a",
   "metadata": {},
   "outputs": [
    {
     "data": {
      "text/plain": [
       "'C:\\\\Users\\\\Abderrahmen Mansour\\\\Documents\\\\Project\\\\Projects\\\\IA\\\\Lec\\\\.ipynb_checkpoints\\\\.ipynb_checkpoints'"
      ]
     },
     "execution_count": 58,
     "metadata": {},
     "output_type": "execute_result"
    }
   ],
   "source": [
    "os.path.join(top, dir)"
   ]
  },
  {
   "cell_type": "code",
   "execution_count": 56,
   "id": "d1f9b92a",
   "metadata": {},
   "outputs": [
    {
     "data": {
      "text/plain": [
       "'Lec3-checkpoint.ipynb'"
      ]
     },
     "execution_count": 56,
     "metadata": {},
     "output_type": "execute_result"
    }
   ],
   "source": [
    "file"
   ]
  },
  {
   "cell_type": "code",
   "execution_count": 60,
   "id": "649ee685",
   "metadata": {},
   "outputs": [],
   "source": [
    "for dir in dirs:\n",
    "    print(os.path.join(top, dir))"
   ]
  },
  {
   "cell_type": "code",
   "execution_count": 61,
   "id": "bb30591e",
   "metadata": {},
   "outputs": [
    {
     "ename": "NameError",
     "evalue": "name 'filedir' is not defined",
     "output_type": "error",
     "traceback": [
      "\u001b[1;31m---------------------------------------------------------------------------\u001b[0m",
      "\u001b[1;31mNameError\u001b[0m                                 Traceback (most recent call last)",
      "\u001b[1;32mC:\\Users\\ABDERR~1\\AppData\\Local\\Temp/ipykernel_16336/850261334.py\u001b[0m in \u001b[0;36m<module>\u001b[1;34m\u001b[0m\n\u001b[1;32m----> 1\u001b[1;33m \u001b[0mfiledir\u001b[0m\u001b[1;33m\u001b[0m\u001b[1;33m\u001b[0m\u001b[0m\n\u001b[0m",
      "\u001b[1;31mNameError\u001b[0m: name 'filedir' is not defined"
     ]
    }
   ],
   "source": [
    "filedir"
   ]
  },
  {
   "cell_type": "code",
   "execution_count": 62,
   "id": "00a247df",
   "metadata": {},
   "outputs": [
    {
     "name": "stdout",
     "output_type": "stream",
     "text": [
      ".ext\n"
     ]
    }
   ],
   "source": [
    "import pathlib\n",
    "print(pathlib.Path('/path/file.ext').suffix)"
   ]
  },
  {
   "cell_type": "code",
   "execution_count": 73,
   "id": "66d4258f",
   "metadata": {},
   "outputs": [
    {
     "name": "stdout",
     "output_type": "stream",
     "text": [
      "{1: 1, 2: 4, 3: 9, 4: 16, 5: 25, 6: 36, 7: 49}\n",
      "dict_keys([1, 2, 3, 4, 5, 6, 7]) dict_values([1, 4, 9, 16, 25, 36, 49])\n"
     ]
    }
   ],
   "source": [
    "MyDict = {}  \n",
    "for i in range (1,8,1):\n",
    "    MyDict[i] = i*i\n",
    "\n",
    "print(MyDict) \n",
    "print(MyDict.keys(),MyDict.values())"
   ]
  },
  {
   "cell_type": "code",
   "execution_count": 74,
   "id": "03543b2a",
   "metadata": {},
   "outputs": [
    {
     "name": "stdout",
     "output_type": "stream",
     "text": [
      "Small\n",
      "All done\n"
     ]
    }
   ],
   "source": [
    "x = 0\n",
    "if x < 2 :\n",
    "    print('Small')\n",
    "elif x < 10 :\n",
    "    print('Medium')\n",
    "else :\n",
    "    print('LARGE')\n",
    "print('All done')"
   ]
  },
  {
   "cell_type": "code",
   "execution_count": 78,
   "id": "e7beb5c1",
   "metadata": {},
   "outputs": [
    {
     "name": "stdout",
     "output_type": "stream",
     "text": [
      "Below 2\n"
     ]
    }
   ],
   "source": [
    "x = -2\n",
    "if x < 2 :\n",
    "    print('Below 2')\n",
    "elif x >= 2 :\n",
    "     print('Two or more')\n",
    "else :\n",
    "    print('Something else')"
   ]
  },
  {
   "cell_type": "code",
   "execution_count": 79,
   "id": "9783775e",
   "metadata": {},
   "outputs": [],
   "source": [
    "astr = 'Hello Bob'\n",
    "istr = 0\n",
    "try:\n",
    "    istr = int(astr)\n",
    "except:\n",
    "    istr = -1"
   ]
  },
  {
   "cell_type": "code",
   "execution_count": 80,
   "id": "057f149a",
   "metadata": {},
   "outputs": [
    {
     "data": {
      "text/plain": [
       "-1"
      ]
     },
     "execution_count": 80,
     "metadata": {},
     "output_type": "execute_result"
    }
   ],
   "source": [
    "istr"
   ]
  },
  {
   "cell_type": "code",
   "execution_count": 81,
   "id": "325ebc1c",
   "metadata": {},
   "outputs": [],
   "source": [
    "if x == 6 :\n",
    "    print('Is 6')\n",
    "    print('Is Still 6')\n",
    "    print('Third 6')"
   ]
  },
  {
   "cell_type": "code",
   "execution_count": 4,
   "id": "ed0b5f26",
   "metadata": {},
   "outputs": [
    {
     "name": "stdout",
     "output_type": "stream",
     "text": [
      "Choose a username: abcdef\n"
     ]
    },
    {
     "ename": "TypeError",
     "evalue": "replace() argument 1 must be str, not int",
     "output_type": "error",
     "traceback": [
      "\u001b[1;31m---------------------------------------------------------------------------\u001b[0m",
      "\u001b[1;31mTypeError\u001b[0m                                 Traceback (most recent call last)",
      "\u001b[1;32mC:\\Users\\ABDERR~1\\AppData\\Local\\Temp/ipykernel_19044/1475080558.py\u001b[0m in \u001b[0;36m<module>\u001b[1;34m\u001b[0m\n\u001b[0;32m      1\u001b[0m \u001b[0musername\u001b[0m \u001b[1;33m=\u001b[0m \u001b[0minput\u001b[0m\u001b[1;33m(\u001b[0m\u001b[1;34m\"Choose a username: \"\u001b[0m\u001b[1;33m)\u001b[0m\u001b[1;33m\u001b[0m\u001b[1;33m\u001b[0m\u001b[0m\n\u001b[1;32m----> 2\u001b[1;33m \u001b[0mfinal_username\u001b[0m \u001b[1;33m=\u001b[0m \u001b[0musername\u001b[0m\u001b[1;33m.\u001b[0m\u001b[0mreplace\u001b[0m\u001b[1;33m(\u001b[0m\u001b[1;36m3\u001b[0m\u001b[1;33m,\u001b[0m \u001b[1;34m\"\"\u001b[0m\u001b[1;33m)\u001b[0m\u001b[1;33m\u001b[0m\u001b[1;33m\u001b[0m\u001b[0m\n\u001b[0m\u001b[0;32m      3\u001b[0m \u001b[0mfinal_username\u001b[0m\u001b[1;33m\u001b[0m\u001b[1;33m\u001b[0m\u001b[0m\n",
      "\u001b[1;31mTypeError\u001b[0m: replace() argument 1 must be str, not int"
     ]
    }
   ],
   "source": [
    "username = input(\"Choose a username: \")\n",
    "final_username = username.replace(3, \"\")\n",
    "final_username"
   ]
  },
  {
   "cell_type": "code",
   "execution_count": 7,
   "id": "4584f0d7",
   "metadata": {},
   "outputs": [
    {
     "name": "stdout",
     "output_type": "stream",
     "text": [
      "Give a non/empty String: Hello\n",
      "Check if the string is empty : The string is not empty\n"
     ]
    }
   ],
   "source": [
    "str = input(\"Give a non/empty String: \")\n",
    "\n",
    "# checking if string with space is empty\n",
    "print(\"Check if the string is empty : \", end=\"\")\n",
    "if(str and not str.isspace()):\n",
    "    print(\"The string is not empty\")\n",
    "else:\n",
    "    print(\"The string is empty\")"
   ]
  },
  {
   "cell_type": "code",
   "execution_count": 21,
   "id": "f1c8a440",
   "metadata": {},
   "outputs": [
    {
     "name": "stdout",
     "output_type": "stream",
     "text": [
      "a\n"
     ]
    }
   ],
   "source": [
    "print(str)\n",
    "str = \"a\"\n",
    "while str  and  not str.isspace():\n",
    "    str = input(\"Give a non/empty String: \")\n",
    "\n",
    "# checking if string with space is empty\n",
    "    print(\"Check if the string is empty : \", end=\"\")\n",
    "    if(str and not str.isspace()):\n",
    "        print(\"The string is not empty\")\n",
    "    else:\n",
    "        print(\"The string is empty\")\n",
    "    "
   ]
  },
  {
   "cell_type": "code",
   "execution_count": 41,
   "id": "19abe31d",
   "metadata": {},
   "outputs": [
    {
     "name": "stdout",
     "output_type": "stream",
     "text": [
      "False\n",
      "The string is not empty\n",
      "False\n"
     ]
    }
   ],
   "source": [
    "# test, if Space here?\n",
    "\n",
    "str = \"a\"\n",
    "if str.isspace():\n",
    "    print(str.isspace())\n",
    "    print(\"The string is empty\")\n",
    "else:\n",
    "    print(str.isspace())\n",
    "    print(\"The string is not empty\")\n",
    "    \n",
    "print(str.isspace() and  str)"
   ]
  },
  {
   "cell_type": "code",
   "execution_count": 60,
   "id": "67690c65",
   "metadata": {},
   "outputs": [
    {
     "name": "stdout",
     "output_type": "stream",
     "text": [
      "a\n",
      "False\n",
      "The string is empty\n",
      "False\n"
     ]
    }
   ],
   "source": [
    "str = \"a\"\n",
    "print(str)\n",
    "if not str.isspace():\n",
    "    print(str.isspace())\n",
    "    print(\"The string is empty\")\n",
    "else:\n",
    "    print(str.isspace())\n",
    "    print(\"The string is not empty\")\n",
    "    \n",
    "print(str.isspace() and  str)"
   ]
  },
  {
   "cell_type": "code",
   "execution_count": 66,
   "id": "56aaf0d1",
   "metadata": {},
   "outputs": [
    {
     "name": "stdout",
     "output_type": "stream",
     "text": [
      "Check if the strA is empty : The string is empty\n"
     ]
    }
   ],
   "source": [
    "# Check if empty\n",
    "strA = \"\"\n",
    "\n",
    "# checking if string is empty\n",
    "print(\"Check if the strA is empty : \", end=\"\")\n",
    "if(not strA):\n",
    "    print(\"The string is empty\")\n",
    "else:\n",
    "    print(\"No it is not empty\")"
   ]
  },
  {
   "cell_type": "code",
   "execution_count": 69,
   "id": "9175ee12",
   "metadata": {},
   "outputs": [
    {
     "name": "stdout",
     "output_type": "stream",
     "text": [
      "Check if the string is empty : The string is not empty\n"
     ]
    }
   ],
   "source": [
    "# Check if empty\n",
    "\n",
    "strA = \"a\"\n",
    "\n",
    "# checking if string with space is empty\n",
    "print(\"Check if the string is empty : \", end=\"\")\n",
    "if(len(strA)):\n",
    "    print(\"The string is not empty\")\n",
    "else:\n",
    "    print(\"The string is empty\")"
   ]
  },
  {
   "cell_type": "code",
   "execution_count": 79,
   "id": "473d30a1",
   "metadata": {},
   "outputs": [
    {
     "name": "stdout",
     "output_type": "stream",
     "text": [
      "Give a non/empty String: \n",
      "Give a non/empty String: Hello\n"
     ]
    }
   ],
   "source": [
    "# retry if empty\n",
    "strA = \"\"\n",
    "while  not len(strA):\n",
    "    \n",
    "    strA = input(\"Give a non/empty String: \")"
   ]
  },
  {
   "cell_type": "code",
   "execution_count": 81,
   "id": "ae3df7de",
   "metadata": {},
   "outputs": [
    {
     "name": "stdout",
     "output_type": "stream",
     "text": [
      "False\n"
     ]
    }
   ],
   "source": [
    "my_variable = \"56\"\n",
    "\n",
    "if isinstance(my_variable, int):\n",
    "     \n",
    "\n",
    "print(isinstance(my_variable, int))"
   ]
  },
  {
   "cell_type": "code",
   "execution_count": 89,
   "id": "a301c5c3",
   "metadata": {},
   "outputs": [
    {
     "name": "stdout",
     "output_type": "stream",
     "text": [
      "Enter the input: Hell\n",
      "False\n"
     ]
    }
   ],
   "source": [
    "# Check if Input Int\n",
    "\n",
    "user_input = input(\"Enter the input: \")\n",
    "\n",
    "try:\n",
    "    int(user_input)\n",
    "    it_is = True\n",
    "except ValueError:\n",
    "    it_is = False\n",
    "\n",
    "print(it_is)"
   ]
  },
  {
   "cell_type": "code",
   "execution_count": 91,
   "id": "928b3a2f",
   "metadata": {},
   "outputs": [
    {
     "name": "stdout",
     "output_type": "stream",
     "text": [
      "Given Nummer: ka\n",
      "Given Nummer: 1\n"
     ]
    }
   ],
   "source": [
    "# Check if Input Int, else try again!!\n",
    "it_is = False \n",
    "while it_is == False:\n",
    "    Number = input(\"Given Nummer: \")\n",
    "    try:\n",
    "        int(Number)\n",
    "        it_is = True\n",
    " \n",
    "    except ValueError : \n",
    "        it_is = False"
   ]
  },
  {
   "cell_type": "code",
   "execution_count": 97,
   "id": "2ec9860f",
   "metadata": {},
   "outputs": [
    {
     "name": "stdout",
     "output_type": "stream",
     "text": [
      "Give a non/empty String: Hello\n",
      "Given Nummer: 3\n",
      "Helo\n"
     ]
    }
   ],
   "source": [
    "Str = input(\"Give a non/empty String: \")\n",
    "\n",
    "\n",
    "# Check if Input Int, else try again!!\n",
    "\n",
    "\n",
    "it_is = False \n",
    "while it_is == False:\n",
    "    Number = input(\"Given Nummer: \")\n",
    "    try:\n",
    "        int(Number)\n",
    "        it_is = True\n",
    "    except ValueError : \n",
    "        it_is = False\n",
    "\n",
    "# n = 0 len-1\n",
    "\n",
    "\n",
    "if int(Number) > len(Str):\n",
    "    print(\"invalid Number\")\n",
    "else:\n",
    "    Str =Str[:int(Number)] + Str[int(Number)+1:len(Str)]\n",
    "    print(Str)\n",
    "            \n",
    " "
   ]
  },
  {
   "cell_type": "code",
   "execution_count": 101,
   "id": "4386a237",
   "metadata": {},
   "outputs": [
    {
     "name": "stdout",
     "output_type": "stream",
     "text": [
      "Give a non/empty String: \n",
      "Give a non/empty String: \n",
      "Give a non/empty String: Hello\n"
     ]
    },
    {
     "data": {
      "text/plain": [
       "'Hello'"
      ]
     },
     "execution_count": 101,
     "metadata": {},
     "output_type": "execute_result"
    }
   ],
   "source": [
    "def Checkifempty():\n",
    "    Str = \"\"\n",
    "    while  not len(Str):\n",
    "        Str = input(\"Give a non/empty String: \")\n",
    "    return Str\n",
    "Checkifempty()"
   ]
  },
  {
   "cell_type": "code",
   "execution_count": 102,
   "id": "317c6933",
   "metadata": {},
   "outputs": [],
   "source": [
    "    while it_is == False:\n",
    "        n = input(\"Give a Valid index n: \")\n",
    "        try:\n",
    "            int(n)\n",
    "            it_is = True\n",
    "        except ValueError : \n",
    "            it_is = False"
   ]
  },
  {
   "cell_type": "code",
   "execution_count": 103,
   "id": "64d48775",
   "metadata": {},
   "outputs": [
    {
     "ename": "NameError",
     "evalue": "name 'n' is not defined",
     "output_type": "error",
     "traceback": [
      "\u001b[1;31m---------------------------------------------------------------------------\u001b[0m",
      "\u001b[1;31mNameError\u001b[0m                                 Traceback (most recent call last)",
      "\u001b[1;32mC:\\Users\\ABDERR~1\\AppData\\Local\\Temp/ipykernel_19044/1192987953.py\u001b[0m in \u001b[0;36m<module>\u001b[1;34m\u001b[0m\n\u001b[1;32m----> 1\u001b[1;33m \u001b[1;32mif\u001b[0m \u001b[0mn\u001b[0m \u001b[1;33m>=\u001b[0m \u001b[0mlen\u001b[0m\u001b[1;33m(\u001b[0m\u001b[0mStr\u001b[0m\u001b[1;33m)\u001b[0m \u001b[1;32mor\u001b[0m \u001b[0mn\u001b[0m \u001b[1;33m<\u001b[0m \u001b[1;36m0\u001b[0m \u001b[1;33m:\u001b[0m\u001b[1;33m\u001b[0m\u001b[1;33m\u001b[0m\u001b[0m\n\u001b[0m\u001b[0;32m      2\u001b[0m     \u001b[0mprint\u001b[0m\u001b[1;33m(\u001b[0m\u001b[1;34m\"invalid Number\"\u001b[0m\u001b[1;33m)\u001b[0m\u001b[1;33m\u001b[0m\u001b[1;33m\u001b[0m\u001b[0m\n\u001b[0;32m      3\u001b[0m \u001b[1;32melse\u001b[0m\u001b[1;33m:\u001b[0m\u001b[1;33m\u001b[0m\u001b[1;33m\u001b[0m\u001b[0m\n\u001b[0;32m      4\u001b[0m     \u001b[0mStr\u001b[0m \u001b[1;33m=\u001b[0m\u001b[0mStr\u001b[0m\u001b[1;33m[\u001b[0m\u001b[1;33m:\u001b[0m\u001b[0mn\u001b[0m\u001b[1;33m]\u001b[0m \u001b[1;33m+\u001b[0m \u001b[0mStr\u001b[0m\u001b[1;33m[\u001b[0m\u001b[0mn\u001b[0m\u001b[1;33m+\u001b[0m\u001b[1;36m1\u001b[0m\u001b[1;33m:\u001b[0m\u001b[0mlen\u001b[0m\u001b[1;33m(\u001b[0m\u001b[0mStr\u001b[0m\u001b[1;33m)\u001b[0m\u001b[1;33m]\u001b[0m\u001b[1;33m\u001b[0m\u001b[1;33m\u001b[0m\u001b[0m\n\u001b[0;32m      5\u001b[0m     \u001b[0mprint\u001b[0m\u001b[1;33m(\u001b[0m\u001b[0mStr\u001b[0m\u001b[1;33m)\u001b[0m\u001b[1;33m\u001b[0m\u001b[1;33m\u001b[0m\u001b[0m\n",
      "\u001b[1;31mNameError\u001b[0m: name 'n' is not defined"
     ]
    }
   ],
   "source": [
    "if n >= len(Str) or n < 0 :\n",
    "    print(\"invalid Number\")\n",
    "else:\n",
    "    Str =Str[:n] + Str[n+1:len(Str)]\n",
    "    print(Str)"
   ]
  },
  {
   "cell_type": "code",
   "execution_count": null,
   "id": "a7d6911e",
   "metadata": {},
   "outputs": [],
   "source": [
    " Str = input(\"Give a non/empty String: \")\n",
    "    \n",
    "while n >= len(Str) or n < 0:\n",
    "    print(\"invalid Number\")\n",
    "    "
   ]
  }
 ],
 "metadata": {
  "kernelspec": {
   "display_name": "Python 3 (ipykernel)",
   "language": "python",
   "name": "python3"
  },
  "language_info": {
   "codemirror_mode": {
    "name": "ipython",
    "version": 3
   },
   "file_extension": ".py",
   "mimetype": "text/x-python",
   "name": "python",
   "nbconvert_exporter": "python",
   "pygments_lexer": "ipython3",
   "version": "3.9.7"
  }
 },
 "nbformat": 4,
 "nbformat_minor": 5
}
