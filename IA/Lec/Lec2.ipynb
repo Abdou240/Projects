{
 "cells": [
  {
   "cell_type": "code",
   "execution_count": 3,
   "id": "983f153a",
   "metadata": {},
   "outputs": [
    {
     "data": {
      "text/plain": [
       "3.0"
      ]
     },
     "execution_count": 3,
     "metadata": {},
     "output_type": "execute_result"
    }
   ],
   "source": [
    "x = 19\n",
    "y = 10\n",
    "x%y*3/(x-y)"
   ]
  },
  {
   "cell_type": "code",
   "execution_count": 6,
   "id": "036479a5",
   "metadata": {},
   "outputs": [
    {
     "data": {
      "text/plain": [
       "'i'"
      ]
     },
     "execution_count": 6,
     "metadata": {},
     "output_type": "execute_result"
    }
   ],
   "source": [
    "a =\"welcome to coding world\"\n",
    "len(a)\n",
    "a[len(a)-9]\n"
   ]
  },
  {
   "cell_type": "code",
   "execution_count": 2,
   "id": "802c87f6",
   "metadata": {},
   "outputs": [
    {
     "data": {
      "text/plain": [
       "-1"
      ]
     },
     "execution_count": 2,
     "metadata": {},
     "output_type": "execute_result"
    }
   ],
   "source": [
    "a = \"Hello Word\"\n",
    "try:\n",
    "    ist = int(a)\n",
    "except:\n",
    "    ist = -1\n",
    "\n",
    "ist"
   ]
  },
  {
   "cell_type": "code",
   "execution_count": 4,
   "id": "b12ce9b4",
   "metadata": {},
   "outputs": [
    {
     "name": "stdout",
     "output_type": "stream",
     "text": [
      "20\n",
      "20\n"
     ]
    }
   ],
   "source": [
    "def double(n):\n",
    "    return n*2\n",
    "print(double(10))\n",
    "\n",
    "y = lambda x : x*2\n",
    "print(y(10))"
   ]
  },
  {
   "cell_type": "code",
   "execution_count": 6,
   "id": "ac7250bd",
   "metadata": {},
   "outputs": [
    {
     "data": {
      "text/plain": [
       "2"
      ]
     },
     "execution_count": 6,
     "metadata": {},
     "output_type": "execute_result"
    }
   ],
   "source": [
    "def großer (a,b):\n",
    "    if a >b:\n",
    "        return a \n",
    "    else:\n",
    "        return b\n",
    "großer(1,2)\n"
   ]
  },
  {
   "cell_type": "code",
   "execution_count": 10,
   "id": "eef2fdb5",
   "metadata": {},
   "outputs": [
    {
     "data": {
      "text/plain": [
       "5"
      ]
     },
     "execution_count": 10,
     "metadata": {},
     "output_type": "execute_result"
    }
   ],
   "source": [
    "r = lambda a,b: a if a>b else b\n",
    "r(5,3)"
   ]
  },
  {
   "cell_type": "code",
   "execution_count": 17,
   "id": "96ab093b",
   "metadata": {},
   "outputs": [
    {
     "name": "stdout",
     "output_type": "stream",
     "text": [
      "['Zlatan', 'Tom', 'Jonas', 'Gregory', 'Augustine', 'Alan']\n"
     ]
    },
    {
     "data": {
      "text/plain": [
       "['Augustine', 'Gregory', 'Zlatan', 'Jonas', 'Alan', 'Tom']"
      ]
     },
     "execution_count": 17,
     "metadata": {},
     "output_type": "execute_result"
    }
   ],
   "source": [
    "names =[\"Alan\", \"Gregory\", \"Zlatan\", \"Jonas\", \"Tom\", \"Augustine\"]\n",
    "names.sort(reverse =True)\n",
    "print(names)\n",
    "names.sort(key = lambda x : len(x),reverse =True)\n",
    "names"
   ]
  },
  {
   "cell_type": "code",
   "execution_count": 10,
   "id": "a8bacbd5",
   "metadata": {},
   "outputs": [
    {
     "name": "stdout",
     "output_type": "stream",
     "text": [
      "Inside Loop\n",
      "Inside Loop\n",
      "Inside Loop\n",
      "Inside else\n"
     ]
    }
   ],
   "source": [
    "counter = 0\n",
    "while counter<3:\n",
    "    print(\"Inside Loop\")\n",
    "    counter += 1\n",
    "else:\n",
    "    print(\"Inside else\")"
   ]
  },
  {
   "cell_type": "code",
   "execution_count": 13,
   "id": "0ad0a39a",
   "metadata": {},
   "outputs": [
    {
     "name": "stdout",
     "output_type": "stream",
     "text": [
      "1\n",
      "2\n",
      "3\n",
      "4\n",
      "5\n"
     ]
    }
   ],
   "source": [
    "i = 1\n",
    "while i<6:\n",
    "    print(i)\n",
    "    i+=1\n",
    "    "
   ]
  },
  {
   "cell_type": "code",
   "execution_count": 15,
   "id": "46ed7a1f",
   "metadata": {},
   "outputs": [
    {
     "name": "stdout",
     "output_type": "stream",
     "text": [
      "Give your Name: Abderrahmen\n",
      "My Name is Abderrahmen\n"
     ]
    }
   ],
   "source": [
    "def name():\n",
    "    x = input(\"Give your Name: \")\n",
    "    print(\"My Name is \" + x )\n",
    "name()"
   ]
  },
  {
   "cell_type": "code",
   "execution_count": 13,
   "id": "e6bca3c3",
   "metadata": {},
   "outputs": [
    {
     "name": "stdout",
     "output_type": "stream",
     "text": [
      "[5, 6, 6]\n"
     ]
    }
   ],
   "source": [
    "x = map(len,('apple', 'banana', 'cherry'))\n",
    "print(list(x))"
   ]
  },
  {
   "cell_type": "code",
   "execution_count": 19,
   "id": "0cf02420",
   "metadata": {},
   "outputs": [
    {
     "name": "stdout",
     "output_type": "stream",
     "text": [
      "[2.0, 2.23606797749979, 2.449489742783178, 2.6457513110645907]\n"
     ]
    }
   ],
   "source": [
    "import math as m\n",
    "m.sqrt(4)\n",
    "\n",
    "x = map(m.sqrt, (4,5,6,7))\n",
    "\n",
    "print(list(x))"
   ]
  },
  {
   "cell_type": "code",
   "execution_count": 20,
   "id": "e78e82b7",
   "metadata": {},
   "outputs": [
    {
     "data": {
      "text/plain": [
       "[6, 8, 10, 12]"
      ]
     },
     "execution_count": 20,
     "metadata": {},
     "output_type": "execute_result"
    }
   ],
   "source": [
    "T1 = (1,2,3,4)\n",
    "T2 = (5,6,7,8)\n",
    "a = list(map(lambda m,n: m+n, T1,T2))\n",
    "a"
   ]
  },
  {
   "cell_type": "code",
   "execution_count": 41,
   "id": "2bdbe5ad",
   "metadata": {},
   "outputs": [
    {
     "name": "stdout",
     "output_type": "stream",
     "text": [
      "[1 2 3]\n",
      "[[1 2 3]\n",
      " [3 4 5]]\n",
      "(2, 3)\n",
      "<class 'numpy.ndarray'>\n",
      "1 4\n",
      "[[1 2 3]\n",
      " [3 4 5]]\n",
      "(2, 3)\n",
      "(2, 3)\n",
      "\n",
      "[[1 2 3]\n",
      " [3 4 5]]\n"
     ]
    }
   ],
   "source": [
    "import numpy as np\n",
    "New_array = np.array([1,2,3])\n",
    "New_array1 = np.array([[1,2,3],[3,4,5]])\n",
    "print(New_array)\n",
    "print(New_array1)\n",
    "print(New_array1.shape)\n",
    "print(type(New_array1))\n",
    "print(New_array1[0,0],New_array1[1,1])\n",
    "print(New_array1)\n",
    "print(New_array1.shape)\n",
    "print(np.shape(New_array1))\n",
    "print()\n",
    "print(New_array1.reshape(2,3))\n"
   ]
  },
  {
   "cell_type": "code",
   "execution_count": 38,
   "id": "3b8d0c66",
   "metadata": {},
   "outputs": [
    {
     "name": "stdout",
     "output_type": "stream",
     "text": [
      "[0. 0. 0.]\n",
      "[5 5 5]\n",
      "\n",
      "[[1. 0. 0.]\n",
      " [0. 1. 0.]\n",
      " [0. 0. 1.]]\n",
      "\n",
      "[1. 1. 1. 1. 1.]\n"
     ]
    }
   ],
   "source": [
    "print(np.zeros(3))\n",
    "print(np.full(3,5))\n",
    "print()\n",
    "print(np.eye(3))\n",
    "print()\n",
    "print(np.ones(5))"
   ]
  },
  {
   "cell_type": "code",
   "execution_count": 54,
   "id": "344f5462",
   "metadata": {},
   "outputs": [
    {
     "name": "stdout",
     "output_type": "stream",
     "text": [
      "0.7522487189455431\n",
      "[[0.60203226 0.82102947]\n",
      " [0.77921727 0.43098369]]\n",
      "[[14  8]\n",
      " [ 4 15]]\n"
     ]
    }
   ],
   "source": [
    "Value = np.random.random()\n",
    "print(Value)\n",
    "Value1 = np.random.random((2,2))\n",
    "print(Value1)\n",
    "Value3 = np.random.randint(3,19,size=(2,2))\n",
    "print(Value3)\n"
   ]
  },
  {
   "cell_type": "code",
   "execution_count": 60,
   "id": "e93f632d",
   "metadata": {},
   "outputs": [
    {
     "name": "stdout",
     "output_type": "stream",
     "text": [
      "[[ 8 18  4 18]\n",
      " [ 5 11 13 18]\n",
      " [ 7 13  4  8]]\n",
      "[[47 26 20 75]\n",
      " [52 51 64 26]\n",
      " [54 75 70 46]]\n",
      "---\n",
      "[[55 44 24 93]\n",
      " [57 62 77 44]\n",
      " [61 88 74 54]]\n",
      "[[55 44 24 93]\n",
      " [57 62 77 44]\n",
      " [61 88 74 54]]\n",
      "[[-39  -8 -16 -57]\n",
      " [-47 -40 -51  -8]\n",
      " [-47 -62 -66 -38]]\n",
      "[[-39  -8 -16 -57]\n",
      " [-47 -40 -51  -8]\n",
      " [-47 -62 -66 -38]]\n"
     ]
    }
   ],
   "source": [
    "X = np.random.randint(3,19,size=(3,4))\n",
    "Y = np.random.randint(8,78,size=(3,4))\n",
    "print(X)\n",
    "print(Y)\n",
    "print(\"---\")\n",
    "A = np.add(X,Y)\n",
    "A1 = X + Y\n",
    "B = np.subtract(X,Y)\n",
    "B1 = X - Y\n",
    "print(A)\n",
    "print(A1)\n",
    "print(B)\n",
    "print(B1)"
   ]
  },
  {
   "cell_type": "code",
   "execution_count": 68,
   "id": "54ca7b31",
   "metadata": {},
   "outputs": [
    {
     "name": "stdout",
     "output_type": "stream",
     "text": [
      "[[False False  True]\n",
      " [ True  True  True]]\n",
      "[3 3 8 5]\n",
      "[3 3 8 5]\n"
     ]
    }
   ],
   "source": [
    "S = np.array([[1,2,3],[3,8,5]])\n",
    "Bool_index = S>2\n",
    "print(Bool_index)\n",
    "print(S[Bool_index])\n",
    "print(S[S>2])"
   ]
  },
  {
   "cell_type": "code",
   "execution_count": 70,
   "id": "6870e6a8",
   "metadata": {},
   "outputs": [
    {
     "name": "stdout",
     "output_type": "stream",
     "text": [
      "[[False  True]\n",
      " [ True False]]\n"
     ]
    }
   ],
   "source": [
    "a = np.array([[9, 18], [19, 10]])\n",
    "print( a > 10)"
   ]
  },
  {
   "cell_type": "code",
   "execution_count": 74,
   "id": "082946df",
   "metadata": {},
   "outputs": [
    {
     "name": "stdout",
     "output_type": "stream",
     "text": [
      "0    1\n",
      "1    2\n",
      "2    3\n",
      "dtype: int32\n",
      "0    1\n",
      "1    2\n",
      "2    3\n",
      "dtype: int64\n"
     ]
    }
   ],
   "source": [
    "import numpy as np\n",
    "import pandas as pd\n",
    "array = np.array([1,2,3])\n",
    "Serie1 = pd.Series(array)\n",
    "print(Serie1)\n",
    "List = [1,2,3]\n",
    "Serie2 = pd.Series(List)\n",
    "print(Serie2)\n"
   ]
  },
  {
   "cell_type": "code",
   "execution_count": 78,
   "id": "e1489006",
   "metadata": {},
   "outputs": [
    {
     "name": "stdout",
     "output_type": "stream",
     "text": [
      "C     8.0\n",
      "D    12.0\n",
      "G     NaN\n",
      "N     NaN\n",
      "dtype: float64\n"
     ]
    }
   ],
   "source": [
    "Color = [\"C\",\"G\",\"D\"]\n",
    "Color1 = [\"C\",\"N\",\"D\"]\n",
    "A1 = pd.Series([1,2,3], index =Color)\n",
    "A2 = pd.Series([7,4,9], index =Color1)\n",
    "print(A1+A2)"
   ]
  },
  {
   "cell_type": "code",
   "execution_count": 80,
   "id": "fc3a333e",
   "metadata": {},
   "outputs": [
    {
     "data": {
      "text/plain": [
       "6"
      ]
     },
     "execution_count": 80,
     "metadata": {},
     "output_type": "execute_result"
    }
   ],
   "source": [
    "sum(A1)"
   ]
  },
  {
   "cell_type": "code",
   "execution_count": 81,
   "id": "018ec951",
   "metadata": {},
   "outputs": [
    {
     "name": "stdout",
     "output_type": "stream",
     "text": [
      "          a         b         c         d\n",
      "0 -1.268167  1.463729 -1.284096 -1.738472\n",
      "1  1.065986 -1.085599  0.111746 -1.967236\n",
      "2 -0.185474  1.905271  0.974223  1.195657\n"
     ]
    }
   ],
   "source": [
    "import numpy as np\n",
    "import pandas as pd\n",
    "my_numpy_array=np.random.randn(3,4)\n",
    "df=pd.DataFrame(my_numpy_array, columns=list(\"abcd\"))\n",
    "print(df)"
   ]
  },
  {
   "cell_type": "code",
   "execution_count": 82,
   "id": "b4d94470",
   "metadata": {
    "scrolled": true
   },
   "outputs": [
    {
     "data": {
      "text/html": [
       "<div>\n",
       "<style scoped>\n",
       "    .dataframe tbody tr th:only-of-type {\n",
       "        vertical-align: middle;\n",
       "    }\n",
       "\n",
       "    .dataframe tbody tr th {\n",
       "        vertical-align: top;\n",
       "    }\n",
       "\n",
       "    .dataframe thead th {\n",
       "        text-align: right;\n",
       "    }\n",
       "</style>\n",
       "<table border=\"1\" class=\"dataframe\">\n",
       "  <thead>\n",
       "    <tr style=\"text-align: right;\">\n",
       "      <th></th>\n",
       "      <th>a</th>\n",
       "      <th>b</th>\n",
       "      <th>c</th>\n",
       "      <th>d</th>\n",
       "    </tr>\n",
       "  </thead>\n",
       "  <tbody>\n",
       "    <tr>\n",
       "      <th>0</th>\n",
       "      <td>-1.268167</td>\n",
       "      <td>1.463729</td>\n",
       "      <td>-1.284096</td>\n",
       "      <td>-1.738472</td>\n",
       "    </tr>\n",
       "    <tr>\n",
       "      <th>1</th>\n",
       "      <td>1.065986</td>\n",
       "      <td>-1.085599</td>\n",
       "      <td>0.111746</td>\n",
       "      <td>-1.967236</td>\n",
       "    </tr>\n",
       "    <tr>\n",
       "      <th>2</th>\n",
       "      <td>-0.185474</td>\n",
       "      <td>1.905271</td>\n",
       "      <td>0.974223</td>\n",
       "      <td>1.195657</td>\n",
       "    </tr>\n",
       "  </tbody>\n",
       "</table>\n",
       "</div>"
      ],
      "text/plain": [
       "          a         b         c         d\n",
       "0 -1.268167  1.463729 -1.284096 -1.738472\n",
       "1  1.065986 -1.085599  0.111746 -1.967236\n",
       "2 -0.185474  1.905271  0.974223  1.195657"
      ]
     },
     "execution_count": 82,
     "metadata": {},
     "output_type": "execute_result"
    }
   ],
   "source": [
    "df\n"
   ]
  },
  {
   "cell_type": "code",
   "execution_count": 87,
   "id": "28671304",
   "metadata": {},
   "outputs": [
    {
     "data": {
      "text/html": [
       "<div>\n",
       "<style scoped>\n",
       "    .dataframe tbody tr th:only-of-type {\n",
       "        vertical-align: middle;\n",
       "    }\n",
       "\n",
       "    .dataframe tbody tr th {\n",
       "        vertical-align: top;\n",
       "    }\n",
       "\n",
       "    .dataframe thead th {\n",
       "        text-align: right;\n",
       "    }\n",
       "</style>\n",
       "<table border=\"1\" class=\"dataframe\">\n",
       "  <thead>\n",
       "    <tr style=\"text-align: right;\">\n",
       "      <th></th>\n",
       "      <th>Unnamed: 0</th>\n",
       "      <th>name</th>\n",
       "      <th>age</th>\n",
       "      <th>city</th>\n",
       "    </tr>\n",
       "  </thead>\n",
       "  <tbody>\n",
       "    <tr>\n",
       "      <th>0</th>\n",
       "      <td>0</td>\n",
       "      <td>Jack</td>\n",
       "      <td>34</td>\n",
       "      <td>Paris</td>\n",
       "    </tr>\n",
       "    <tr>\n",
       "      <th>1</th>\n",
       "      <td>1</td>\n",
       "      <td>Thomas</td>\n",
       "      <td>30</td>\n",
       "      <td>Roma</td>\n",
       "    </tr>\n",
       "    <tr>\n",
       "      <th>2</th>\n",
       "      <td>2</td>\n",
       "      <td>Alexandre</td>\n",
       "      <td>16</td>\n",
       "      <td>New York</td>\n",
       "    </tr>\n",
       "  </tbody>\n",
       "</table>\n",
       "</div>"
      ],
      "text/plain": [
       "   Unnamed: 0       name  age      city\n",
       "0           0       Jack   34     Paris\n",
       "1           1     Thomas   30      Roma\n",
       "2           2  Alexandre   16  New York"
      ]
     },
     "execution_count": 87,
     "metadata": {},
     "output_type": "execute_result"
    }
   ],
   "source": [
    "New_Data = pd.read_csv(\"Exp.csv\")\n",
    "New_Data"
   ]
  },
  {
   "cell_type": "code",
   "execution_count": 88,
   "id": "e8b87abc",
   "metadata": {},
   "outputs": [
    {
     "data": {
      "text/plain": [
       "count     3.000000\n",
       "mean     26.666667\n",
       "std       9.451631\n",
       "min      16.000000\n",
       "25%      23.000000\n",
       "50%      30.000000\n",
       "75%      32.000000\n",
       "max      34.000000\n",
       "Name: age, dtype: float64"
      ]
     },
     "execution_count": 88,
     "metadata": {},
     "output_type": "execute_result"
    }
   ],
   "source": [
    "New_Data[\"age\"].describe()"
   ]
  },
  {
   "cell_type": "code",
   "execution_count": 90,
   "id": "581fd84a",
   "metadata": {},
   "outputs": [
    {
     "data": {
      "text/plain": [
       "count        3\n",
       "unique       3\n",
       "top       Jack\n",
       "freq         1\n",
       "Name: name, dtype: object"
      ]
     },
     "execution_count": 90,
     "metadata": {},
     "output_type": "execute_result"
    }
   ],
   "source": [
    "New_Data[\"name\"].describe()"
   ]
  },
  {
   "cell_type": "code",
   "execution_count": 91,
   "id": "5de8894e",
   "metadata": {},
   "outputs": [
    {
     "data": {
      "text/plain": [
       "Unnamed: 0         1\n",
       "name          Thomas\n",
       "age               30\n",
       "city            Roma\n",
       "Name: 1, dtype: object"
      ]
     },
     "execution_count": 91,
     "metadata": {},
     "output_type": "execute_result"
    }
   ],
   "source": [
    "New_Data.iloc[1]"
   ]
  },
  {
   "cell_type": "code",
   "execution_count": 93,
   "id": "959a813c",
   "metadata": {},
   "outputs": [
    {
     "data": {
      "text/html": [
       "<div>\n",
       "<style scoped>\n",
       "    .dataframe tbody tr th:only-of-type {\n",
       "        vertical-align: middle;\n",
       "    }\n",
       "\n",
       "    .dataframe tbody tr th {\n",
       "        vertical-align: top;\n",
       "    }\n",
       "\n",
       "    .dataframe thead th {\n",
       "        text-align: right;\n",
       "    }\n",
       "</style>\n",
       "<table border=\"1\" class=\"dataframe\">\n",
       "  <thead>\n",
       "    <tr style=\"text-align: right;\">\n",
       "      <th></th>\n",
       "      <th>Unnamed: 0</th>\n",
       "      <th>name</th>\n",
       "      <th>age</th>\n",
       "      <th>city</th>\n",
       "    </tr>\n",
       "  </thead>\n",
       "  <tbody>\n",
       "    <tr>\n",
       "      <th>0</th>\n",
       "      <td>0</td>\n",
       "      <td>Jack</td>\n",
       "      <td>34</td>\n",
       "      <td>Paris</td>\n",
       "    </tr>\n",
       "    <tr>\n",
       "      <th>1</th>\n",
       "      <td>1</td>\n",
       "      <td>Thomas</td>\n",
       "      <td>30</td>\n",
       "      <td>Roma</td>\n",
       "    </tr>\n",
       "    <tr>\n",
       "      <th>2</th>\n",
       "      <td>2</td>\n",
       "      <td>Alexandre</td>\n",
       "      <td>16</td>\n",
       "      <td>New York</td>\n",
       "    </tr>\n",
       "  </tbody>\n",
       "</table>\n",
       "</div>"
      ],
      "text/plain": [
       "   Unnamed: 0       name  age      city\n",
       "0           0       Jack   34     Paris\n",
       "1           1     Thomas   30      Roma\n",
       "2           2  Alexandre   16  New York"
      ]
     },
     "execution_count": 93,
     "metadata": {},
     "output_type": "execute_result"
    }
   ],
   "source": [
    "New_Data"
   ]
  },
  {
   "cell_type": "code",
   "execution_count": 94,
   "id": "771df142",
   "metadata": {},
   "outputs": [
    {
     "data": {
      "text/html": [
       "<div>\n",
       "<style scoped>\n",
       "    .dataframe tbody tr th:only-of-type {\n",
       "        vertical-align: middle;\n",
       "    }\n",
       "\n",
       "    .dataframe tbody tr th {\n",
       "        vertical-align: top;\n",
       "    }\n",
       "\n",
       "    .dataframe thead th {\n",
       "        text-align: right;\n",
       "    }\n",
       "</style>\n",
       "<table border=\"1\" class=\"dataframe\">\n",
       "  <thead>\n",
       "    <tr style=\"text-align: right;\">\n",
       "      <th></th>\n",
       "      <th>Unnamed: 0</th>\n",
       "      <th>name</th>\n",
       "      <th>age</th>\n",
       "      <th>city</th>\n",
       "    </tr>\n",
       "  </thead>\n",
       "  <tbody>\n",
       "    <tr>\n",
       "      <th>0</th>\n",
       "      <td>0</td>\n",
       "      <td>Jack</td>\n",
       "      <td>34</td>\n",
       "      <td>Paris</td>\n",
       "    </tr>\n",
       "    <tr>\n",
       "      <th>1</th>\n",
       "      <td>1</td>\n",
       "      <td>Thomas</td>\n",
       "      <td>30</td>\n",
       "      <td>Roma</td>\n",
       "    </tr>\n",
       "  </tbody>\n",
       "</table>\n",
       "</div>"
      ],
      "text/plain": [
       "   Unnamed: 0    name  age   city\n",
       "0           0    Jack   34  Paris\n",
       "1           1  Thomas   30   Roma"
      ]
     },
     "execution_count": 94,
     "metadata": {},
     "output_type": "execute_result"
    }
   ],
   "source": [
    "New_Data[New_Data[\"age\"] >17]"
   ]
  },
  {
   "cell_type": "code",
   "execution_count": 95,
   "id": "7fa84165",
   "metadata": {},
   "outputs": [
    {
     "data": {
      "text/html": [
       "<div>\n",
       "<style scoped>\n",
       "    .dataframe tbody tr th:only-of-type {\n",
       "        vertical-align: middle;\n",
       "    }\n",
       "\n",
       "    .dataframe tbody tr th {\n",
       "        vertical-align: top;\n",
       "    }\n",
       "\n",
       "    .dataframe thead th {\n",
       "        text-align: right;\n",
       "    }\n",
       "</style>\n",
       "<table border=\"1\" class=\"dataframe\">\n",
       "  <thead>\n",
       "    <tr style=\"text-align: right;\">\n",
       "      <th></th>\n",
       "      <th>Unnamed: 0</th>\n",
       "      <th>name</th>\n",
       "      <th>age</th>\n",
       "      <th>city</th>\n",
       "    </tr>\n",
       "  </thead>\n",
       "  <tbody>\n",
       "    <tr>\n",
       "      <th>0</th>\n",
       "      <td>0</td>\n",
       "      <td>Jack</td>\n",
       "      <td>34</td>\n",
       "      <td>Paris</td>\n",
       "    </tr>\n",
       "  </tbody>\n",
       "</table>\n",
       "</div>"
      ],
      "text/plain": [
       "   Unnamed: 0  name  age   city\n",
       "0           0  Jack   34  Paris"
      ]
     },
     "execution_count": 95,
     "metadata": {},
     "output_type": "execute_result"
    }
   ],
   "source": [
    "New_Data[New_Data[\"name\"] ==\"Jack\"]"
   ]
  },
  {
   "cell_type": "code",
   "execution_count": 96,
   "id": "77413641",
   "metadata": {},
   "outputs": [
    {
     "data": {
      "text/html": [
       "<div>\n",
       "<style scoped>\n",
       "    .dataframe tbody tr th:only-of-type {\n",
       "        vertical-align: middle;\n",
       "    }\n",
       "\n",
       "    .dataframe tbody tr th {\n",
       "        vertical-align: top;\n",
       "    }\n",
       "\n",
       "    .dataframe thead th {\n",
       "        text-align: right;\n",
       "    }\n",
       "</style>\n",
       "<table border=\"1\" class=\"dataframe\">\n",
       "  <thead>\n",
       "    <tr style=\"text-align: right;\">\n",
       "      <th></th>\n",
       "      <th>Unnamed: 0</th>\n",
       "      <th>name</th>\n",
       "      <th>age</th>\n",
       "      <th>city</th>\n",
       "    </tr>\n",
       "  </thead>\n",
       "  <tbody>\n",
       "    <tr>\n",
       "      <th>0</th>\n",
       "      <td>0</td>\n",
       "      <td>Jack</td>\n",
       "      <td>34</td>\n",
       "      <td>Paris</td>\n",
       "    </tr>\n",
       "    <tr>\n",
       "      <th>1</th>\n",
       "      <td>1</td>\n",
       "      <td>Thomas</td>\n",
       "      <td>30</td>\n",
       "      <td>Roma</td>\n",
       "    </tr>\n",
       "    <tr>\n",
       "      <th>2</th>\n",
       "      <td>2</td>\n",
       "      <td>Alexandre</td>\n",
       "      <td>16</td>\n",
       "      <td>New York</td>\n",
       "    </tr>\n",
       "  </tbody>\n",
       "</table>\n",
       "</div>"
      ],
      "text/plain": [
       "   Unnamed: 0       name  age      city\n",
       "0           0       Jack   34     Paris\n",
       "1           1     Thomas   30      Roma\n",
       "2           2  Alexandre   16  New York"
      ]
     },
     "execution_count": 96,
     "metadata": {},
     "output_type": "execute_result"
    }
   ],
   "source": [
    "New_Data"
   ]
  },
  {
   "cell_type": "code",
   "execution_count": 115,
   "id": "29ddee5d",
   "metadata": {},
   "outputs": [],
   "source": [
    "New_Data[\"Last name\"] = pd.Series([\"Müller\",\"John\",\"Sala\"])"
   ]
  },
  {
   "cell_type": "code",
   "execution_count": 116,
   "id": "ad7229d9",
   "metadata": {},
   "outputs": [
    {
     "data": {
      "text/html": [
       "<div>\n",
       "<style scoped>\n",
       "    .dataframe tbody tr th:only-of-type {\n",
       "        vertical-align: middle;\n",
       "    }\n",
       "\n",
       "    .dataframe tbody tr th {\n",
       "        vertical-align: top;\n",
       "    }\n",
       "\n",
       "    .dataframe thead th {\n",
       "        text-align: right;\n",
       "    }\n",
       "</style>\n",
       "<table border=\"1\" class=\"dataframe\">\n",
       "  <thead>\n",
       "    <tr style=\"text-align: right;\">\n",
       "      <th></th>\n",
       "      <th>Unnamed: 0</th>\n",
       "      <th>name</th>\n",
       "      <th>age</th>\n",
       "      <th>city</th>\n",
       "      <th>Full Name</th>\n",
       "      <th>Last name</th>\n",
       "    </tr>\n",
       "  </thead>\n",
       "  <tbody>\n",
       "    <tr>\n",
       "      <th>0</th>\n",
       "      <td>0</td>\n",
       "      <td>Jack</td>\n",
       "      <td>34</td>\n",
       "      <td>Paris</td>\n",
       "      <td>Jack Müller</td>\n",
       "      <td>Müller</td>\n",
       "    </tr>\n",
       "    <tr>\n",
       "      <th>1</th>\n",
       "      <td>1</td>\n",
       "      <td>Thomas</td>\n",
       "      <td>30</td>\n",
       "      <td>Roma</td>\n",
       "      <td>Thomas John</td>\n",
       "      <td>John</td>\n",
       "    </tr>\n",
       "    <tr>\n",
       "      <th>2</th>\n",
       "      <td>2</td>\n",
       "      <td>Alexandre</td>\n",
       "      <td>16</td>\n",
       "      <td>New York</td>\n",
       "      <td>Alexandre Sala</td>\n",
       "      <td>Sala</td>\n",
       "    </tr>\n",
       "  </tbody>\n",
       "</table>\n",
       "</div>"
      ],
      "text/plain": [
       "   Unnamed: 0       name  age      city       Full Name Last name\n",
       "0           0       Jack   34     Paris     Jack Müller    Müller\n",
       "1           1     Thomas   30      Roma     Thomas John      John\n",
       "2           2  Alexandre   16  New York  Alexandre Sala      Sala"
      ]
     },
     "execution_count": 116,
     "metadata": {},
     "output_type": "execute_result"
    }
   ],
   "source": [
    "New_Data"
   ]
  },
  {
   "cell_type": "code",
   "execution_count": 120,
   "id": "48e1f771",
   "metadata": {},
   "outputs": [
    {
     "data": {
      "text/html": [
       "<div>\n",
       "<style scoped>\n",
       "    .dataframe tbody tr th:only-of-type {\n",
       "        vertical-align: middle;\n",
       "    }\n",
       "\n",
       "    .dataframe tbody tr th {\n",
       "        vertical-align: top;\n",
       "    }\n",
       "\n",
       "    .dataframe thead th {\n",
       "        text-align: right;\n",
       "    }\n",
       "</style>\n",
       "<table border=\"1\" class=\"dataframe\">\n",
       "  <thead>\n",
       "    <tr style=\"text-align: right;\">\n",
       "      <th></th>\n",
       "      <th>Unnamed: 0</th>\n",
       "      <th>name</th>\n",
       "      <th>age</th>\n",
       "      <th>city</th>\n",
       "      <th>Last name</th>\n",
       "    </tr>\n",
       "  </thead>\n",
       "  <tbody>\n",
       "    <tr>\n",
       "      <th>0</th>\n",
       "      <td>0</td>\n",
       "      <td>Jack</td>\n",
       "      <td>34</td>\n",
       "      <td>Paris</td>\n",
       "      <td>Müller</td>\n",
       "    </tr>\n",
       "    <tr>\n",
       "      <th>1</th>\n",
       "      <td>1</td>\n",
       "      <td>Thomas</td>\n",
       "      <td>30</td>\n",
       "      <td>Roma</td>\n",
       "      <td>John</td>\n",
       "    </tr>\n",
       "    <tr>\n",
       "      <th>2</th>\n",
       "      <td>2</td>\n",
       "      <td>Alexandre</td>\n",
       "      <td>16</td>\n",
       "      <td>New York</td>\n",
       "      <td>Sala</td>\n",
       "    </tr>\n",
       "  </tbody>\n",
       "</table>\n",
       "</div>"
      ],
      "text/plain": [
       "   Unnamed: 0       name  age      city Last name\n",
       "0           0       Jack   34     Paris    Müller\n",
       "1           1     Thomas   30      Roma      John\n",
       "2           2  Alexandre   16  New York      Sala"
      ]
     },
     "execution_count": 120,
     "metadata": {},
     "output_type": "execute_result"
    }
   ],
   "source": [
    "New_Data"
   ]
  },
  {
   "cell_type": "code",
   "execution_count": 122,
   "id": "c210ce40",
   "metadata": {},
   "outputs": [
    {
     "data": {
      "text/html": [
       "<div>\n",
       "<style scoped>\n",
       "    .dataframe tbody tr th:only-of-type {\n",
       "        vertical-align: middle;\n",
       "    }\n",
       "\n",
       "    .dataframe tbody tr th {\n",
       "        vertical-align: top;\n",
       "    }\n",
       "\n",
       "    .dataframe thead th {\n",
       "        text-align: right;\n",
       "    }\n",
       "</style>\n",
       "<table border=\"1\" class=\"dataframe\">\n",
       "  <thead>\n",
       "    <tr style=\"text-align: right;\">\n",
       "      <th></th>\n",
       "      <th>Unnamed: 0</th>\n",
       "      <th>name</th>\n",
       "      <th>age</th>\n",
       "      <th>city</th>\n",
       "      <th>Last name</th>\n",
       "    </tr>\n",
       "  </thead>\n",
       "  <tbody>\n",
       "    <tr>\n",
       "      <th>0</th>\n",
       "      <td>0</td>\n",
       "      <td>Jack</td>\n",
       "      <td>34</td>\n",
       "      <td>Paris</td>\n",
       "      <td>Müller</td>\n",
       "    </tr>\n",
       "    <tr>\n",
       "      <th>1</th>\n",
       "      <td>1</td>\n",
       "      <td>Thomas</td>\n",
       "      <td>30</td>\n",
       "      <td>Roma</td>\n",
       "      <td>John</td>\n",
       "    </tr>\n",
       "    <tr>\n",
       "      <th>2</th>\n",
       "      <td>2</td>\n",
       "      <td>Alexandre</td>\n",
       "      <td>16</td>\n",
       "      <td>New York</td>\n",
       "      <td>Sala</td>\n",
       "    </tr>\n",
       "  </tbody>\n",
       "</table>\n",
       "</div>"
      ],
      "text/plain": [
       "   Unnamed: 0       name  age      city Last name\n",
       "0           0       Jack   34     Paris    Müller\n",
       "1           1     Thomas   30      Roma      John\n",
       "2           2  Alexandre   16  New York      Sala"
      ]
     },
     "execution_count": 122,
     "metadata": {},
     "output_type": "execute_result"
    }
   ],
   "source": [
    "New_Data[\"Full Name\"] =  New_Data[\"name\"] + \" \" + New_Data[\"Last name\"]\n",
    "\n",
    "New_Data = New_Data.drop(\"Full Name\", axis = 1)\n",
    "New_Data"
   ]
  },
  {
   "cell_type": "code",
   "execution_count": 123,
   "id": "5b2effbd",
   "metadata": {},
   "outputs": [],
   "source": [
    "New_Data[\"Full name\"] =  New_Data[\"name\"] + \" \" + New_Data[\"Last name\"]\n"
   ]
  },
  {
   "cell_type": "code",
   "execution_count": 124,
   "id": "7365fdef",
   "metadata": {},
   "outputs": [
    {
     "data": {
      "text/html": [
       "<div>\n",
       "<style scoped>\n",
       "    .dataframe tbody tr th:only-of-type {\n",
       "        vertical-align: middle;\n",
       "    }\n",
       "\n",
       "    .dataframe tbody tr th {\n",
       "        vertical-align: top;\n",
       "    }\n",
       "\n",
       "    .dataframe thead th {\n",
       "        text-align: right;\n",
       "    }\n",
       "</style>\n",
       "<table border=\"1\" class=\"dataframe\">\n",
       "  <thead>\n",
       "    <tr style=\"text-align: right;\">\n",
       "      <th></th>\n",
       "      <th>Unnamed: 0</th>\n",
       "      <th>name</th>\n",
       "      <th>age</th>\n",
       "      <th>city</th>\n",
       "      <th>Last name</th>\n",
       "      <th>Full name</th>\n",
       "    </tr>\n",
       "  </thead>\n",
       "  <tbody>\n",
       "    <tr>\n",
       "      <th>0</th>\n",
       "      <td>0</td>\n",
       "      <td>Jack</td>\n",
       "      <td>34</td>\n",
       "      <td>Paris</td>\n",
       "      <td>Müller</td>\n",
       "      <td>Jack Müller</td>\n",
       "    </tr>\n",
       "    <tr>\n",
       "      <th>1</th>\n",
       "      <td>1</td>\n",
       "      <td>Thomas</td>\n",
       "      <td>30</td>\n",
       "      <td>Roma</td>\n",
       "      <td>John</td>\n",
       "      <td>Thomas John</td>\n",
       "    </tr>\n",
       "    <tr>\n",
       "      <th>2</th>\n",
       "      <td>2</td>\n",
       "      <td>Alexandre</td>\n",
       "      <td>16</td>\n",
       "      <td>New York</td>\n",
       "      <td>Sala</td>\n",
       "      <td>Alexandre Sala</td>\n",
       "    </tr>\n",
       "  </tbody>\n",
       "</table>\n",
       "</div>"
      ],
      "text/plain": [
       "   Unnamed: 0       name  age      city Last name       Full name\n",
       "0           0       Jack   34     Paris    Müller     Jack Müller\n",
       "1           1     Thomas   30      Roma      John     Thomas John\n",
       "2           2  Alexandre   16  New York      Sala  Alexandre Sala"
      ]
     },
     "execution_count": 124,
     "metadata": {},
     "output_type": "execute_result"
    }
   ],
   "source": [
    "New_Data"
   ]
  },
  {
   "cell_type": "code",
   "execution_count": 126,
   "id": "ae2633e3",
   "metadata": {},
   "outputs": [
    {
     "data": {
      "text/html": [
       "<div>\n",
       "<style scoped>\n",
       "    .dataframe tbody tr th:only-of-type {\n",
       "        vertical-align: middle;\n",
       "    }\n",
       "\n",
       "    .dataframe tbody tr th {\n",
       "        vertical-align: top;\n",
       "    }\n",
       "\n",
       "    .dataframe thead th {\n",
       "        text-align: right;\n",
       "    }\n",
       "</style>\n",
       "<table border=\"1\" class=\"dataframe\">\n",
       "  <thead>\n",
       "    <tr style=\"text-align: right;\">\n",
       "      <th></th>\n",
       "      <th>Unnamed: 0</th>\n",
       "      <th>age</th>\n",
       "      <th>city</th>\n",
       "      <th>Full name</th>\n",
       "    </tr>\n",
       "  </thead>\n",
       "  <tbody>\n",
       "    <tr>\n",
       "      <th>0</th>\n",
       "      <td>0</td>\n",
       "      <td>34</td>\n",
       "      <td>Paris</td>\n",
       "      <td>Jack Müller</td>\n",
       "    </tr>\n",
       "    <tr>\n",
       "      <th>1</th>\n",
       "      <td>1</td>\n",
       "      <td>30</td>\n",
       "      <td>Roma</td>\n",
       "      <td>Thomas John</td>\n",
       "    </tr>\n",
       "    <tr>\n",
       "      <th>2</th>\n",
       "      <td>2</td>\n",
       "      <td>16</td>\n",
       "      <td>New York</td>\n",
       "      <td>Alexandre Sala</td>\n",
       "    </tr>\n",
       "  </tbody>\n",
       "</table>\n",
       "</div>"
      ],
      "text/plain": [
       "   Unnamed: 0  age      city       Full name\n",
       "0           0   34     Paris     Jack Müller\n",
       "1           1   30      Roma     Thomas John\n",
       "2           2   16  New York  Alexandre Sala"
      ]
     },
     "execution_count": 126,
     "metadata": {},
     "output_type": "execute_result"
    }
   ],
   "source": [
    "New_Data = New_Data.drop([\"name\",\"Last name\"], axis = 1)\n",
    "New_Data"
   ]
  },
  {
   "cell_type": "code",
   "execution_count": 135,
   "id": "f4b829ff",
   "metadata": {},
   "outputs": [
    {
     "data": {
      "text/html": [
       "<div>\n",
       "<style scoped>\n",
       "    .dataframe tbody tr th:only-of-type {\n",
       "        vertical-align: middle;\n",
       "    }\n",
       "\n",
       "    .dataframe tbody tr th {\n",
       "        vertical-align: top;\n",
       "    }\n",
       "\n",
       "    .dataframe thead th {\n",
       "        text-align: right;\n",
       "    }\n",
       "</style>\n",
       "<table border=\"1\" class=\"dataframe\">\n",
       "  <thead>\n",
       "    <tr style=\"text-align: right;\">\n",
       "      <th></th>\n",
       "      <th>Unnamed: 0</th>\n",
       "      <th>age</th>\n",
       "      <th>city</th>\n",
       "      <th>Full name</th>\n",
       "    </tr>\n",
       "  </thead>\n",
       "  <tbody>\n",
       "    <tr>\n",
       "      <th>0</th>\n",
       "      <td>0</td>\n",
       "      <td>34</td>\n",
       "      <td>Paris</td>\n",
       "      <td>Jack Müller</td>\n",
       "    </tr>\n",
       "    <tr>\n",
       "      <th>1</th>\n",
       "      <td>1</td>\n",
       "      <td>30</td>\n",
       "      <td>Roma</td>\n",
       "      <td>Thomas John</td>\n",
       "    </tr>\n",
       "    <tr>\n",
       "      <th>2</th>\n",
       "      <td>2</td>\n",
       "      <td>16</td>\n",
       "      <td>New York</td>\n",
       "      <td>Alexandre Sala</td>\n",
       "    </tr>\n",
       "  </tbody>\n",
       "</table>\n",
       "</div>"
      ],
      "text/plain": [
       "   Unnamed: 0  age      city       Full name\n",
       "0           0   34     Paris     Jack Müller\n",
       "1           1   30      Roma     Thomas John\n",
       "2           2   16  New York  Alexandre Sala"
      ]
     },
     "execution_count": 135,
     "metadata": {},
     "output_type": "execute_result"
    }
   ],
   "source": [
    "D = New_Data.dropna(axis =0, how = \"all\", inplace =False,thresh=3)\n",
    "D"
   ]
  },
  {
   "cell_type": "code",
   "execution_count": 148,
   "id": "da027d38",
   "metadata": {},
   "outputs": [],
   "source": [
    "New_Data.iloc[1:2,1:2] = \"NaN\""
   ]
  },
  {
   "cell_type": "code",
   "execution_count": 150,
   "id": "528f5cc8",
   "metadata": {},
   "outputs": [
    {
     "data": {
      "text/html": [
       "<div>\n",
       "<style scoped>\n",
       "    .dataframe tbody tr th:only-of-type {\n",
       "        vertical-align: middle;\n",
       "    }\n",
       "\n",
       "    .dataframe tbody tr th {\n",
       "        vertical-align: top;\n",
       "    }\n",
       "\n",
       "    .dataframe thead th {\n",
       "        text-align: right;\n",
       "    }\n",
       "</style>\n",
       "<table border=\"1\" class=\"dataframe\">\n",
       "  <thead>\n",
       "    <tr style=\"text-align: right;\">\n",
       "      <th></th>\n",
       "      <th>Unnamed: 0</th>\n",
       "      <th>age</th>\n",
       "      <th>city</th>\n",
       "      <th>Full name</th>\n",
       "    </tr>\n",
       "  </thead>\n",
       "  <tbody>\n",
       "    <tr>\n",
       "      <th>0</th>\n",
       "      <td>0</td>\n",
       "      <td>34</td>\n",
       "      <td>Paris</td>\n",
       "      <td>Jack Müller</td>\n",
       "    </tr>\n",
       "    <tr>\n",
       "      <th>1</th>\n",
       "      <td>1</td>\n",
       "      <td>NaN</td>\n",
       "      <td>Roma</td>\n",
       "      <td>Thomas John</td>\n",
       "    </tr>\n",
       "    <tr>\n",
       "      <th>2</th>\n",
       "      <td>2</td>\n",
       "      <td>16</td>\n",
       "      <td>New York</td>\n",
       "      <td>Alexandre Sala</td>\n",
       "    </tr>\n",
       "  </tbody>\n",
       "</table>\n",
       "</div>"
      ],
      "text/plain": [
       "   Unnamed: 0  age      city       Full name\n",
       "0           0   34     Paris     Jack Müller\n",
       "1           1  NaN      Roma     Thomas John\n",
       "2           2   16  New York  Alexandre Sala"
      ]
     },
     "execution_count": 150,
     "metadata": {},
     "output_type": "execute_result"
    }
   ],
   "source": [
    "New_Data"
   ]
  },
  {
   "cell_type": "code",
   "execution_count": 157,
   "id": "8f3219e1",
   "metadata": {},
   "outputs": [
    {
     "data": {
      "text/html": [
       "<div>\n",
       "<style scoped>\n",
       "    .dataframe tbody tr th:only-of-type {\n",
       "        vertical-align: middle;\n",
       "    }\n",
       "\n",
       "    .dataframe tbody tr th {\n",
       "        vertical-align: top;\n",
       "    }\n",
       "\n",
       "    .dataframe thead th {\n",
       "        text-align: right;\n",
       "    }\n",
       "</style>\n",
       "<table border=\"1\" class=\"dataframe\">\n",
       "  <thead>\n",
       "    <tr style=\"text-align: right;\">\n",
       "      <th></th>\n",
       "      <th>Unnamed: 0</th>\n",
       "      <th>age</th>\n",
       "      <th>city</th>\n",
       "      <th>Full name</th>\n",
       "    </tr>\n",
       "  </thead>\n",
       "  <tbody>\n",
       "    <tr>\n",
       "      <th>0</th>\n",
       "      <td>0</td>\n",
       "      <td>34</td>\n",
       "      <td>Paris</td>\n",
       "      <td>Jack Müller</td>\n",
       "    </tr>\n",
       "    <tr>\n",
       "      <th>1</th>\n",
       "      <td>1</td>\n",
       "      <td>NaN</td>\n",
       "      <td>Roma</td>\n",
       "      <td>Thomas John</td>\n",
       "    </tr>\n",
       "    <tr>\n",
       "      <th>2</th>\n",
       "      <td>2</td>\n",
       "      <td>16</td>\n",
       "      <td>New York</td>\n",
       "      <td>Alexandre Sala</td>\n",
       "    </tr>\n",
       "  </tbody>\n",
       "</table>\n",
       "</div>"
      ],
      "text/plain": [
       "   Unnamed: 0  age      city       Full name\n",
       "0           0   34     Paris     Jack Müller\n",
       "1           1  NaN      Roma     Thomas John\n",
       "2           2   16  New York  Alexandre Sala"
      ]
     },
     "execution_count": 157,
     "metadata": {},
     "output_type": "execute_result"
    }
   ],
   "source": [
    "D = New_Data.dropna(axis =1)\n",
    "D"
   ]
  },
  {
   "cell_type": "code",
   "execution_count": 158,
   "id": "7541db39",
   "metadata": {},
   "outputs": [
    {
     "data": {
      "text/html": [
       "<div>\n",
       "<style scoped>\n",
       "    .dataframe tbody tr th:only-of-type {\n",
       "        vertical-align: middle;\n",
       "    }\n",
       "\n",
       "    .dataframe tbody tr th {\n",
       "        vertical-align: top;\n",
       "    }\n",
       "\n",
       "    .dataframe thead th {\n",
       "        text-align: right;\n",
       "    }\n",
       "</style>\n",
       "<table border=\"1\" class=\"dataframe\">\n",
       "  <thead>\n",
       "    <tr style=\"text-align: right;\">\n",
       "      <th></th>\n",
       "      <th>Unnamed: 0</th>\n",
       "      <th>age</th>\n",
       "      <th>city</th>\n",
       "      <th>Full name</th>\n",
       "    </tr>\n",
       "  </thead>\n",
       "  <tbody>\n",
       "    <tr>\n",
       "      <th>0</th>\n",
       "      <td>0</td>\n",
       "      <td>34</td>\n",
       "      <td>Paris</td>\n",
       "      <td>Jack Müller</td>\n",
       "    </tr>\n",
       "    <tr>\n",
       "      <th>1</th>\n",
       "      <td>1</td>\n",
       "      <td>NaN</td>\n",
       "      <td>Roma</td>\n",
       "      <td>Thomas John</td>\n",
       "    </tr>\n",
       "    <tr>\n",
       "      <th>2</th>\n",
       "      <td>2</td>\n",
       "      <td>16</td>\n",
       "      <td>New York</td>\n",
       "      <td>Alexandre Sala</td>\n",
       "    </tr>\n",
       "  </tbody>\n",
       "</table>\n",
       "</div>"
      ],
      "text/plain": [
       "   Unnamed: 0  age      city       Full name\n",
       "0           0   34     Paris     Jack Müller\n",
       "1           1  NaN      Roma     Thomas John\n",
       "2           2   16  New York  Alexandre Sala"
      ]
     },
     "execution_count": 158,
     "metadata": {},
     "output_type": "execute_result"
    }
   ],
   "source": [
    "D"
   ]
  },
  {
   "cell_type": "code",
   "execution_count": 159,
   "id": "8d1fbc0e",
   "metadata": {},
   "outputs": [
    {
     "data": {
      "text/html": [
       "<div>\n",
       "<style scoped>\n",
       "    .dataframe tbody tr th:only-of-type {\n",
       "        vertical-align: middle;\n",
       "    }\n",
       "\n",
       "    .dataframe tbody tr th {\n",
       "        vertical-align: top;\n",
       "    }\n",
       "\n",
       "    .dataframe thead th {\n",
       "        text-align: right;\n",
       "    }\n",
       "</style>\n",
       "<table border=\"1\" class=\"dataframe\">\n",
       "  <thead>\n",
       "    <tr style=\"text-align: right;\">\n",
       "      <th></th>\n",
       "      <th>Unnamed: 0</th>\n",
       "      <th>age</th>\n",
       "      <th>city</th>\n",
       "      <th>Full name</th>\n",
       "    </tr>\n",
       "  </thead>\n",
       "  <tbody>\n",
       "    <tr>\n",
       "      <th>0</th>\n",
       "      <td>0</td>\n",
       "      <td>34</td>\n",
       "      <td>Paris</td>\n",
       "      <td>Jack Müller</td>\n",
       "    </tr>\n",
       "    <tr>\n",
       "      <th>1</th>\n",
       "      <td>1</td>\n",
       "      <td>NaN</td>\n",
       "      <td>Roma</td>\n",
       "      <td>Thomas John</td>\n",
       "    </tr>\n",
       "    <tr>\n",
       "      <th>2</th>\n",
       "      <td>2</td>\n",
       "      <td>16</td>\n",
       "      <td>New York</td>\n",
       "      <td>Alexandre Sala</td>\n",
       "    </tr>\n",
       "  </tbody>\n",
       "</table>\n",
       "</div>"
      ],
      "text/plain": [
       "   Unnamed: 0  age      city       Full name\n",
       "0           0   34     Paris     Jack Müller\n",
       "1           1  NaN      Roma     Thomas John\n",
       "2           2   16  New York  Alexandre Sala"
      ]
     },
     "execution_count": 159,
     "metadata": {},
     "output_type": "execute_result"
    }
   ],
   "source": [
    "New_Data"
   ]
  },
  {
   "cell_type": "code",
   "execution_count": 163,
   "id": "7c3bba9b",
   "metadata": {},
   "outputs": [],
   "source": [
    "NN = pd.concat([New_Data,D])"
   ]
  },
  {
   "cell_type": "code",
   "execution_count": 164,
   "id": "bf8b2f91",
   "metadata": {},
   "outputs": [
    {
     "data": {
      "text/html": [
       "<div>\n",
       "<style scoped>\n",
       "    .dataframe tbody tr th:only-of-type {\n",
       "        vertical-align: middle;\n",
       "    }\n",
       "\n",
       "    .dataframe tbody tr th {\n",
       "        vertical-align: top;\n",
       "    }\n",
       "\n",
       "    .dataframe thead th {\n",
       "        text-align: right;\n",
       "    }\n",
       "</style>\n",
       "<table border=\"1\" class=\"dataframe\">\n",
       "  <thead>\n",
       "    <tr style=\"text-align: right;\">\n",
       "      <th></th>\n",
       "      <th>Unnamed: 0</th>\n",
       "      <th>age</th>\n",
       "      <th>city</th>\n",
       "      <th>Full name</th>\n",
       "    </tr>\n",
       "  </thead>\n",
       "  <tbody>\n",
       "    <tr>\n",
       "      <th>0</th>\n",
       "      <td>0</td>\n",
       "      <td>34</td>\n",
       "      <td>Paris</td>\n",
       "      <td>Jack Müller</td>\n",
       "    </tr>\n",
       "    <tr>\n",
       "      <th>1</th>\n",
       "      <td>1</td>\n",
       "      <td>NaN</td>\n",
       "      <td>Roma</td>\n",
       "      <td>Thomas John</td>\n",
       "    </tr>\n",
       "    <tr>\n",
       "      <th>2</th>\n",
       "      <td>2</td>\n",
       "      <td>16</td>\n",
       "      <td>New York</td>\n",
       "      <td>Alexandre Sala</td>\n",
       "    </tr>\n",
       "    <tr>\n",
       "      <th>0</th>\n",
       "      <td>0</td>\n",
       "      <td>34</td>\n",
       "      <td>Paris</td>\n",
       "      <td>Jack Müller</td>\n",
       "    </tr>\n",
       "    <tr>\n",
       "      <th>1</th>\n",
       "      <td>1</td>\n",
       "      <td>NaN</td>\n",
       "      <td>Roma</td>\n",
       "      <td>Thomas John</td>\n",
       "    </tr>\n",
       "    <tr>\n",
       "      <th>2</th>\n",
       "      <td>2</td>\n",
       "      <td>16</td>\n",
       "      <td>New York</td>\n",
       "      <td>Alexandre Sala</td>\n",
       "    </tr>\n",
       "  </tbody>\n",
       "</table>\n",
       "</div>"
      ],
      "text/plain": [
       "   Unnamed: 0  age      city       Full name\n",
       "0           0   34     Paris     Jack Müller\n",
       "1           1  NaN      Roma     Thomas John\n",
       "2           2   16  New York  Alexandre Sala\n",
       "0           0   34     Paris     Jack Müller\n",
       "1           1  NaN      Roma     Thomas John\n",
       "2           2   16  New York  Alexandre Sala"
      ]
     },
     "execution_count": 164,
     "metadata": {},
     "output_type": "execute_result"
    }
   ],
   "source": [
    "NN\n"
   ]
  },
  {
   "cell_type": "code",
   "execution_count": 168,
   "id": "5a087a03",
   "metadata": {},
   "outputs": [
    {
     "name": "stdout",
     "output_type": "stream",
     "text": [
      "Enter the input 8\n",
      "True\n"
     ]
    }
   ],
   "source": [
    "user_input = input(\"Enter the input \")\n",
    "\n",
    "try:\n",
    "    int(user_input)\n",
    "    it_is = True\n",
    "except ValueError:\n",
    "    it_is = False\n",
    "\n",
    "print(it_is)"
   ]
  },
  {
   "cell_type": "code",
   "execution_count": 172,
   "id": "4501c70a",
   "metadata": {},
   "outputs": [
    {
     "name": "stdout",
     "output_type": "stream",
     "text": [
      "Enter the input ö\n",
      "Do it again\n",
      "Enter the input a\n",
      "Do it again\n",
      "Enter the input 1\n"
     ]
    }
   ],
   "source": [
    "a = input(\"Enter the input \")\n",
    "it_is = False\n",
    "while it_is == False:\n",
    "    try:\n",
    "        int(a)\n",
    "        it_is = True\n",
    "    except ValueError:\n",
    "        it_is = False\n",
    "        print(\"Do it again\")\n",
    "        a = input(\"Enter the input \")    "
   ]
  },
  {
   "cell_type": "code",
   "execution_count": 178,
   "id": "c9c5da12",
   "metadata": {},
   "outputs": [
    {
     "name": "stdout",
     "output_type": "stream",
     "text": [
      "Enter the input l\n",
      "The Given Number is not an integer, Please give an integer:\n",
      "Enter the input 1\n"
     ]
    }
   ],
   "source": [
    "it_is = False\n",
    "while it_is == False:\n",
    "    a = input(\"Enter the input \")\n",
    "    try:\n",
    "        int(a)\n",
    "        it_is = True\n",
    "    except ValueError:\n",
    "        it_is = False\n",
    "        print(\"The Given Number is not an integer, Please give an integer:\")"
   ]
  },
  {
   "cell_type": "code",
   "execution_count": 208,
   "id": "5aab9125",
   "metadata": {},
   "outputs": [
    {
     "name": "stdout",
     "output_type": "stream",
     "text": [
      "Given Nummer: 2.0\n"
     ]
    },
    {
     "data": {
      "text/plain": [
       "2"
      ]
     },
     "execution_count": 208,
     "metadata": {},
     "output_type": "execute_result"
    }
   ],
   "source": [
    "Number = input(\"Given Nummer: \")\n",
    "Number = float(Number)\n",
    "int(Number)\n",
    "\n",
    "#print(int(Number))"
   ]
  },
  {
   "cell_type": "code",
   "execution_count": 206,
   "id": "072a6706",
   "metadata": {},
   "outputs": [
    {
     "data": {
      "text/plain": [
       "5"
      ]
     },
     "execution_count": 206,
     "metadata": {},
     "output_type": "execute_result"
    }
   ],
   "source": [
    "num1 = \"5.9\"\n",
    "num3 = float(num1)\n",
    "\n",
    "int(num3)\n"
   ]
  },
  {
   "cell_type": "code",
   "execution_count": 210,
   "id": "8daaf527",
   "metadata": {},
   "outputs": [
    {
     "data": {
      "text/plain": [
       "'1'"
      ]
     },
     "execution_count": 210,
     "metadata": {},
     "output_type": "execute_result"
    }
   ],
   "source": [
    "a == -0.2 >-1.0 \n",
    "a"
   ]
  },
  {
   "cell_type": "code",
   "execution_count": null,
   "id": "3ff6781c",
   "metadata": {},
   "outputs": [],
   "source": []
  }
 ],
 "metadata": {
  "kernelspec": {
   "display_name": "Python 3 (ipykernel)",
   "language": "python",
   "name": "python3"
  },
  "language_info": {
   "codemirror_mode": {
    "name": "ipython",
    "version": 3
   },
   "file_extension": ".py",
   "mimetype": "text/x-python",
   "name": "python",
   "nbconvert_exporter": "python",
   "pygments_lexer": "ipython3",
   "version": "3.9.7"
  }
 },
 "nbformat": 4,
 "nbformat_minor": 5
}
