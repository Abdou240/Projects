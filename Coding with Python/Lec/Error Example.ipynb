{
 "cells": [
  {
   "cell_type": "code",
   "execution_count": 1,
   "id": "f15372b7",
   "metadata": {},
   "outputs": [
    {
     "data": {
      "text/plain": [
       "3"
      ]
     },
     "execution_count": 1,
     "metadata": {},
     "output_type": "execute_result"
    }
   ],
   "source": [
    "L1=[1,2,3]\n",
    "L1[2]"
   ]
  },
  {
   "cell_type": "code",
   "execution_count": 4,
   "id": "a943d989",
   "metadata": {},
   "outputs": [
    {
     "ename": "IndexError",
     "evalue": "list index out of range",
     "output_type": "error",
     "traceback": [
      "\u001b[1;31m---------------------------------------------------------------------------\u001b[0m",
      "\u001b[1;31mIndexError\u001b[0m                                Traceback (most recent call last)",
      "\u001b[1;32m~\\AppData\\Local\\Temp/ipykernel_8732/161052046.py\u001b[0m in \u001b[0;36m<module>\u001b[1;34m\u001b[0m\n\u001b[1;32m----> 1\u001b[1;33m \u001b[0mL1\u001b[0m\u001b[1;33m[\u001b[0m\u001b[1;33m-\u001b[0m\u001b[1;36m11\u001b[0m\u001b[1;33m]\u001b[0m\u001b[1;33m\u001b[0m\u001b[1;33m\u001b[0m\u001b[0m\n\u001b[0m",
      "\u001b[1;31mIndexError\u001b[0m: list index out of range"
     ]
    }
   ],
   "source": [
    "L1[-11]"
   ]
  },
  {
   "cell_type": "code",
   "execution_count": 9,
   "id": "9bb1f401",
   "metadata": {},
   "outputs": [],
   "source": [
    "import math"
   ]
  },
  {
   "cell_type": "code",
   "execution_count": 12,
   "id": "c3364045",
   "metadata": {},
   "outputs": [
    {
     "ename": "KeyError",
     "evalue": "'a'",
     "output_type": "error",
     "traceback": [
      "\u001b[1;31m---------------------------------------------------------------------------\u001b[0m",
      "\u001b[1;31mKeyError\u001b[0m                                  Traceback (most recent call last)",
      "\u001b[1;32m~\\AppData\\Local\\Temp/ipykernel_8732/2121502047.py\u001b[0m in \u001b[0;36m<module>\u001b[1;34m\u001b[0m\n\u001b[0;32m      1\u001b[0m \u001b[0mD1\u001b[0m\u001b[1;33m=\u001b[0m\u001b[1;33m{\u001b[0m\u001b[1;34m'1'\u001b[0m\u001b[1;33m:\u001b[0m\u001b[1;34m\"aa\"\u001b[0m\u001b[1;33m,\u001b[0m \u001b[1;34m'2'\u001b[0m\u001b[1;33m:\u001b[0m\u001b[1;34m\"bb\"\u001b[0m\u001b[1;33m,\u001b[0m \u001b[1;34m'3'\u001b[0m\u001b[1;33m:\u001b[0m\u001b[1;34m\"cc\"\u001b[0m\u001b[1;33m}\u001b[0m\u001b[1;33m\u001b[0m\u001b[1;33m\u001b[0m\u001b[0m\n\u001b[1;32m----> 2\u001b[1;33m \u001b[0mD1\u001b[0m\u001b[1;33m[\u001b[0m\u001b[1;34m'a'\u001b[0m\u001b[1;33m]\u001b[0m\u001b[1;33m\u001b[0m\u001b[1;33m\u001b[0m\u001b[0m\n\u001b[0m",
      "\u001b[1;31mKeyError\u001b[0m: 'a'"
     ]
    }
   ],
   "source": [
    "D1={'1':\"aa\", '2':\"bb\", '3':\"cc\"}\n",
    "D1['a']"
   ]
  },
  {
   "cell_type": "code",
   "execution_count": 1,
   "id": "2c6c16d9",
   "metadata": {},
   "outputs": [
    {
     "name": "stdout",
     "output_type": "stream",
     "text": [
      "0\n",
      "1\n",
      "2\n",
      "3\n"
     ]
    }
   ],
   "source": [
    "i=0\n",
    "while i<4:\n",
    "    print(i)\n",
    "    i+=1"
   ]
  },
  {
   "cell_type": "code",
   "execution_count": 4,
   "id": "44ff380a",
   "metadata": {},
   "outputs": [],
   "source": [
    "from math import pi"
   ]
  },
  {
   "cell_type": "code",
   "execution_count": 5,
   "id": "5c9bc57c",
   "metadata": {},
   "outputs": [
    {
     "data": {
      "text/plain": [
       "3.141592653589793"
      ]
     },
     "execution_count": 5,
     "metadata": {},
     "output_type": "execute_result"
    }
   ],
   "source": [
    "pi"
   ]
  },
  {
   "cell_type": "code",
   "execution_count": 8,
   "id": "c540005a",
   "metadata": {},
   "outputs": [
    {
     "ename": "StopIteration",
     "evalue": "",
     "output_type": "error",
     "traceback": [
      "\u001b[1;31m---------------------------------------------------------------------------\u001b[0m",
      "\u001b[1;31mStopIteration\u001b[0m                             Traceback (most recent call last)",
      "\u001b[1;32m~\\AppData\\Local\\Temp/ipykernel_27996/2445401917.py\u001b[0m in \u001b[0;36m<module>\u001b[1;34m\u001b[0m\n\u001b[0;32m      4\u001b[0m \u001b[0mnext\u001b[0m\u001b[1;33m(\u001b[0m\u001b[0mit\u001b[0m\u001b[1;33m)\u001b[0m\u001b[1;33m\u001b[0m\u001b[1;33m\u001b[0m\u001b[0m\n\u001b[0;32m      5\u001b[0m \u001b[0mnext\u001b[0m\u001b[1;33m(\u001b[0m\u001b[0mit\u001b[0m\u001b[1;33m,\u001b[0m\u001b[1;33m-\u001b[0m\u001b[1;36m1\u001b[0m\u001b[1;33m)\u001b[0m\u001b[1;33m\u001b[0m\u001b[1;33m\u001b[0m\u001b[0m\n\u001b[1;32m----> 6\u001b[1;33m \u001b[0mnext\u001b[0m\u001b[1;33m(\u001b[0m\u001b[0mit\u001b[0m\u001b[1;33m)\u001b[0m\u001b[1;33m\u001b[0m\u001b[1;33m\u001b[0m\u001b[0m\n\u001b[0m",
      "\u001b[1;31mStopIteration\u001b[0m: "
     ]
    }
   ],
   "source": [
    "it=iter([1,2,3])\n",
    "next(it)\n",
    "next(it)\n",
    "next(it)\n",
    "next(it,-1)\n",
    "next(it)"
   ]
  },
  {
   "cell_type": "code",
   "execution_count": 12,
   "id": "52bdbc34",
   "metadata": {},
   "outputs": [
    {
     "data": {
      "text/plain": [
       "'23'"
      ]
     },
     "execution_count": 12,
     "metadata": {},
     "output_type": "execute_result"
    }
   ],
   "source": [
    "'2' +\"3\""
   ]
  },
  {
   "cell_type": "code",
   "execution_count": 13,
   "id": "677ece28",
   "metadata": {},
   "outputs": [
    {
     "ename": "ValueError",
     "evalue": "invalid literal for int() with base 10: 'xyz'",
     "output_type": "error",
     "traceback": [
      "\u001b[1;31m---------------------------------------------------------------------------\u001b[0m",
      "\u001b[1;31mValueError\u001b[0m                                Traceback (most recent call last)",
      "\u001b[1;32m~\\AppData\\Local\\Temp/ipykernel_27996/3352737980.py\u001b[0m in \u001b[0;36m<module>\u001b[1;34m\u001b[0m\n\u001b[1;32m----> 1\u001b[1;33m \u001b[0mint\u001b[0m\u001b[1;33m(\u001b[0m\u001b[1;34m'xyz'\u001b[0m\u001b[1;33m)\u001b[0m\u001b[1;33m\u001b[0m\u001b[1;33m\u001b[0m\u001b[0m\n\u001b[0m",
      "\u001b[1;31mValueError\u001b[0m: invalid literal for int() with base 10: 'xyz'"
     ]
    }
   ],
   "source": [
    "int('xyz')"
   ]
  },
  {
   "cell_type": "code",
   "execution_count": 14,
   "id": "a15d40d8",
   "metadata": {},
   "outputs": [
    {
     "ename": "NameError",
     "evalue": "name 'age' is not defined",
     "output_type": "error",
     "traceback": [
      "\u001b[1;31m---------------------------------------------------------------------------\u001b[0m",
      "\u001b[1;31mNameError\u001b[0m                                 Traceback (most recent call last)",
      "\u001b[1;32m~\\AppData\\Local\\Temp/ipykernel_27996/1733084327.py\u001b[0m in \u001b[0;36m<module>\u001b[1;34m\u001b[0m\n\u001b[1;32m----> 1\u001b[1;33m \u001b[0mage\u001b[0m\u001b[1;33m\u001b[0m\u001b[1;33m\u001b[0m\u001b[0m\n\u001b[0m",
      "\u001b[1;31mNameError\u001b[0m: name 'age' is not defined"
     ]
    }
   ],
   "source": [
    "age"
   ]
  },
  {
   "cell_type": "code",
   "execution_count": 15,
   "id": "14e59712",
   "metadata": {},
   "outputs": [
    {
     "ename": "ZeroDivisionError",
     "evalue": "division by zero",
     "output_type": "error",
     "traceback": [
      "\u001b[1;31m---------------------------------------------------------------------------\u001b[0m",
      "\u001b[1;31mZeroDivisionError\u001b[0m                         Traceback (most recent call last)",
      "\u001b[1;32m~\\AppData\\Local\\Temp/ipykernel_27996/2392013832.py\u001b[0m in \u001b[0;36m<module>\u001b[1;34m\u001b[0m\n\u001b[1;32m----> 1\u001b[1;33m \u001b[0mx\u001b[0m\u001b[1;33m=\u001b[0m\u001b[1;36m100\u001b[0m\u001b[1;33m/\u001b[0m\u001b[1;36m0\u001b[0m\u001b[1;33m\u001b[0m\u001b[1;33m\u001b[0m\u001b[0m\n\u001b[0m",
      "\u001b[1;31mZeroDivisionError\u001b[0m: division by zero"
     ]
    }
   ],
   "source": [
    "x=100/0"
   ]
  },
  {
   "cell_type": "code",
   "execution_count": 18,
   "id": "7452bec0",
   "metadata": {},
   "outputs": [
    {
     "ename": "ValueError",
     "evalue": "math domain error",
     "output_type": "error",
     "traceback": [
      "\u001b[1;31m---------------------------------------------------------------------------\u001b[0m",
      "\u001b[1;31mValueError\u001b[0m                                Traceback (most recent call last)",
      "\u001b[1;32m~\\AppData\\Local\\Temp/ipykernel_27996/3852574513.py\u001b[0m in \u001b[0;36m<module>\u001b[1;34m\u001b[0m\n\u001b[0;32m      1\u001b[0m \u001b[1;32mimport\u001b[0m \u001b[0mmath\u001b[0m\u001b[1;33m\u001b[0m\u001b[1;33m\u001b[0m\u001b[0m\n\u001b[1;32m----> 2\u001b[1;33m \u001b[0mmath\u001b[0m\u001b[1;33m.\u001b[0m\u001b[0msqrt\u001b[0m\u001b[1;33m(\u001b[0m\u001b[1;33m-\u001b[0m\u001b[1;36m5\u001b[0m\u001b[1;33m)\u001b[0m\u001b[1;33m\u001b[0m\u001b[1;33m\u001b[0m\u001b[0m\n\u001b[0m",
      "\u001b[1;31mValueError\u001b[0m: math domain error"
     ]
    }
   ],
   "source": [
    "import math\n",
    "math.sqrt(-5)"
   ]
  },
  {
   "cell_type": "code",
   "execution_count": 40,
   "id": "25ff620b",
   "metadata": {},
   "outputs": [
    {
     "name": "stdout",
     "output_type": "stream",
     "text": [
      "10.0\n",
      "1.0\n",
      "9.9498743710662\n",
      "1.0101010101010102\n",
      "9.899494936611665\n",
      "1.0204081632653061\n",
      "9.848857801796104\n",
      "1.0309278350515463\n",
      "9.797958971132712\n",
      "1.0416666666666667\n",
      "9.746794344808963\n",
      "1.0526315789473684\n",
      "9.695359714832659\n",
      "1.0638297872340425\n",
      "9.643650760992955\n",
      "1.075268817204301\n",
      "9.591663046625438\n",
      "1.0869565217391304\n",
      "9.539392014169456\n",
      "1.098901098901099\n",
      "9.486832980505138\n",
      "1.1111111111111112\n",
      "9.433981132056603\n",
      "1.1235955056179776\n",
      "9.38083151964686\n",
      "1.1363636363636365\n",
      "9.327379053088816\n",
      "1.1494252873563218\n",
      "9.273618495495704\n",
      "1.1627906976744187\n",
      "9.219544457292887\n",
      "1.1764705882352942\n",
      "9.16515138991168\n",
      "1.1904761904761905\n",
      "9.1104335791443\n",
      "1.2048192771084338\n",
      "9.055385138137417\n",
      "1.2195121951219512\n",
      "9.0\n",
      "1.2345679012345678\n",
      "8.94427190999916\n",
      "1.25\n",
      "8.888194417315589\n",
      "1.2658227848101267\n",
      "8.831760866327848\n",
      "1.2820512820512822\n",
      "8.774964387392123\n",
      "1.2987012987012987\n",
      "8.717797887081348\n",
      "1.3157894736842106\n",
      "8.660254037844387\n",
      "1.3333333333333333\n",
      "8.602325267042627\n",
      "1.3513513513513513\n",
      "8.54400374531753\n",
      "1.36986301369863\n",
      "8.48528137423857\n",
      "1.3888888888888888\n",
      "8.426149773176359\n",
      "1.408450704225352\n",
      "8.366600265340756\n",
      "1.4285714285714286\n",
      "8.306623862918075\n",
      "1.4492753623188406\n",
      "8.246211251235321\n",
      "1.4705882352941178\n",
      "8.18535277187245\n",
      "1.492537313432836\n",
      "8.12403840463596\n",
      "1.5151515151515151\n",
      "8.06225774829855\n",
      "1.5384615384615385\n",
      "8.0\n",
      "1.5625\n",
      "7.937253933193772\n",
      "1.5873015873015872\n",
      "7.874007874011811\n",
      "1.6129032258064515\n",
      "7.810249675906654\n",
      "1.639344262295082\n",
      "7.745966692414834\n",
      "1.6666666666666667\n",
      "7.681145747868608\n",
      "1.694915254237288\n",
      "7.615773105863909\n",
      "1.7241379310344827\n",
      "7.54983443527075\n",
      "1.7543859649122806\n",
      "7.483314773547883\n",
      "1.7857142857142858\n",
      "7.416198487095663\n",
      "1.8181818181818181\n",
      "7.3484692283495345\n",
      "1.8518518518518519\n",
      "7.280109889280518\n",
      "1.8867924528301887\n",
      "7.211102550927978\n",
      "1.9230769230769231\n",
      "7.14142842854285\n",
      "1.9607843137254901\n",
      "7.0710678118654755\n",
      "2.0\n",
      "7.0\n",
      "2.0408163265306123\n",
      "6.928203230275509\n",
      "2.0833333333333335\n",
      "6.855654600401044\n",
      "2.127659574468085\n",
      "6.782329983125268\n",
      "2.1739130434782608\n",
      "6.708203932499369\n",
      "2.2222222222222223\n",
      "6.6332495807108\n",
      "2.272727272727273\n",
      "6.557438524302\n",
      "2.3255813953488373\n",
      "6.48074069840786\n",
      "2.380952380952381\n",
      "6.4031242374328485\n",
      "2.4390243902439024\n",
      "6.324555320336759\n",
      "2.5\n",
      "6.244997998398398\n",
      "2.5641025641025643\n",
      "6.164414002968976\n",
      "2.6315789473684212\n",
      "6.082762530298219\n",
      "2.7027027027027026\n",
      "6.0\n",
      "2.7777777777777777\n",
      "5.916079783099616\n",
      "2.857142857142857\n",
      "5.830951894845301\n",
      "2.9411764705882355\n",
      "5.744562646538029\n",
      "3.0303030303030303\n",
      "5.656854249492381\n",
      "3.125\n",
      "5.5677643628300215\n",
      "3.225806451612903\n",
      "5.477225575051661\n",
      "3.3333333333333335\n",
      "5.385164807134504\n",
      "3.4482758620689653\n",
      "5.291502622129181\n",
      "3.5714285714285716\n",
      "5.196152422706632\n",
      "3.7037037037037037\n",
      "5.0990195135927845\n",
      "3.8461538461538463\n",
      "5.0\n",
      "4.0\n",
      "4.898979485566356\n",
      "4.166666666666667\n",
      "4.795831523312719\n",
      "4.3478260869565215\n",
      "4.69041575982343\n",
      "4.545454545454546\n",
      "4.58257569495584\n",
      "4.761904761904762\n",
      "4.47213595499958\n",
      "5.0\n",
      "4.358898943540674\n",
      "5.2631578947368425\n",
      "4.242640687119285\n",
      "5.555555555555555\n",
      "4.123105625617661\n",
      "5.882352941176471\n",
      "4.0\n",
      "6.25\n",
      "3.872983346207417\n",
      "6.666666666666667\n",
      "3.7416573867739413\n",
      "7.142857142857143\n",
      "3.605551275463989\n",
      "7.6923076923076925\n",
      "3.4641016151377544\n",
      "8.333333333333334\n",
      "3.3166247903554\n",
      "9.090909090909092\n",
      "3.1622776601683795\n",
      "10.0\n",
      "3.0\n",
      "11.11111111111111\n",
      "2.8284271247461903\n",
      "12.5\n",
      "2.6457513110645907\n",
      "14.285714285714286\n",
      "2.449489742783178\n",
      "16.666666666666668\n",
      "2.23606797749979\n",
      "20.0\n",
      "2.0\n",
      "25.0\n",
      "1.7320508075688772\n",
      "33.333333333333336\n",
      "1.4142135623730951\n",
      "50.0\n",
      "1.0\n",
      "100.0\n",
      "0.0\n",
      "100.0\n",
      "1.0\n",
      "-100.0\n",
      "1.4142135623730951\n",
      "-50.0\n"
     ]
    }
   ],
   "source": [
    "for i in range(100,-3,-1):\n",
    "    if i>0:\n",
    "        print(math.sqrt(i))\n",
    "        print(100/i)\n",
    "    elif i == 0:\n",
    "        print(math.sqrt(i))\n",
    "        print(100/1)\n",
    "    else:\n",
    "        print(math.sqrt(abs(i)))\n",
    "        print(100/i)\n",
    "        \n",
    "        \n",
    "        \n",
    "        \n",
    "        \n",
    "        "
   ]
  },
  {
   "cell_type": "code",
   "execution_count": 46,
   "id": "56e13a8e",
   "metadata": {},
   "outputs": [
    {
     "ename": "KeyboardInterrupt",
     "evalue": "Interrupted by user",
     "output_type": "error",
     "traceback": [
      "\u001b[1;31m---------------------------------------------------------------------------\u001b[0m",
      "\u001b[1;31mKeyboardInterrupt\u001b[0m                         Traceback (most recent call last)",
      "\u001b[1;32m~\\AppData\\Local\\Temp/ipykernel_27996/2120145955.py\u001b[0m in \u001b[0;36m<module>\u001b[1;34m\u001b[0m\n\u001b[1;32m----> 1\u001b[1;33m \u001b[0mname\u001b[0m\u001b[1;33m=\u001b[0m\u001b[0minput\u001b[0m\u001b[1;33m(\u001b[0m\u001b[1;34m'enter your name'\u001b[0m\u001b[1;33m)\u001b[0m\u001b[1;33m\u001b[0m\u001b[1;33m\u001b[0m\u001b[0m\n\u001b[0m",
      "\u001b[1;32m~\\Anaconda3\\lib\\site-packages\\ipykernel\\kernelbase.py\u001b[0m in \u001b[0;36mraw_input\u001b[1;34m(self, prompt)\u001b[0m\n\u001b[0;32m   1004\u001b[0m                 \u001b[1;34m\"raw_input was called, but this frontend does not support input requests.\"\u001b[0m\u001b[1;33m\u001b[0m\u001b[1;33m\u001b[0m\u001b[0m\n\u001b[0;32m   1005\u001b[0m             )\n\u001b[1;32m-> 1006\u001b[1;33m         return self._input_request(\n\u001b[0m\u001b[0;32m   1007\u001b[0m             \u001b[0mstr\u001b[0m\u001b[1;33m(\u001b[0m\u001b[0mprompt\u001b[0m\u001b[1;33m)\u001b[0m\u001b[1;33m,\u001b[0m\u001b[1;33m\u001b[0m\u001b[1;33m\u001b[0m\u001b[0m\n\u001b[0;32m   1008\u001b[0m             \u001b[0mself\u001b[0m\u001b[1;33m.\u001b[0m\u001b[0m_parent_ident\u001b[0m\u001b[1;33m[\u001b[0m\u001b[1;34m\"shell\"\u001b[0m\u001b[1;33m]\u001b[0m\u001b[1;33m,\u001b[0m\u001b[1;33m\u001b[0m\u001b[1;33m\u001b[0m\u001b[0m\n",
      "\u001b[1;32m~\\Anaconda3\\lib\\site-packages\\ipykernel\\kernelbase.py\u001b[0m in \u001b[0;36m_input_request\u001b[1;34m(self, prompt, ident, parent, password)\u001b[0m\n\u001b[0;32m   1049\u001b[0m             \u001b[1;32mexcept\u001b[0m \u001b[0mKeyboardInterrupt\u001b[0m\u001b[1;33m:\u001b[0m\u001b[1;33m\u001b[0m\u001b[1;33m\u001b[0m\u001b[0m\n\u001b[0;32m   1050\u001b[0m                 \u001b[1;31m# re-raise KeyboardInterrupt, to truncate traceback\u001b[0m\u001b[1;33m\u001b[0m\u001b[1;33m\u001b[0m\u001b[0m\n\u001b[1;32m-> 1051\u001b[1;33m                 \u001b[1;32mraise\u001b[0m \u001b[0mKeyboardInterrupt\u001b[0m\u001b[1;33m(\u001b[0m\u001b[1;34m\"Interrupted by user\"\u001b[0m\u001b[1;33m)\u001b[0m \u001b[1;32mfrom\u001b[0m \u001b[1;32mNone\u001b[0m\u001b[1;33m\u001b[0m\u001b[1;33m\u001b[0m\u001b[0m\n\u001b[0m\u001b[0;32m   1052\u001b[0m             \u001b[1;32mexcept\u001b[0m \u001b[0mException\u001b[0m\u001b[1;33m:\u001b[0m\u001b[1;33m\u001b[0m\u001b[1;33m\u001b[0m\u001b[0m\n\u001b[0;32m   1053\u001b[0m                 \u001b[0mself\u001b[0m\u001b[1;33m.\u001b[0m\u001b[0mlog\u001b[0m\u001b[1;33m.\u001b[0m\u001b[0mwarning\u001b[0m\u001b[1;33m(\u001b[0m\u001b[1;34m\"Invalid Message:\"\u001b[0m\u001b[1;33m,\u001b[0m \u001b[0mexc_info\u001b[0m\u001b[1;33m=\u001b[0m\u001b[1;32mTrue\u001b[0m\u001b[1;33m)\u001b[0m\u001b[1;33m\u001b[0m\u001b[1;33m\u001b[0m\u001b[0m\n",
      "\u001b[1;31mKeyboardInterrupt\u001b[0m: Interrupted by user"
     ]
    }
   ],
   "source": [
    "name=input('enter your name')"
   ]
  },
  {
   "cell_type": "code",
   "execution_count": 49,
   "id": "a3d602c6",
   "metadata": {},
   "outputs": [
    {
     "name": "stdout",
     "output_type": "stream",
     "text": [
      "KeyboardInterrupt exception is caught\n"
     ]
    }
   ],
   "source": [
    "try:\n",
    "    x = input()\n",
    "    print ('Try using KeyboardInterrupt')\n",
    "except KeyboardInterrupt:\n",
    "    print ('KeyboardInterrupt exception is caught')\n",
    "else:\n",
    "    print ('No exceptions are caught')"
   ]
  },
  {
   "cell_type": "code",
   "execution_count": 52,
   "id": "36cbfb86",
   "metadata": {},
   "outputs": [
    {
     "name": "stdout",
     "output_type": "stream",
     "text": [
      "5\n",
      "Try using KeyboardInterrupt\n",
      "wird exukutiert immer\n"
     ]
    }
   ],
   "source": [
    "try:\n",
    "    x = input()\n",
    "    print ('Try using KeyboardInterrupt')\n",
    "except KeyboardInterrupt:\n",
    "    print ('KeyboardInterrupt exception is caught')\n",
    "finally:\n",
    "    print ('wird exukutiert immer')"
   ]
  },
  {
   "cell_type": "code",
   "execution_count": 55,
   "id": "65d335bc",
   "metadata": {},
   "outputs": [
    {
     "data": {
      "text/plain": [
       "<function _signal.default_int_handler>"
      ]
     },
     "execution_count": 55,
     "metadata": {},
     "output_type": "execute_result"
    }
   ],
   "source": [
    "import signal\n",
    "import sys\n",
    "\n",
    "def sigint_handler(signal, frame):\n",
    "    print ('KeyboardInterrupt is caught')\n",
    "    sys.exit(0)\n",
    "signal.signal(signal.SIGINT, sigint_handler)"
   ]
  },
  {
   "cell_type": "code",
   "execution_count": 63,
   "id": "c0dff180",
   "metadata": {},
   "outputs": [
    {
     "name": "stdout",
     "output_type": "stream",
     "text": [
      "enter the NUMBER: 6,63\n",
      "6,63\n",
      "['6', '63']\n",
      "4.47213595499958\n",
      "14.491376746189438\n"
     ]
    }
   ],
   "source": [
    "n=input(\"enter the NUMBER: \") \n",
    "l= n.split(',')  \n",
    "print(n)\n",
    "print(l)\n",
    "C=50\n",
    "H=30\n",
    "import math\n",
    "for i in range (0,len(l)):\n",
    "    Q=math.sqrt((2*C*int(l[i])/H))\n",
    "    print(Q)  "
   ]
  },
  {
   "cell_type": "code",
   "execution_count": null,
   "id": "167a21b5",
   "metadata": {},
   "outputs": [],
   "source": []
  }
 ],
 "metadata": {
  "kernelspec": {
   "display_name": "Python 3 (ipykernel)",
   "language": "python",
   "name": "python3"
  },
  "language_info": {
   "codemirror_mode": {
    "name": "ipython",
    "version": 3
   },
   "file_extension": ".py",
   "mimetype": "text/x-python",
   "name": "python",
   "nbconvert_exporter": "python",
   "pygments_lexer": "ipython3",
   "version": "3.9.7"
  }
 },
 "nbformat": 4,
 "nbformat_minor": 5
}
