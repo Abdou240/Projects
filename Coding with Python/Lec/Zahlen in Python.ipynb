{
 "cells": [
  {
   "cell_type": "code",
   "execution_count": 20,
   "id": "7ad82031",
   "metadata": {},
   "outputs": [],
   "source": [
    "Student1 = \"Max\"\n",
    "Student2 = \"Monika\"\n",
    "Student3 = \"Erik\"\n",
    "Student4 = \"Franziska\"\n"
   ]
  },
  {
   "cell_type": "code",
   "execution_count": 21,
   "id": "28fe187d",
   "metadata": {},
   "outputs": [],
   "source": [
    "Student5 = \"ABC\""
   ]
  },
  {
   "cell_type": "code",
   "execution_count": 22,
   "id": "59fbf1d0",
   "metadata": {},
   "outputs": [],
   "source": [
    "Students = [Student1, Student2, Student3, Student4, Student5]"
   ]
  },
  {
   "cell_type": "code",
   "execution_count": 23,
   "id": "49b74c7a",
   "metadata": {},
   "outputs": [
    {
     "data": {
      "text/plain": [
       "['Max', 'Monika', 'Erik', 'Franziska', 'ABC']"
      ]
     },
     "execution_count": 23,
     "metadata": {},
     "output_type": "execute_result"
    }
   ],
   "source": [
    "Students"
   ]
  },
  {
   "cell_type": "code",
   "execution_count": 24,
   "id": "b18a7f3c",
   "metadata": {},
   "outputs": [],
   "source": [
    "Students.append(\"Moritz\")"
   ]
  },
  {
   "cell_type": "code",
   "execution_count": 25,
   "id": "2cc83b82",
   "metadata": {},
   "outputs": [
    {
     "data": {
      "text/plain": [
       "['Max', 'Monika', 'Erik', 'Franziska', 'ABC', 'Moritz']"
      ]
     },
     "execution_count": 25,
     "metadata": {},
     "output_type": "execute_result"
    }
   ],
   "source": [
    "Students"
   ]
  },
  {
   "cell_type": "code",
   "execution_count": 26,
   "id": "2d638e99",
   "metadata": {},
   "outputs": [
    {
     "data": {
      "text/plain": [
       "6"
      ]
     },
     "execution_count": 26,
     "metadata": {},
     "output_type": "execute_result"
    }
   ],
   "source": [
    "len(Students)"
   ]
  },
  {
   "cell_type": "code",
   "execution_count": 28,
   "id": "90a206c5",
   "metadata": {},
   "outputs": [
    {
     "data": {
      "text/plain": [
       "['Max', 'Monika']"
      ]
     },
     "execution_count": 28,
     "metadata": {},
     "output_type": "execute_result"
    }
   ],
   "source": [
    "Students[0:2]"
   ]
  },
  {
   "cell_type": "code",
   "execution_count": 41,
   "id": "0e88334b",
   "metadata": {},
   "outputs": [
    {
     "data": {
      "text/plain": [
       "['Merkur', 'Venus', 'Erde', 'Mars', 'Jupiter', 'Uranus', 'Neptun']"
      ]
     },
     "execution_count": 41,
     "metadata": {},
     "output_type": "execute_result"
    }
   ],
   "source": [
    "planete = [\"Merkur\", \"Venus\", \"Erde\", \"Mars\", \"Jupiter\", \"Saturn\", \"Uranus\", \"Neptun\"]\n",
    "p =planete.pop(5)\n",
    "planete\n"
   ]
  },
  {
   "cell_type": "code",
   "execution_count": 39,
   "id": "317932c2",
   "metadata": {},
   "outputs": [
    {
     "ename": "SyntaxError",
     "evalue": "invalid syntax (Temp/ipykernel_10904/4017538785.py, line 1)",
     "output_type": "error",
     "traceback": [
      "\u001b[1;36m  File \u001b[1;32m\"C:\\Users\\mansoura\\AppData\\Local\\Temp/ipykernel_10904/4017538785.py\"\u001b[1;36m, line \u001b[1;32m1\u001b[0m\n\u001b[1;33m    pop ?\u001b[0m\n\u001b[1;37m        ^\u001b[0m\n\u001b[1;31mSyntaxError\u001b[0m\u001b[1;31m:\u001b[0m invalid syntax\n"
     ]
    }
   ],
   "source": []
  },
  {
   "cell_type": "code",
   "execution_count": 44,
   "id": "3eed0afc",
   "metadata": {},
   "outputs": [
    {
     "name": "stdout",
     "output_type": "stream",
     "text": [
      "12.1\n"
     ]
    }
   ],
   "source": [
    "a = \"5.5\"\n",
    "b = \"6.6\"\n",
    "print(float(a)+ float(b))"
   ]
  },
  {
   "cell_type": "code",
   "execution_count": 49,
   "id": "597d5fe9",
   "metadata": {},
   "outputs": [
    {
     "name": "stdout",
     "output_type": "stream",
     "text": [
      "Ich bin 28 Jahre alt\n"
     ]
    }
   ],
   "source": [
    "age = 28\n",
    "print(\"Ich bin \" + str(age) + \" Jahre alt\" )"
   ]
  },
  {
   "cell_type": "code",
   "execution_count": 50,
   "id": "622f5e71",
   "metadata": {},
   "outputs": [],
   "source": [
    "Students = [Student1, Student2, Student3, Student4, Student5]"
   ]
  },
  {
   "cell_type": "code",
   "execution_count": 51,
   "id": "119d7d21",
   "metadata": {},
   "outputs": [
    {
     "data": {
      "text/plain": [
       "['Max', 'Monika', 'Erik', 'Franziska', 'ABC']"
      ]
     },
     "execution_count": 51,
     "metadata": {},
     "output_type": "execute_result"
    }
   ],
   "source": [
    "Students"
   ]
  },
  {
   "cell_type": "code",
   "execution_count": 52,
   "id": "ca427873",
   "metadata": {},
   "outputs": [
    {
     "name": "stdout",
     "output_type": "stream",
     "text": [
      "Max\n",
      "Monika\n",
      "Erik\n",
      "Franziska\n",
      "ABC\n"
     ]
    }
   ],
   "source": [
    "for i in Students:\n",
    "    print(i)"
   ]
  },
  {
   "cell_type": "code",
   "execution_count": 55,
   "id": "ee3d44fa",
   "metadata": {},
   "outputs": [
    {
     "name": "stdout",
     "output_type": "stream",
     "text": [
      "Max\n",
      "Monika\n",
      "Erik\n",
      "Franziska\n",
      "ABC\n"
     ]
    }
   ],
   "source": [
    "for j in range(len(Students)):\n",
    "    print(Students[j])"
   ]
  },
  {
   "cell_type": "code",
   "execution_count": 70,
   "id": "ab62b1ef",
   "metadata": {},
   "outputs": [
    {
     "data": {
      "text/plain": [
       "['Max', '#', 'Monika', '#', 'Erik', '#', 'Franziska', '#', 'ABC', '#']"
      ]
     },
     "execution_count": 70,
     "metadata": {},
     "output_type": "execute_result"
    }
   ],
   "source": [
    "students = []\n",
    "for i in  range(len(Students)):\n",
    "    students.append(Students[i])\n",
    "    students.append(\"#\")\n",
    "students\n"
   ]
  },
  {
   "cell_type": "code",
   "execution_count": 71,
   "id": "4deb4ee2",
   "metadata": {},
   "outputs": [
    {
     "data": {
      "text/plain": [
       "range(0, 5)"
      ]
     },
     "execution_count": 71,
     "metadata": {},
     "output_type": "execute_result"
    }
   ],
   "source": [
    "range(5)"
   ]
  },
  {
   "cell_type": "code",
   "execution_count": 74,
   "id": "034aabc5",
   "metadata": {},
   "outputs": [
    {
     "data": {
      "text/plain": [
       "[array([0, 1, 4])]"
      ]
     },
     "execution_count": 74,
     "metadata": {},
     "output_type": "execute_result"
    }
   ],
   "source": [
    "import numpy as np\n",
    "x = np.arange(3)\n",
    "y = [x * x]\n",
    "y"
   ]
  },
  {
   "cell_type": "code",
   "execution_count": null,
   "id": "1cab60f2",
   "metadata": {},
   "outputs": [],
   "source": []
  }
 ],
 "metadata": {
  "kernelspec": {
   "display_name": "Python 3 (ipykernel)",
   "language": "python",
   "name": "python3"
  },
  "language_info": {
   "codemirror_mode": {
    "name": "ipython",
    "version": 3
   },
   "file_extension": ".py",
   "mimetype": "text/x-python",
   "name": "python",
   "nbconvert_exporter": "python",
   "pygments_lexer": "ipython3",
   "version": "3.9.7"
  }
 },
 "nbformat": 4,
 "nbformat_minor": 5
}
