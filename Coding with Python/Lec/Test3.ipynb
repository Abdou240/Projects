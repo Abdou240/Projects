{
 "cells": [
  {
   "cell_type": "code",
   "execution_count": 6,
   "id": "dcdcadde",
   "metadata": {},
   "outputs": [
    {
     "name": "stdout",
     "output_type": "stream",
     "text": [
      "7\n",
      "red\n",
      "12\n",
      "black\n",
      "14\n",
      "6\n",
      "8\n"
     ]
    }
   ],
   "source": [
    "class Car(object):\n",
    "    def __init__(self, model, passengers, color, speed):\n",
    "        self.model = model\n",
    "        self.passengers = passengers\n",
    "        self.color = color\n",
    "        self.speed = speed\n",
    "\n",
    "    def accelerate(self):\n",
    "        self.speed = self.speed + 2\n",
    "        print (self.speed)\n",
    "\n",
    "bmw = Car(\"BMW\", 4, \"red\", 5)\n",
    "ferrari = Car(\"Ferrari\", 2, \"black\", 10)\n",
    "ford = Car(\"Ford\", 6, \"blue\", 6)\n",
    "\n",
    "bmw.accelerate()\n",
    "print (bmw.color)\n",
    "\n",
    "ferrari.accelerate()\n",
    "print (ferrari.color)\n",
    "ferrari.accelerate() #note that the speed has been updated from the previous accelerate call\n",
    "\n",
    "print (ford.passengers)\n",
    "ford.accelerate()"
   ]
  },
  {
   "cell_type": "code",
   "execution_count": 12,
   "id": "2a7c1ff6",
   "metadata": {},
   "outputs": [],
   "source": [
    "class bar(object):\n",
    "    foo = 5\n",
    "bar.foo = 8  + bar.foo"
   ]
  },
  {
   "cell_type": "code",
   "execution_count": 13,
   "id": "48285cbe",
   "metadata": {},
   "outputs": [
    {
     "name": "stdout",
     "output_type": "stream",
     "text": [
      "13\n"
     ]
    }
   ],
   "source": [
    "print(bar.foo)"
   ]
  },
  {
   "cell_type": "code",
   "execution_count": 33,
   "id": "b717edf6",
   "metadata": {},
   "outputs": [
    {
     "name": "stdout",
     "output_type": "stream",
     "text": [
      "2\n",
      "2\n",
      "4.0\n"
     ]
    }
   ],
   "source": [
    "class IceCream(object):\n",
    "    def __init__(self, flavor, numScoops, costPerScoop, remaining_icecream):\n",
    "        self.flavor = flavor\n",
    "        self.numScoops = numScoops\n",
    "        self.costPerScoop = costPerScoop\n",
    "        self.remaining_icecream = remaining_icecream\n",
    "\n",
    "    def scoop(self):\n",
    "                #shows the amount of ice cream remaining after an order is scooped\n",
    "        #scoops icecream and decreases the number of scoops left\n",
    "        self.remaining_icecream -= self.numScoops\n",
    "        return self.remaining_icecream\n",
    "\n",
    "    def total_cost(self):\n",
    "        #vanilla ice cream is sold at a discount of half off!\n",
    "        if self.flavor == \"vanilla\":\n",
    "            total_cost = self.numScoops * .5*self.costPerScoop\n",
    "\n",
    "        else:\n",
    "            total_cost = self.numScoops * self.costPerScoop\n",
    "\n",
    "        return total_cost\n",
    "chocolate = IceCream(\"chocolate\",4,1,6)\n",
    "print (chocolate.remaining_icecream - chocolate.numScoops)\n",
    "print (chocolate.scoop())\n",
    "vanilla = IceCream(\"vanilla\", 4, 2, 10)\n",
    "print (vanilla.total_cost())"
   ]
  },
  {
   "cell_type": "code",
   "execution_count": 28,
   "id": "e6addda0",
   "metadata": {},
   "outputs": [
    {
     "data": {
      "text/plain": [
       "-2"
      ]
     },
     "execution_count": 28,
     "metadata": {},
     "output_type": "execute_result"
    }
   ],
   "source": []
  },
  {
   "cell_type": "code",
   "execution_count": 37,
   "id": "98a0e1fb",
   "metadata": {},
   "outputs": [
    {
     "name": "stdout",
     "output_type": "stream",
     "text": [
      "John.Doe@company.com\n",
      "Jane\n",
      "John Doe\n",
      "Jane Doe\n"
     ]
    }
   ],
   "source": [
    "class Employee:\n",
    "    def __init__(self, first,last,pay):\n",
    "        self.first = first\n",
    "        self.last = last\n",
    "        self.pay = pay\n",
    "        self.email = self.first + '.' + self.last + '@company.com'\n",
    "\n",
    "    def fullname(self):\n",
    "        return self.first + ' ' + self.last\n",
    "emp_1 = Employee('John','Doe',50000)\n",
    "emp_2 = Employee('Jane','Doe',60000)\n",
    "print(emp_1.email)\n",
    "print(emp_2.first)\n",
    "print(emp_1.fullname())\n",
    "print(Employee.fullname(emp_2))\n"
   ]
  },
  {
   "cell_type": "code",
   "execution_count": 51,
   "id": "0aff8bba",
   "metadata": {},
   "outputs": [
    {
     "name": "stdout",
     "output_type": "stream",
     "text": [
      "Bird is ready\n",
      "Penguin is ready\n",
      "#\n",
      "Penguin\n",
      "#\n",
      "Swim faster\n",
      "#\n",
      "Run faster\n",
      "Bird is ready\n",
      "Bird is ready\n"
     ]
    },
    {
     "data": {
      "text/plain": [
       "False"
      ]
     },
     "execution_count": 51,
     "metadata": {},
     "output_type": "execute_result"
    }
   ],
   "source": [
    "# parent class\n",
    "class Bird:\n",
    "    \n",
    "    def __init__(self):\n",
    "        print(\"Bird is ready\")\n",
    "\n",
    "    def whoisThis(self):\n",
    "        print(\"Bird\")\n",
    "    def swim(self):\n",
    "        print(\"Swim faster\")\n",
    "\n",
    "# child class\n",
    "class Penguin(Bird):\n",
    "\n",
    "    def __init__(self):\n",
    "        super().__init__()\n",
    "        print(\"Penguin is ready\")\n",
    "\n",
    "    def whoisThis(self):\n",
    "        print(\"Penguin\")\n",
    "\n",
    "    def run(self):\n",
    "        print(\"Run faster\")\n",
    "\n",
    "peggy = Penguin()\n",
    "print('#')\n",
    "peggy.whoisThis()\n",
    "print('#')\n",
    "peggy.swim()\n",
    "print('#')\n",
    "peggy.run()\n",
    "a = Bird()\n",
    "b = Bird()\n",
    "a == b"
   ]
  },
  {
   "cell_type": "markdown",
   "id": "64da5947",
   "metadata": {},
   "source": [
    "# 1\n",
    "Write a python class named Point3D defined by x, y, and z. Define a method that returns (x, y ,z). This tells Python to represent this object in the following format: (x, y, z). Then create a variable named my_point containing a new instance of Point3D with x=1, y=2, and z=3 and print it."
   ]
  },
  {
   "cell_type": "code",
   "execution_count": 57,
   "id": "36231cea",
   "metadata": {},
   "outputs": [
    {
     "name": "stdout",
     "output_type": "stream",
     "text": [
      "(1, 2, 3)\n"
     ]
    }
   ],
   "source": [
    "class Point3D:\n",
    "    def __init__(self,x,y,z):\n",
    "        self.x = x\n",
    "        self.y = y\n",
    "        self.z = z\n",
    "    def rueckgabe(self):\n",
    "        return (self.x,self.y,self.z)\n",
    "\n",
    "my_point=Point3D(1,2,3)\n",
    "print(my_point.rueckgabe())"
   ]
  },
  {
   "cell_type": "markdown",
   "id": "0ae16f88",
   "metadata": {},
   "source": [
    "# 2\n",
    "Write a Python class named Rectangle constructed by a length and width. Define two methods area and perimeter which will compute the area and the perimeter of the rectangle. Then create a variable named my_rectangle containing a new instance of Rectangle with width=3 and length = 4 and compute both of area and perimeter ( the area is expected to be 34=12 and perimeter 2(3+4)=14)"
   ]
  },
  {
   "cell_type": "code",
   "execution_count": 65,
   "id": "77a3e3f1",
   "metadata": {},
   "outputs": [
    {
     "name": "stdout",
     "output_type": "stream",
     "text": [
      "The area of the Rectangle with a width = 3 and a length = 4 is 12 m2.\n",
      "The perimeter of the Rectangle a the width = 3 and a length = 4 is 14 m.\n"
     ]
    }
   ],
   "source": [
    "class Rectangle:\n",
    "    def __init__(self,width,length):\n",
    "        self.length = length\n",
    "        self.width  = width\n",
    "    def area (self):\n",
    "        return self.length * self.width\n",
    "    def perimeter (self):\n",
    "        return (self.length + self.width) * 2\n",
    "\n",
    "my_rectangle = Rectangle(3,4)\n",
    "print(\"The area of the Rectangle with a width = {} and a length = {} is {} m2.\".format(my_rectangle.width,my_rectangle.length,my_rectangle.area()))\n",
    "print(\"The perimeter of the Rectangle a the width = {} and a length = {} is {} m.\".format(my_rectangle.width,my_rectangle.length,my_rectangle.perimeter()))"
   ]
  },
  {
   "cell_type": "markdown",
   "id": "774d3749",
   "metadata": {},
   "source": [
    "# 3\n",
    "Write a Python class named Circle constructed by its center O and radius r. Define two methods area and perimeter which will compute the area and the perimeter of the circle, and isInside() method of the class which allows to test whether a point A(x, y) belongs to the circle C(O, r) or not."
   ]
  },
  {
   "cell_type": "code",
   "execution_count": 83,
   "id": "c68fa0ae",
   "metadata": {},
   "outputs": [
    {
     "name": "stdout",
     "output_type": "stream",
     "text": [
      "50.26548245743669\n",
      "25.132741228718345\n",
      "3.0\n",
      "inside\n",
      "None\n",
      "5.385164807134504\n",
      "Outside\n",
      "None\n"
     ]
    }
   ],
   "source": [
    "from math import pi\n",
    "from math import sqrt\n",
    "class Circle:\n",
    "    def __init__(self,O,r):\n",
    "        self.O = O\n",
    "        self.r = r\n",
    "    def area (self):\n",
    "        return pi * self.r ** 2\n",
    "    def perimeter (self):\n",
    "        return pi * 2 * self.r\n",
    "    def isInside(self,x,y):\n",
    "        d = sqrt((x-self.O) ** 2 +(y-self.r) ** 2)\n",
    "        print(d)\n",
    "        if self.r >= d:\n",
    "            return print(\"inside\")\n",
    "        else:\n",
    "            return print(\"Outside\")\n",
    "\n",
    "cir1 = Circle(1,4)\n",
    "cir2 = Circle(3,4)\n",
    "print(cir1.area())\n",
    "print(cir1.perimeter())\n",
    "print(cir1.isInside(1,1))\n",
    "print(cir2.isInside(1,9))"
   ]
  },
  {
   "cell_type": "markdown",
   "id": "b2b823e5",
   "metadata": {},
   "source": [
    "# 4\n",
    "Suppose we want to model a bank account with support for deposit and withdraw operations. Let’s create a python class named bank defined by its balance. Define two methods deposit and withdraw to compute the new amount of each operation.\n",
    "\n"
   ]
  },
  {
   "cell_type": "code",
   "execution_count": 89,
   "id": "0df67251",
   "metadata": {},
   "outputs": [
    {
     "name": "stdout",
     "output_type": "stream",
     "text": [
      "4500\n",
      "4600\n"
     ]
    }
   ],
   "source": [
    "class bank:\n",
    "    def __init__(self,amount):\n",
    "        self.amount = amount\n",
    "    def deposit(self,deposit):\n",
    "        self.amount = self.amount - deposit \n",
    "        return self.amount \n",
    "    def withdraw(self,withdraw):\n",
    "        self.amount = self.amount + withdraw\n",
    "        return self.amount \n",
    "\n",
    "bank1 = bank(5000)\n",
    "print(bank1.deposit(500))\n",
    "print(bank1.withdraw(100))"
   ]
  },
  {
   "cell_type": "code",
   "execution_count": 90,
   "id": "de7a8da8",
   "metadata": {},
   "outputs": [
    {
     "name": "stdout",
     "output_type": "stream",
     "text": [
      "3.141592653589793\n"
     ]
    }
   ],
   "source": [
    "from math import pi as p\n",
    "print(p)"
   ]
  },
  {
   "cell_type": "code",
   "execution_count": 102,
   "id": "574b48f7",
   "metadata": {},
   "outputs": [
    {
     "name": "stdout",
     "output_type": "stream",
     "text": [
      "dict_keys(['knowledge', 'tool', 'year'])\n",
      "dict_values(['Data Science', 'python', 2020])\n",
      "dict_items([('knowledge', 'Data Science'), ('tool', 'python'), ('year', 2020)])\n"
     ]
    }
   ],
   "source": [
    "my_dictionary =\t{\"knowledge\": \"Data Science\",\"tool\": \"python\",\"year\": 2020}\n",
    "print(my_dictionary.keys())\n",
    "print(my_dictionary.values())\n",
    "print(my_dictionary.items())"
   ]
  },
  {
   "cell_type": "code",
   "execution_count": 108,
   "id": "e567ec48",
   "metadata": {},
   "outputs": [
    {
     "name": "stdout",
     "output_type": "stream",
     "text": [
      "knowledge\n",
      "tool\n",
      "year\n",
      "Data Science\n",
      "python\n",
      "2020\n",
      "('knowledge', 'Data Science')\n",
      "('tool', 'python')\n",
      "('year', 2020)\n",
      "3\n"
     ]
    }
   ],
   "source": [
    "for key in my_dictionary.keys():     # Loop Through dictionary keys\n",
    "     print(key)\n",
    "\n",
    "for value in my_dictionary.values():    #  Loop Through dictionary values\n",
    "     print(value)\n",
    "\n",
    "for item in my_dictionary.items():     # Loop Through dictionary items\n",
    "      print(item)\n",
    "print(len(my_dictionary))"
   ]
  },
  {
   "cell_type": "code",
   "execution_count": 113,
   "id": "9582cb84",
   "metadata": {},
   "outputs": [
    {
     "name": "stdout",
     "output_type": "stream",
     "text": [
      "{'knowledge': 'Data Science', 'tool': 'python', 'year': 2020, 'learn': True}\n",
      "{'knowledge': 'Data Science', 'year': 2020, 'learn': True}\n",
      "{'knowledge': 'Data Science', 'year': 2020}\n"
     ]
    }
   ],
   "source": [
    "my_dictionary =\t{\"knowledge\": \"Data Science\",\"tool\": \"python\",\"year\": 2020}\n",
    "my_dictionary[\"learn\"] = True  #add True value with \"learn\" key\n",
    "print(my_dictionary)\n",
    "my_dictionary.pop(\"tool\")     #remove \"tool\" item\n",
    "print(my_dictionary) \n",
    "\n",
    "del my_dictionary[\"learn\"]\n",
    "print(my_dictionary)"
   ]
  },
  {
   "cell_type": "code",
   "execution_count": 114,
   "id": "ae335ab1",
   "metadata": {},
   "outputs": [
    {
     "name": "stdout",
     "output_type": "stream",
     "text": [
      "('a', 'b', 'c', 1, 2, 3)\n"
     ]
    }
   ],
   "source": [
    "tuple1 = (\"a\", \"b\" , \"c\")\n",
    "tuple2 = (1, 2, 3)\n",
    "tuple3 = tuple1 + tuple2     #join the two tuples by + operator\n",
    "print(tuple3) "
   ]
  },
  {
   "cell_type": "code",
   "execution_count": 116,
   "id": "a358e109",
   "metadata": {},
   "outputs": [
    {
     "name": "stdout",
     "output_type": "stream",
     "text": [
      "['a', 'b', 'c', 1, 2, 3]\n"
     ]
    }
   ],
   "source": [
    "List1 = [\"a\", \"b\" , \"c\"]\n",
    "List2 = [1, 2, 3]\n",
    "List3 = List1 + List2     #join the two tuples by + operator\n",
    "print(List3) "
   ]
  },
  {
   "cell_type": "code",
   "execution_count": 6,
   "id": "26719395",
   "metadata": {},
   "outputs": [],
   "source": [
    "import numpy as np "
   ]
  },
  {
   "cell_type": "code",
   "execution_count": 12,
   "id": "8118af83",
   "metadata": {},
   "outputs": [
    {
     "name": "stdout",
     "output_type": "stream",
     "text": [
      "[1 2 3]\n",
      "[[1 2 3]\n",
      " [4 5 6]]\n"
     ]
    }
   ],
   "source": [
    "arr1=np.array([1,2,3])\n",
    "arr2=np.array([[1,2,3],[4,5,6]])\n",
    "print(arr1)\n",
    "print(arr2)"
   ]
  },
  {
   "cell_type": "code",
   "execution_count": 13,
   "id": "1113f200",
   "metadata": {},
   "outputs": [
    {
     "data": {
      "text/plain": [
       "array([[1, 2],\n",
       "       [3, 4],\n",
       "       [5, 6]])"
      ]
     },
     "execution_count": 13,
     "metadata": {},
     "output_type": "execute_result"
    }
   ],
   "source": [
    "a = np.array([(1, 2), (3, 4), (5,6)])\n",
    "a"
   ]
  },
  {
   "cell_type": "code",
   "execution_count": 14,
   "id": "8e9c058a",
   "metadata": {},
   "outputs": [
    {
     "data": {
      "text/plain": [
       "(3, 2)"
      ]
     },
     "execution_count": 14,
     "metadata": {},
     "output_type": "execute_result"
    }
   ],
   "source": [
    "a.shape"
   ]
  },
  {
   "cell_type": "code",
   "execution_count": 15,
   "id": "71fab4a2",
   "metadata": {},
   "outputs": [
    {
     "data": {
      "text/plain": [
       "array([[1, 2],\n",
       "       [3, 4],\n",
       "       [5, 6]])"
      ]
     },
     "execution_count": 15,
     "metadata": {},
     "output_type": "execute_result"
    }
   ],
   "source": [
    "a"
   ]
  },
  {
   "cell_type": "code",
   "execution_count": 16,
   "id": "186e0172",
   "metadata": {},
   "outputs": [
    {
     "data": {
      "text/plain": [
       "array([5, 6])"
      ]
     },
     "execution_count": 16,
     "metadata": {},
     "output_type": "execute_result"
    }
   ],
   "source": [
    "a[-1]"
   ]
  },
  {
   "cell_type": "code",
   "execution_count": 17,
   "id": "418155bc",
   "metadata": {},
   "outputs": [
    {
     "data": {
      "text/plain": [
       "6"
      ]
     },
     "execution_count": 17,
     "metadata": {},
     "output_type": "execute_result"
    }
   ],
   "source": [
    "a[-1,-1]"
   ]
  },
  {
   "cell_type": "code",
   "execution_count": 23,
   "id": "4e84760a",
   "metadata": {},
   "outputs": [
    {
     "name": "stdout",
     "output_type": "stream",
     "text": [
      "[3 4]\n",
      "[3 4]\n",
      "[2 4 6]\n",
      "[2 4 6]\n"
     ]
    }
   ],
   "source": [
    "print(a[1,:])\n",
    "print(a[1])\n",
    "print(a[:,1])\n",
    "print(a[:,-1])"
   ]
  },
  {
   "cell_type": "code",
   "execution_count": 24,
   "id": "cbc41446",
   "metadata": {},
   "outputs": [],
   "source": [
    "A = np.array([[0,1,2],[3,4,5]])"
   ]
  },
  {
   "cell_type": "code",
   "execution_count": 25,
   "id": "ade0e573",
   "metadata": {},
   "outputs": [
    {
     "data": {
      "text/plain": [
       "array([[0, 1, 2],\n",
       "       [3, 4, 5]])"
      ]
     },
     "execution_count": 25,
     "metadata": {},
     "output_type": "execute_result"
    }
   ],
   "source": [
    "A"
   ]
  },
  {
   "cell_type": "code",
   "execution_count": 30,
   "id": "4eba4dec",
   "metadata": {},
   "outputs": [
    {
     "name": "stdout",
     "output_type": "stream",
     "text": [
      "[[0 2]\n",
      " [3 5]]\n",
      "[[0 1]\n",
      " [3 4]]\n"
     ]
    }
   ],
   "source": [
    "print(A[:, [0,2]])\n",
    "print(A[:, 0:2])"
   ]
  },
  {
   "cell_type": "code",
   "execution_count": 31,
   "id": "9d621aeb",
   "metadata": {},
   "outputs": [
    {
     "name": "stdout",
     "output_type": "stream",
     "text": [
      "0.7226470894105703\n"
     ]
    }
   ],
   "source": [
    "import numpy as np\n",
    "value=np.random.random()\n",
    "print(value)"
   ]
  },
  {
   "cell_type": "code",
   "execution_count": 32,
   "id": "49398ed4",
   "metadata": {},
   "outputs": [
    {
     "name": "stdout",
     "output_type": "stream",
     "text": [
      "[[0.67775424 0.1386601 ]\n",
      " [0.78274194 0.48413467]]\n"
     ]
    }
   ],
   "source": [
    "array=np.random.random((2,2))\n",
    "print(array)"
   ]
  },
  {
   "cell_type": "code",
   "execution_count": 33,
   "id": "07bafafc",
   "metadata": {},
   "outputs": [
    {
     "name": "stdout",
     "output_type": "stream",
     "text": [
      "[[4 9 4 6]\n",
      " [2 8 6 2]]\n"
     ]
    }
   ],
   "source": [
    "array=np.random.randint(2, 10, size=(2,4))\n",
    "print(array)"
   ]
  },
  {
   "cell_type": "code",
   "execution_count": 34,
   "id": "2e31223d",
   "metadata": {},
   "outputs": [
    {
     "name": "stdout",
     "output_type": "stream",
     "text": [
      "[0. 0. 0.]\n"
     ]
    }
   ],
   "source": [
    "array=np.zeros(3)\n",
    "print(array)"
   ]
  },
  {
   "cell_type": "code",
   "execution_count": 35,
   "id": "edecf01f",
   "metadata": {},
   "outputs": [
    {
     "name": "stdout",
     "output_type": "stream",
     "text": [
      "[5 5 5]\n"
     ]
    }
   ],
   "source": [
    "array=np.full(3, 5)\n",
    "print(array)"
   ]
  },
  {
   "cell_type": "code",
   "execution_count": 36,
   "id": "80d669f3",
   "metadata": {},
   "outputs": [
    {
     "name": "stdout",
     "output_type": "stream",
     "text": [
      "[[1. 0.]\n",
      " [0. 1.]]\n"
     ]
    }
   ],
   "source": [
    "array=np.eye(2)\n",
    "print(array)"
   ]
  },
  {
   "cell_type": "code",
   "execution_count": 37,
   "id": "4a093496",
   "metadata": {},
   "outputs": [
    {
     "name": "stdout",
     "output_type": "stream",
     "text": [
      "[1. 1. 1. 1. 1.]\n"
     ]
    }
   ],
   "source": [
    "array=np.ones(5)\n",
    "print(array)"
   ]
  },
  {
   "cell_type": "code",
   "execution_count": 40,
   "id": "0efc4703",
   "metadata": {},
   "outputs": [
    {
     "name": "stdout",
     "output_type": "stream",
     "text": [
      "[ 6  9 18]\n"
     ]
    }
   ],
   "source": [
    "import numpy as np \n",
    "a=np.array([1, 2, 5])\n",
    "b=np.array([5,7, 13])\n",
    "print(a+b)"
   ]
  },
  {
   "cell_type": "code",
   "execution_count": 41,
   "id": "0688bc77",
   "metadata": {},
   "outputs": [],
   "source": [
    "import numpy as np\n",
    "x=np.array([[1,2],[3,4]], dtype=np.float64)\n",
    "y=np.array([[5,6],[7,8]], dtype=np.float64)"
   ]
  },
  {
   "cell_type": "code",
   "execution_count": 43,
   "id": "327734b0",
   "metadata": {},
   "outputs": [
    {
     "data": {
      "text/plain": [
       "array([[ 6.,  8.],\n",
       "       [10., 12.]])"
      ]
     },
     "execution_count": 43,
     "metadata": {},
     "output_type": "execute_result"
    }
   ],
   "source": [
    "A=np.add(x, y)\n",
    "A"
   ]
  },
  {
   "cell_type": "code",
   "execution_count": 44,
   "id": "c36aac38",
   "metadata": {},
   "outputs": [
    {
     "data": {
      "text/plain": [
       "array([[ 6.,  8.],\n",
       "       [10., 12.]])"
      ]
     },
     "execution_count": 44,
     "metadata": {},
     "output_type": "execute_result"
    }
   ],
   "source": [
    "A=x+y\n",
    "A"
   ]
  },
  {
   "cell_type": "code",
   "execution_count": 45,
   "id": "374e296b",
   "metadata": {},
   "outputs": [
    {
     "data": {
      "text/plain": [
       "array([[-4., -4.],\n",
       "       [-4., -4.]])"
      ]
     },
     "execution_count": 45,
     "metadata": {},
     "output_type": "execute_result"
    }
   ],
   "source": [
    "Z=np.subtract(x, y)\n",
    "Z"
   ]
  },
  {
   "cell_type": "code",
   "execution_count": 46,
   "id": "1b53de4f",
   "metadata": {},
   "outputs": [
    {
     "data": {
      "text/plain": [
       "array([[-4., -4.],\n",
       "       [-4., -4.]])"
      ]
     },
     "execution_count": 46,
     "metadata": {},
     "output_type": "execute_result"
    }
   ],
   "source": [
    "Z=x-y\n",
    "Z"
   ]
  },
  {
   "cell_type": "code",
   "execution_count": 47,
   "id": "054f55ea",
   "metadata": {},
   "outputs": [
    {
     "name": "stdout",
     "output_type": "stream",
     "text": [
      "192.168.105.77\n"
     ]
    }
   ],
   "source": [
    "import socket\n",
    "hostname = socket.gethostname()\n",
    "IpAdresse = socket.gethostbyname(hostname)\n",
    "print(IpAdresse)"
   ]
  },
  {
   "cell_type": "code",
   "execution_count": 4,
   "id": "991cf06f",
   "metadata": {},
   "outputs": [
    {
     "name": "stdout",
     "output_type": "stream",
     "text": [
      "Gib mal a: 5\n",
      "Gib mal b: 3\n",
      "15\n"
     ]
    }
   ],
   "source": [
    "a = int( input (\"Gib mal a: \"))\n",
    "b = int (input (\"Gib mal b: \"))\n",
    "x = lambda a,b:a*b\n",
    "print(x(a,b))"
   ]
  },
  {
   "cell_type": "code",
   "execution_count": 8,
   "id": "0fe13ee2",
   "metadata": {},
   "outputs": [
    {
     "name": "stdout",
     "output_type": "stream",
     "text": [
      "[7, 7, 7]\n"
     ]
    }
   ],
   "source": [
    "tuple1 = (1,2,3)\n",
    "tuple2 = (6,5,4)\n",
    "x = lambda a,b:a+b\n",
    "m = list(map(x,tuple1,tuple2))\n",
    "print(m)"
   ]
  },
  {
   "cell_type": "code",
   "execution_count": 14,
   "id": "ac20bc68",
   "metadata": {},
   "outputs": [
    {
     "ename": "TypeError",
     "evalue": "<lambda>() missing 1 required positional argument: 'b'",
     "output_type": "error",
     "traceback": [
      "\u001b[1;31m---------------------------------------------------------------------------\u001b[0m",
      "\u001b[1;31mTypeError\u001b[0m                                 Traceback (most recent call last)",
      "\u001b[1;32m~\\AppData\\Local\\Temp/ipykernel_15832/3011056384.py\u001b[0m in \u001b[0;36m<module>\u001b[1;34m\u001b[0m\n\u001b[0;32m      1\u001b[0m \u001b[0mstr\u001b[0m \u001b[1;33m=\u001b[0m\u001b[1;33m{\u001b[0m\u001b[1;34m\"male\"\u001b[0m\u001b[1;33m:\u001b[0m\u001b[1;36m2\u001b[0m\u001b[1;33m,\u001b[0m\u001b[1;34m\"female\"\u001b[0m \u001b[1;33m:\u001b[0m\u001b[1;36m5\u001b[0m\u001b[1;33m,\u001b[0m\u001b[1;34m\"male\"\u001b[0m\u001b[1;33m:\u001b[0m\u001b[1;36m5\u001b[0m\u001b[1;33m,\u001b[0m\u001b[1;34m\"male\"\u001b[0m\u001b[1;33m:\u001b[0m\u001b[1;36m60\u001b[0m\u001b[1;33m,\u001b[0m\u001b[1;34m\"female\"\u001b[0m\u001b[1;33m:\u001b[0m\u001b[1;36m6\u001b[0m\u001b[1;33m}\u001b[0m\u001b[1;33m\u001b[0m\u001b[1;33m\u001b[0m\u001b[0m\n\u001b[0;32m      2\u001b[0m \u001b[1;33m\u001b[0m\u001b[0m\n\u001b[1;32m----> 3\u001b[1;33m \u001b[0mn\u001b[0m \u001b[1;33m=\u001b[0m \u001b[0mlist\u001b[0m\u001b[1;33m(\u001b[0m\u001b[0mmap\u001b[0m\u001b[1;33m(\u001b[0m\u001b[1;32mlambda\u001b[0m \u001b[0ma\u001b[0m\u001b[1;33m,\u001b[0m\u001b[0mb\u001b[0m\u001b[1;33m:\u001b[0m \u001b[0ma\u001b[0m\u001b[1;33m+\u001b[0m\u001b[0mb\u001b[0m\u001b[1;33m,\u001b[0m \u001b[0mstr\u001b[0m\u001b[1;33m)\u001b[0m\u001b[1;33m)\u001b[0m\u001b[1;33m\u001b[0m\u001b[1;33m\u001b[0m\u001b[0m\n\u001b[0m",
      "\u001b[1;31mTypeError\u001b[0m: <lambda>() missing 1 required positional argument: 'b'"
     ]
    }
   ],
   "source": [
    "str ={\"male\":2,\"female\" :5,\"male\":5,\"male\":60,\"female\":6}\n",
    "\n",
    "n = list(map(lambda str: str[\"male\"] = 1, str))"
   ]
  },
  {
   "cell_type": "code",
   "execution_count": 24,
   "id": "fd9b1438",
   "metadata": {},
   "outputs": [
    {
     "name": "stdout",
     "output_type": "stream",
     "text": [
      "Typed less than 6 Characters: mansou\n",
      "Letter 1 is m\n",
      "1\n",
      "Letter 2 is a\n",
      "2\n",
      "Letter 3 is n\n",
      "3\n",
      "Letter 4 is s\n",
      "4\n",
      "Letter 5 is o\n",
      "5\n",
      "Letter 6 is u\n",
      "6\n"
     ]
    }
   ],
   "source": [
    "Value = input(\"Typed less than 6 Characters: \")\n",
    "LetterNum = 0\n",
    "for Letter in Value:\n",
    "    LetterNum += 1\n",
    "    print(\"Letter\", LetterNum,\"is\", Letter)\n",
    "    #LetterNum += 1\n",
    "    print(LetterNum)\n",
    "    if LetterNum > 6:\n",
    "        print(\"Your String is too Long\")\n",
    "        break"
   ]
  },
  {
   "cell_type": "code",
   "execution_count": 27,
   "id": "5115c0be",
   "metadata": {},
   "outputs": [
    {
     "data": {
      "text/plain": [
       "[1, 2]"
      ]
     },
     "execution_count": 27,
     "metadata": {},
     "output_type": "execute_result"
    }
   ],
   "source": [
    "L = [1,2,3]\n",
    "L.remove(3)\n",
    "L"
   ]
  },
  {
   "cell_type": "code",
   "execution_count": 30,
   "id": "e78b0fb4",
   "metadata": {},
   "outputs": [
    {
     "data": {
      "text/plain": [
       "[1, 2, 3, 1, 2, 3, 1, 2, 3]"
      ]
     },
     "execution_count": 30,
     "metadata": {},
     "output_type": "execute_result"
    }
   ],
   "source": [
    "[1,2,3] * 3\n"
   ]
  },
  {
   "cell_type": "code",
   "execution_count": 2,
   "id": "38196e7b",
   "metadata": {},
   "outputs": [
    {
     "data": {
      "text/plain": [
       "['Stuff', 'thh', 'hs', '']"
      ]
     },
     "execution_count": 2,
     "metadata": {},
     "output_type": "execute_result"
    }
   ],
   "source": [
    "a =\"Stuff;thh;hs;\"\n",
    "y =a.split(\";\")\n",
    "y"
   ]
  },
  {
   "cell_type": "code",
   "execution_count": 4,
   "id": "1351a05c",
   "metadata": {},
   "outputs": [
    {
     "ename": "AttributeError",
     "evalue": "'list' object has no attribute 'tuple'",
     "output_type": "error",
     "traceback": [
      "\u001b[1;31m---------------------------------------------------------------------------\u001b[0m",
      "\u001b[1;31mAttributeError\u001b[0m                            Traceback (most recent call last)",
      "\u001b[1;32m~\\AppData\\Local\\Temp/ipykernel_25412/3204258340.py\u001b[0m in \u001b[0;36m<module>\u001b[1;34m\u001b[0m\n\u001b[1;32m----> 1\u001b[1;33m \u001b[0mt\u001b[0m \u001b[1;33m=\u001b[0m \u001b[1;33m[\u001b[0m\u001b[1;36m5\u001b[0m\u001b[1;33m,\u001b[0m\u001b[1;36m7\u001b[0m\u001b[1;33m,\u001b[0m \u001b[1;36m13\u001b[0m\u001b[1;33m]\u001b[0m\u001b[1;33m.\u001b[0m\u001b[0mtuple\u001b[0m\u001b[1;33m(\u001b[0m\u001b[1;33m)\u001b[0m\u001b[1;33m\u001b[0m\u001b[1;33m\u001b[0m\u001b[0m\n\u001b[0m",
      "\u001b[1;31mAttributeError\u001b[0m: 'list' object has no attribute 'tuple'"
     ]
    }
   ],
   "source": [
    "t = [5,7, 13].tuple()"
   ]
  },
  {
   "cell_type": "code",
   "execution_count": 1,
   "id": "0233b4ce",
   "metadata": {},
   "outputs": [],
   "source": [
    "import numpy as np"
   ]
  },
  {
   "cell_type": "code",
   "execution_count": 13,
   "id": "ee057546",
   "metadata": {},
   "outputs": [
    {
     "data": {
      "text/plain": [
       "array([3, 3, 3, 3, 3])"
      ]
     },
     "execution_count": 13,
     "metadata": {},
     "output_type": "execute_result"
    }
   ],
   "source": [
    "array1 =np.eye(3)\n",
    "array2 = np.ones(5)\n",
    "array3 = np.zeros(3)\n",
    "array4 = np.full(5,3)\n",
    "array4"
   ]
  },
  {
   "cell_type": "code",
   "execution_count": 21,
   "id": "28b319b6",
   "metadata": {},
   "outputs": [
    {
     "name": "stdout",
     "output_type": "stream",
     "text": [
      "Give a Value X:5\n",
      "[6 7 8 9]\n"
     ]
    }
   ],
   "source": [
    "import numpy as np\n",
    "array= np.array([[1,2,3],[4,5,6],[7,8,9]])\n",
    "x = int(input(\"Give a Value X:\"))\n",
    "print (array[array>5])"
   ]
  },
  {
   "cell_type": "code",
   "execution_count": 24,
   "id": "3134bf79",
   "metadata": {},
   "outputs": [
    {
     "name": "stdout",
     "output_type": "stream",
     "text": [
      "Give a Value x:3\n",
      "[[False False False]\n",
      " [ True  True  True]\n",
      " [ True  True  True]]\n",
      "[4 5 6 7 8 9]\n",
      "4\n",
      "5\n",
      "6\n",
      "7\n",
      "8\n",
      "9\n",
      "4, 5, 6, 7, 8, 9\n"
     ]
    }
   ],
   "source": [
    "import numpy as np\n",
    "array= np.array([[1,2,3],[4,5,6],[7,8,9]])\n",
    "x = int(input(\"Give a Value x:\"))\n",
    "print(array>x)\n",
    "print(array[array>x])\n",
    "a = array[array>x]\n",
    "list1 = (array[array>x]).tolist()\n",
    "for i in a:\n",
    "    print(i)\n",
    "print(*a, sep=', ')               "
   ]
  },
  {
   "cell_type": "code",
   "execution_count": 29,
   "id": "b9a46778",
   "metadata": {},
   "outputs": [
    {
     "data": {
      "text/plain": [
       "array([0.])"
      ]
     },
     "execution_count": 29,
     "metadata": {},
     "output_type": "execute_result"
    }
   ],
   "source": [
    "x = np.zeros(1)\n",
    "x"
   ]
  },
  {
   "cell_type": "code",
   "execution_count": 38,
   "id": "13a75477",
   "metadata": {},
   "outputs": [
    {
     "name": "stdout",
     "output_type": "stream",
     "text": [
      "\n",
      "mean of arr, axis = None :  18.6\n",
      "\n",
      "mean of arr, axis = 0 :  [17.33333333  8.33333333 31.         14.         22.33333333]\n",
      "\n",
      "mean of arr, axis = 1 :  [24.  15.  16.8]\n",
      "\n",
      "out_arr :  [0 1 2]\n",
      "mean of arr, axis = 1 :  [24 15 16]\n",
      "\n",
      "out_arr :  [3 4 5]\n",
      "mean of arr, axis = 1 :  [24 15 16]\n",
      "\n",
      "out_arr :  [24 15 16]\n"
     ]
    }
   ],
   "source": [
    "import numpy as np\n",
    "    \n",
    "  \n",
    "# 2D array \n",
    "arr = [[14, 17, 12, 33, 44],  \n",
    "       [15, 6, 27, 8, 19], \n",
    "       [23, 2, 54, 1, 4, ]] \n",
    "    \n",
    "# mean of the flattened array \n",
    "print(\"\\nmean of arr, axis = None : \", np.mean(arr)) \n",
    "    \n",
    "# mean along the axis = 0 \n",
    "print(\"\\nmean of arr, axis = 0 : \", np.mean(arr, axis = 0)) \n",
    "   \n",
    "# mean along the axis = 1 \n",
    "print(\"\\nmean of arr, axis = 1 : \", np.mean(arr, axis = 1))\n",
    "  \n",
    "out_arr = np.arange(3)\n",
    "a = np.array([3,4,5])\n",
    "print(\"\\nout_arr : \", out_arr) \n",
    "print(\"mean of arr, axis = 1 : \", \n",
    "      np.mean(arr, axis = 1, out = out_arr))\n",
    "print(\"\\nout_arr : \", a) \n",
    "print(\"mean of arr, axis = 1 : \", \n",
    "      np.mean(arr, axis = 1, out = a))\n",
    "print(\"\\nout_arr : \", a) "
   ]
  },
  {
   "cell_type": "code",
   "execution_count": 46,
   "id": "3c5eb60d",
   "metadata": {},
   "outputs": [
    {
     "name": "stdout",
     "output_type": "stream",
     "text": [
      "[[4 3]\n",
      " [2 7]]\n",
      "[[4 2]\n",
      " [3 7]]\n",
      "[[4 2]\n",
      " [3 7]]\n"
     ]
    }
   ],
   "source": [
    "import numpy as np\n",
    "\n",
    "a = np.array([[4,3],[2,7]])\n",
    "print(a)\n",
    "print(a.T) # First Method\n",
    "print(a.transpose()) # Second Method"
   ]
  },
  {
   "cell_type": "code",
   "execution_count": 64,
   "id": "f779bf8f",
   "metadata": {},
   "outputs": [
    {
     "name": "stdout",
     "output_type": "stream",
     "text": [
      "[[2. 2. 2.]\n",
      " [5. 5. 5.]\n",
      " [8. 8. 8.]]\n"
     ]
    },
    {
     "data": {
      "text/plain": [
       "array([[-1.,  0.,  1.],\n",
       "       [-1.,  0.,  1.],\n",
       "       [-1.,  0.,  1.]])"
      ]
     },
     "execution_count": 64,
     "metadata": {},
     "output_type": "execute_result"
    }
   ],
   "source": [
    "#a = np.array([[2,5,8]]).T* np.array([[1,1,1],[1,1,1],[1,1,1]])\n",
    "a = np.array([[2,5,8]]).T*np.ones((3, 3))\n",
    "print(a)\n",
    "np.array([[1,2,3],[4,5,6],[7,8,9]])-a"
   ]
  },
  {
   "cell_type": "code",
   "execution_count": 62,
   "id": "a42b3fc6",
   "metadata": {},
   "outputs": [
    {
     "data": {
      "text/plain": [
       "array([[2, 5, 8]])"
      ]
     },
     "execution_count": 62,
     "metadata": {},
     "output_type": "execute_result"
    }
   ],
   "source": [
    "np.array([[2,5,8]])"
   ]
  },
  {
   "cell_type": "code",
   "execution_count": 63,
   "id": "63520583",
   "metadata": {},
   "outputs": [
    {
     "data": {
      "text/plain": [
       "array([[2],\n",
       "       [5],\n",
       "       [8]])"
      ]
     },
     "execution_count": 63,
     "metadata": {},
     "output_type": "execute_result"
    }
   ],
   "source": [
    "np.array([[2,5,8]]).T"
   ]
  },
  {
   "cell_type": "code",
   "execution_count": null,
   "id": "3bc3f342",
   "metadata": {},
   "outputs": [],
   "source": []
  }
 ],
 "metadata": {
  "kernelspec": {
   "display_name": "Python 3 (ipykernel)",
   "language": "python",
   "name": "python3"
  },
  "language_info": {
   "codemirror_mode": {
    "name": "ipython",
    "version": 3
   },
   "file_extension": ".py",
   "mimetype": "text/x-python",
   "name": "python",
   "nbconvert_exporter": "python",
   "pygments_lexer": "ipython3",
   "version": "3.9.7"
  }
 },
 "nbformat": 4,
 "nbformat_minor": 5
}
