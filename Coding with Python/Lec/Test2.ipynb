{
 "cells": [
  {
   "cell_type": "code",
   "execution_count": 9,
   "id": "cde8f089",
   "metadata": {},
   "outputs": [
    {
     "name": "stdout",
     "output_type": "stream",
     "text": [
      "7\n",
      "5040\n"
     ]
    }
   ],
   "source": [
    "def Factoriel (Nummber):\n",
    "    r =1\n",
    "    for i in range (1, Nummber+1):\n",
    "        r =r*i\n",
    "    return print(r)   \n",
    "print(int(7.7))\n",
    "Factoriel(int(7.7))        "
   ]
  },
  {
   "cell_type": "code",
   "execution_count": 12,
   "id": "e2e2a2b4",
   "metadata": {},
   "outputs": [
    {
     "data": {
      "text/plain": [
       "6"
      ]
     },
     "execution_count": 12,
     "metadata": {},
     "output_type": "execute_result"
    }
   ],
   "source": [
    "def max(c,d):\n",
    "    if c>d:\n",
    "        return c\n",
    "    elif d>c:\n",
    "        return d\n",
    "    else:\n",
    "        return print(c, \"and\",d ,\"are Equal\")\n",
    "max(6,5)    "
   ]
  },
  {
   "cell_type": "code",
   "execution_count": 18,
   "id": "d0d941ec",
   "metadata": {},
   "outputs": [
    {
     "data": {
      "text/plain": [
       "4"
      ]
     },
     "execution_count": 18,
     "metadata": {},
     "output_type": "execute_result"
    }
   ],
   "source": [
    "def subtract (a,b):\n",
    "    x =int(a)\n",
    "    y=int(b)\n",
    "    if x>y:\n",
    "        return x-y\n",
    "    elif y>x:\n",
    "        return y-x\n",
    "    else:\n",
    "        return x-y\n",
    "subtract(9,5)    "
   ]
  },
  {
   "cell_type": "code",
   "execution_count": 22,
   "id": "37feb57d",
   "metadata": {},
   "outputs": [
    {
     "name": "stdout",
     "output_type": "stream",
     "text": [
      "None\n"
     ]
    }
   ],
   "source": [
    "def foo():\n",
    "    return\n",
    "print(foo())"
   ]
  },
  {
   "cell_type": "code",
   "execution_count": 30,
   "id": "3a35cfb3",
   "metadata": {},
   "outputs": [
    {
     "name": "stdout",
     "output_type": "stream",
     "text": [
      "{'1': 1, '2': 2, '3': 3}\n"
     ]
    }
   ],
   "source": [
    "def get_demo_data(object_type):\n",
    "    if 'str' == object_type:\n",
    "        return 'test'\n",
    "    elif 'tuple' == object_type:\n",
    "        return (1, 2, 3)\n",
    "    elif 'list' == object_type:\n",
    "        return [1, 2, 3]\n",
    "    elif 'dict' == object_type:\n",
    "        return {\"1\": 1, \"2\": 2, \"3\": 3}\n",
    "    else:\n",
    "        return None\n",
    "print(get_demo_data(\"dict\"))"
   ]
  },
  {
   "cell_type": "code",
   "execution_count": 32,
   "id": "41a7055d",
   "metadata": {},
   "outputs": [
    {
     "name": "stdout",
     "output_type": "stream",
     "text": [
      "Object `split()` not found.\n"
     ]
    }
   ],
   "source": [
    "?split()"
   ]
  },
  {
   "cell_type": "code",
   "execution_count": 41,
   "id": "309e06f0",
   "metadata": {},
   "outputs": [
    {
     "name": "stdout",
     "output_type": "stream",
     "text": [
      "['He', '', '', 'o ks', 'k akfak']\n"
     ]
    }
   ],
   "source": [
    "a = \"Helllo kslk akfak\"\n",
    "b = a.split(\"l\")\n",
    "print(b)"
   ]
  },
  {
   "cell_type": "code",
   "execution_count": 43,
   "id": "e8f418b4",
   "metadata": {},
   "outputs": [
    {
     "name": "stdout",
     "output_type": "stream",
     "text": [
      "[2, 3, 4]\n"
     ]
    }
   ],
   "source": [
    "tuple=(1,2,3)\n",
    "c= list(map(lambda x:x+1,tuple))\n",
    "print(c)"
   ]
  },
  {
   "cell_type": "code",
   "execution_count": 52,
   "id": "51eaf18b",
   "metadata": {},
   "outputs": [
    {
     "data": {
      "text/plain": [
       "[5, 7, 9]"
      ]
     },
     "execution_count": 52,
     "metadata": {},
     "output_type": "execute_result"
    }
   ],
   "source": [
    "numbers1 = [1, 2, 3]\n",
    "numbers2 = [4, 5, 6]\n",
    "c= list(map(lambda x,y: x+y,numbers1,numbers2))\n",
    "c"
   ]
  },
  {
   "cell_type": "code",
   "execution_count": 55,
   "id": "c9d94909",
   "metadata": {},
   "outputs": [
    {
     "name": "stdout",
     "output_type": "stream",
     "text": [
      "Object `lambda :` not found.\n"
     ]
    }
   ],
   "source": [
    "?lambda :"
   ]
  },
  {
   "cell_type": "code",
   "execution_count": 63,
   "id": "c64be583",
   "metadata": {},
   "outputs": [
    {
     "name": "stdout",
     "output_type": "stream",
     "text": [
      "Object `lambda` not found.\n"
     ]
    }
   ],
   "source": [
    "?lambda"
   ]
  },
  {
   "cell_type": "markdown",
   "id": "5b1a9a85",
   "metadata": {},
   "source": [
    "Write a Python function to find the Max of three numbers.\n",
    "\n",
    "for example, the max of these three numbers 20, 35, 19 is 35# Write a Python function to find the Max of three numbers.\n",
    "\n",
    "for example, the max of these three numbers 20, 35, 19 is 35"
   ]
  },
  {
   "cell_type": "code",
   "execution_count": 84,
   "id": "ef4a66b0",
   "metadata": {},
   "outputs": [
    {
     "name": "stdout",
     "output_type": "stream",
     "text": [
      "Give me x: 5\n",
      "Give me y: 6\n",
      "Give me z: 3\n",
      "(5, 6, 3)\n",
      "6\n"
     ]
    }
   ],
   "source": [
    "def max(a,b,c):\n",
    "    if a>=b:\n",
    "        if a>=c:\n",
    "            return a\n",
    "        else:\n",
    "            return c\n",
    "    else:\n",
    "        if b>=c:\n",
    "            return b\n",
    "        else:\n",
    "            return c\n",
    "\n",
    "x = int(input(\"Give me x: \")) \n",
    "y = int(input(\"Give me y: \")) \n",
    "z = int(input(\"Give me z: \")) \n",
    "print((x,y,z))\n",
    "print(max(x,y,z))        \n",
    "            "
   ]
  },
  {
   "cell_type": "markdown",
   "id": "8299353a",
   "metadata": {},
   "source": [
    "#  aufgabe 2\n",
    "Write a function calculation() such that it can accept two variables and calculate the addition and subtraction of it. And also it must return both addition and subtraction in a single return call\n",
    "\n",
    "For example:\n",
    "\n",
    "calculation(40, 10) should produce 50, 30"
   ]
  },
  {
   "cell_type": "code",
   "execution_count": 87,
   "id": "e9d9b289",
   "metadata": {},
   "outputs": [
    {
     "name": "stdout",
     "output_type": "stream",
     "text": [
      "Give me x: 40\n",
      "Give me y: 10\n",
      "(50, 30)\n"
     ]
    }
   ],
   "source": [
    "def calculation (a,b):\n",
    "    return a+b,a-b\n",
    "x = int(input(\"Give me x: \")) \n",
    "y = int(input(\"Give me y: \")) \n",
    "print(calculation(x,y))\n",
    "\n",
    "r =(lambda x:x+1) (3)\n",
    "print((lambda x:x+1) (3))\n",
    "\n",
    "l = ['sat', 'bat', 'cat', 'mat']\n",
    "  \n",
    "# map() can listify the list of strings individually\n",
    "test = list(map(list, l))\n",
    "print(test)\n"
   ]
  },
  {
   "cell_type": "markdown",
   "id": "20bfd469",
   "metadata": {},
   "source": [
    "# Question 3\n",
    "Write a function that sums the elements of a list of integers.\n",
    "Write a function that multiplies the elements of an integer list.\n",
    "Use the two functions to sum the elements whose position is an even number (0,2,4…) and multiply the rest. Hint: Consider extracting two lists from a first list"
   ]
  },
  {
   "cell_type": "code",
   "execution_count": 151,
   "id": "f78aa0c6",
   "metadata": {},
   "outputs": [
    {
     "name": "stdout",
     "output_type": "stream",
     "text": [
      "[1, 3, 5, 7]\n",
      "[2, 4, 6, 8]\n"
     ]
    },
    {
     "ename": "TypeError",
     "evalue": "'int' object is not iterable",
     "output_type": "error",
     "traceback": [
      "\u001b[1;31m---------------------------------------------------------------------------\u001b[0m",
      "\u001b[1;31mTypeError\u001b[0m                                 Traceback (most recent call last)",
      "\u001b[1;32m~\\AppData\\Local\\Temp/ipykernel_25412/996304758.py\u001b[0m in \u001b[0;36m<module>\u001b[1;34m\u001b[0m\n\u001b[0;32m     17\u001b[0m \u001b[0ma\u001b[0m \u001b[1;33m=\u001b[0m\u001b[0mList1\u001b[0m\u001b[1;33m[\u001b[0m\u001b[1;33m:\u001b[0m\u001b[1;33m:\u001b[0m\u001b[1;36m2\u001b[0m\u001b[1;33m]\u001b[0m \u001b[1;33m+\u001b[0m \u001b[0mList2\u001b[0m\u001b[1;33m[\u001b[0m\u001b[1;33m:\u001b[0m\u001b[1;33m:\u001b[0m\u001b[1;36m2\u001b[0m\u001b[1;33m]\u001b[0m\u001b[1;33m\u001b[0m\u001b[1;33m\u001b[0m\u001b[0m\n\u001b[0;32m     18\u001b[0m \u001b[0mres\u001b[0m \u001b[1;33m=\u001b[0m \u001b[0mlist\u001b[0m\u001b[1;33m(\u001b[0m\u001b[0mmap\u001b[0m\u001b[1;33m(\u001b[0m\u001b[1;32mlambda\u001b[0m \u001b[0mx\u001b[0m\u001b[1;33m:\u001b[0m\u001b[0mx\u001b[0m\u001b[1;33m+\u001b[0m\u001b[1;36m1\u001b[0m\u001b[1;33m,\u001b[0m\u001b[0ma\u001b[0m\u001b[1;33m)\u001b[0m\u001b[1;33m)\u001b[0m\u001b[1;33m\u001b[0m\u001b[1;33m\u001b[0m\u001b[0m\n\u001b[1;32m---> 19\u001b[1;33m \u001b[0mres2\u001b[0m \u001b[1;33m=\u001b[0m \u001b[0mlist\u001b[0m\u001b[1;33m(\u001b[0m\u001b[0mmap\u001b[0m\u001b[1;33m(\u001b[0m\u001b[0mSum\u001b[0m\u001b[1;33m,\u001b[0m\u001b[0ma\u001b[0m\u001b[1;33m)\u001b[0m\u001b[1;33m)\u001b[0m\u001b[1;33m\u001b[0m\u001b[1;33m\u001b[0m\u001b[0m\n\u001b[0m\u001b[0;32m     20\u001b[0m \u001b[1;33m\u001b[0m\u001b[0m\n\u001b[0;32m     21\u001b[0m \u001b[0mprint\u001b[0m\u001b[1;33m(\u001b[0m\u001b[0mres\u001b[0m\u001b[1;33m)\u001b[0m\u001b[1;33m\u001b[0m\u001b[1;33m\u001b[0m\u001b[0m\n",
      "\u001b[1;32m~\\AppData\\Local\\Temp/ipykernel_25412/996304758.py\u001b[0m in \u001b[0;36mSum\u001b[1;34m(arr1)\u001b[0m\n\u001b[0;32m      1\u001b[0m \u001b[1;32mdef\u001b[0m \u001b[0mSum\u001b[0m\u001b[1;33m(\u001b[0m\u001b[0marr1\u001b[0m\u001b[1;33m)\u001b[0m\u001b[1;33m:\u001b[0m\u001b[1;33m\u001b[0m\u001b[1;33m\u001b[0m\u001b[0m\n\u001b[0;32m      2\u001b[0m     \u001b[0mr\u001b[0m\u001b[1;33m=\u001b[0m\u001b[1;36m0\u001b[0m\u001b[1;33m\u001b[0m\u001b[1;33m\u001b[0m\u001b[0m\n\u001b[1;32m----> 3\u001b[1;33m     \u001b[1;32mfor\u001b[0m \u001b[0mi\u001b[0m \u001b[1;32min\u001b[0m \u001b[0marr1\u001b[0m\u001b[1;33m:\u001b[0m\u001b[1;33m\u001b[0m\u001b[1;33m\u001b[0m\u001b[0m\n\u001b[0m\u001b[0;32m      4\u001b[0m         \u001b[0mr\u001b[0m \u001b[1;33m=\u001b[0m\u001b[0mr\u001b[0m\u001b[1;33m+\u001b[0m\u001b[0mi\u001b[0m\u001b[1;33m\u001b[0m\u001b[1;33m\u001b[0m\u001b[0m\n\u001b[0;32m      5\u001b[0m     \u001b[1;32mreturn\u001b[0m \u001b[0mr\u001b[0m\u001b[1;33m\u001b[0m\u001b[1;33m\u001b[0m\u001b[0m\n",
      "\u001b[1;31mTypeError\u001b[0m: 'int' object is not iterable"
     ]
    }
   ],
   "source": [
    "def Sum(arr1):\n",
    "    r=0\n",
    "    for i in arr1:\n",
    "        r =r+i\n",
    "    return r\n",
    "\n",
    "def Mult(arr1):\n",
    "    r=1\n",
    "    for i in arr1:\n",
    "        r =r*i\n",
    "    return r\n",
    "List1 =[1,2,3,4]\n",
    "List2 =[5,6,7,8]\n",
    "print(List1[::2] + List2[::2]) # List of even Element both arrays\n",
    "print(List1[1::2] + List2[1::2])# List of odd Element both arrays\n",
    "#print(Sum(List1[::2] + List2[::2]))\n",
    "a =List1[::2] + List2[::2]\n",
    "res = list(map(lambda x:x+1,a))\n",
    "res2 = list(map(Sum,a))\n",
    "\n",
    "print(res)\n",
    "#print(Mult(List1[1::2] + List2[1::2]))\n",
    "\n",
    "\n",
    "        "
   ]
  },
  {
   "cell_type": "markdown",
   "id": "b865400f",
   "metadata": {},
   "source": [
    "# Aufgabe 4\n",
    "Write a Python program that accepts a hyphen-separated sequence of words as input and prints the words in a hyphen-separated sequence after sorting them alphabetically.\n",
    "\n",
    "Sample Items : green-red-yellow-black-white Expected Result : black-green-red-white-yellow\n",
    "\n",
    "Hint : There's a split function to separate your input string into words and a sort function to sort."
   ]
  },
  {
   "cell_type": "code",
   "execution_count": 156,
   "id": "a03b2b13",
   "metadata": {},
   "outputs": [
    {
     "name": "stdout",
     "output_type": "stream",
     "text": [
      "['green', 'red', 'yellow', 'black', 'white'] ['black', 'green', 'red', 'white', 'yellow']\n"
     ]
    }
   ],
   "source": [
    "Array= 'green-red-yellow-black-white'\n",
    "b = Array.split('-')\n",
    "print(b, sorted(b))\n"
   ]
  },
  {
   "cell_type": "code",
   "execution_count": 159,
   "id": "d54f8d56",
   "metadata": {},
   "outputs": [],
   "source": [
    "s = (('a', 'b', 'c'))"
   ]
  },
  {
   "cell_type": "code",
   "execution_count": 160,
   "id": "e1dc641f",
   "metadata": {},
   "outputs": [
    {
     "data": {
      "text/plain": [
       "('a', 'b', 'c')"
      ]
     },
     "execution_count": 160,
     "metadata": {},
     "output_type": "execute_result"
    }
   ],
   "source": [
    "s"
   ]
  },
  {
   "cell_type": "code",
   "execution_count": 162,
   "id": "363edd86",
   "metadata": {},
   "outputs": [
    {
     "name": "stdout",
     "output_type": "stream",
     "text": [
      "{'g': 2, 'o': 3, 'l': 1, 'e': 1, '.': 1, 'c': 1, 'm': 1}\n"
     ]
    }
   ],
   "source": [
    "def char_frequency(str1):\n",
    "    mydict = {}\n",
    "    for i in str1:\n",
    "        keys = mydict.keys()\n",
    "        if i in keys:\n",
    "            mydict[i] += 1\n",
    "        else: \n",
    "            mydict[i] = 1 \n",
    "    return mydict\n",
    "print(char_frequency('google.com'))"
   ]
  },
  {
   "cell_type": "markdown",
   "id": "31316e52",
   "metadata": {},
   "source": [
    "# Aufgabe 5\n",
    "Write a function that calculates and prints the value according to the given formula: Q = Square root of [(2 * C * D)/H] Following are the fixed values of C and H: C is 50. H is 30. D is the variable whose values should be input to your program in a comma-separated sequence. Example Let us assume the following comma separated input sequence is given to the function: 100,150,180 The output of the program should be: 18,22,24\n",
    "\n",
    "Hints: If the output received is in decimal form, it should be rounded off to its nearest value (for example, if the output received is 26.0, it should be printed as 26) In case of input data being supplied to the question, it should be assumed to be a console input."
   ]
  },
  {
   "cell_type": "code",
   "execution_count": 193,
   "id": "e5f5f434",
   "metadata": {},
   "outputs": [
    {
     "name": "stdout",
     "output_type": "stream",
     "text": [
      "({100: 18, 150: 22, 180: 24}, [18, 22, 24])\n"
     ]
    }
   ],
   "source": [
    "from math import sqrt\n",
    "def calculate(D):\n",
    "    n =0\n",
    "    arr ={}\n",
    "    list1=[]\n",
    "\n",
    "    for i in D:\n",
    "        r = int(sqrt((10/3)*i))\n",
    "        list1.append(r)\n",
    "        arr[i] = r\n",
    "        i =+1\n",
    "        n =+1\n",
    "        \n",
    "    return arr, list1\n",
    "print(calculate([100,150,180]))\n",
    "    "
   ]
  },
  {
   "cell_type": "code",
   "execution_count": 194,
   "id": "9e561f6d",
   "metadata": {},
   "outputs": [],
   "source": [
    "? map"
   ]
  },
  {
   "cell_type": "code",
   "execution_count": null,
   "id": "090456f9",
   "metadata": {},
   "outputs": [],
   "source": []
  }
 ],
 "metadata": {
  "kernelspec": {
   "display_name": "Python 3 (ipykernel)",
   "language": "python",
   "name": "python3"
  },
  "language_info": {
   "codemirror_mode": {
    "name": "ipython",
    "version": 3
   },
   "file_extension": ".py",
   "mimetype": "text/x-python",
   "name": "python",
   "nbconvert_exporter": "python",
   "pygments_lexer": "ipython3",
   "version": "3.9.7"
  }
 },
 "nbformat": 4,
 "nbformat_minor": 5
}
