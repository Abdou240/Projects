{
 "cells": [
  {
   "cell_type": "code",
   "execution_count": 3,
   "id": "93f6227b",
   "metadata": {},
   "outputs": [
    {
     "name": "stdout",
     "output_type": "stream",
     "text": [
      "02:25:50.000013\n",
      "02:25:50.000013\n",
      "time.struct_time(tm_year=2022, tm_mon=3, tm_mday=20, tm_hour=21, tm_min=18, tm_sec=37, tm_wday=6, tm_yday=79, tm_isdst=0)\n",
      "1647811120.0486436\n"
     ]
    }
   ],
   "source": [
    "import datetime\n",
    "import time\n",
    "tm = datetime.time(2, 25, 50, 13)\n",
    "print(tm)  \n",
    "tm = datetime.time(2, 25, 50, 13)\n",
    "print(tm)   \n",
    "        \n",
    "        \n",
    "t =50   \n",
    "divmod(int(t),60)\n",
    "\n",
    "print(time.gmtime())\n",
    "time.sleep(3)\n",
    "print(time.time())"
   ]
  },
  {
   "cell_type": "code",
   "execution_count": 4,
   "id": "0dd5e7a2",
   "metadata": {},
   "outputs": [
    {
     "name": "stdout",
     "output_type": "stream",
     "text": [
      "9\r"
     ]
    }
   ],
   "source": [
    "import time\n",
    "for idx in range(10):\n",
    "    time.sleep(1)\n",
    "    print(idx, end=\"\\r\")"
   ]
  },
  {
   "cell_type": "code",
   "execution_count": 6,
   "id": "2776eb17",
   "metadata": {},
   "outputs": [
    {
     "name": "stdout",
     "output_type": "stream",
     "text": [
      "Printed immediately.\n",
      "Printed after 2.4 seconds.\n"
     ]
    }
   ],
   "source": [
    "import time\n",
    "\n",
    "print(\"Printed immediately.\")\n",
    "time.sleep(2.4)\n",
    "print(\"Printed after 2.4 seconds.\")"
   ]
  },
  {
   "cell_type": "code",
   "execution_count": 7,
   "id": "555a0141",
   "metadata": {},
   "outputs": [
    {
     "name": "stdout",
     "output_type": "stream",
     "text": [
      "Time tm is  1  hours  50  minutes  20  seconds and  133257  microseconds\n"
     ]
    }
   ],
   "source": [
    "import datetime\n",
    "tm = datetime.time(1, 50, 20, 133257)\n",
    "  \n",
    "print('Time tm is ',\n",
    "      tm.hour, ' hours ',\n",
    "      tm.minute, ' minutes ',\n",
    "      tm.second, ' seconds and ',\n",
    "      tm.microsecond, ' microseconds' )"
   ]
  },
  {
   "cell_type": "code",
   "execution_count": 11,
   "id": "3cf5c7f3",
   "metadata": {},
   "outputs": [
    {
     "name": "stdout",
     "output_type": "stream",
     "text": [
      "02:25:50.000013\n"
     ]
    }
   ],
   "source": [
    "import datetime\n",
    "  \n",
    "  \n",
    "tm = datetime.time(2, 25, 50, 13)\n",
    "print(tm)"
   ]
  },
  {
   "cell_type": "code",
   "execution_count": 9,
   "id": "367c293f",
   "metadata": {},
   "outputs": [
    {
     "name": "stdout",
     "output_type": "stream",
     "text": [
      "22: 20: 24 PM\n"
     ]
    }
   ],
   "source": [
    "from datetime import datetime\n",
    "\n",
    "now = datetime.now()\n",
    "\n",
    "print(now.strftime('%H: %M: %S %p'))"
   ]
  },
  {
   "cell_type": "code",
   "execution_count": 12,
   "id": "ef53a95c",
   "metadata": {},
   "outputs": [
    {
     "name": "stdout",
     "output_type": "stream",
     "text": [
      "00: 08: 11 AM\r"
     ]
    }
   ],
   "source": [
    "import time\n",
    "import datetime\n",
    "a =500\n",
    "while a > 490 : \n",
    "    n = divmod(a,60)\n",
    "    tm = datetime.time(0, n[0] , n[1])\n",
    "    print(tm.strftime('%H: %M: %S %p'), end=\"\\r\")\n",
    "    time.sleep(1)\n",
    "    a = a-1\n",
    "  \n",
    "    "
   ]
  },
  {
   "cell_type": "code",
   "execution_count": 13,
   "id": "fe827573",
   "metadata": {},
   "outputs": [
    {
     "name": "stdout",
     "output_type": "stream",
     "text": [
      "Enter the time in seconds: 75\n",
      "Fire in the hole!!\n"
     ]
    }
   ],
   "source": [
    "# import the time module\n",
    "import time\n",
    "  \n",
    "# define the countdown func.\n",
    "def countdown(t):\n",
    "    \n",
    "    while t:\n",
    "        mins, secs = divmod(t, 60)\n",
    "        timer = '{:02d}:{:02d}'.format(mins, secs)\n",
    "        print(timer, end=\"\\r\")\n",
    "        time.sleep(1)\n",
    "        t -= 1\n",
    "      \n",
    "    print('Fire in the hole!!')\n",
    "  \n",
    "  \n",
    "# input time in seconds\n",
    "t = input(\"Enter the time in seconds: \")\n",
    "  \n",
    "# function call\n",
    "countdown(int(t))"
   ]
  },
  {
   "cell_type": "code",
   "execution_count": 14,
   "id": "e12e3d6a",
   "metadata": {},
   "outputs": [
    {
     "name": "stdout",
     "output_type": "stream",
     "text": [
      "Enter the time in seconds: 02\n",
      "Blast Off!!!\n"
     ]
    }
   ],
   "source": [
    "import time\n",
    "def countdown(t):\n",
    "    while t:\n",
    "        mins, secs = divmod(t, 60)\n",
    "        timer = '{:02d}:{:02d}'.format(mins, secs)\n",
    "        print(timer, end=\"\\r\")\n",
    "        time.sleep(1)\n",
    "        t -= 1\n",
    "    print('Blast Off!!!')\n",
    "t = input(\"Enter the time in seconds: \") \n",
    "countdown(int(t))"
   ]
  },
  {
   "cell_type": "code",
   "execution_count": null,
   "id": "2b464e32",
   "metadata": {},
   "outputs": [],
   "source": []
  }
 ],
 "metadata": {
  "kernelspec": {
   "display_name": "Python 3 (ipykernel)",
   "language": "python",
   "name": "python3"
  },
  "language_info": {
   "codemirror_mode": {
    "name": "ipython",
    "version": 3
   },
   "file_extension": ".py",
   "mimetype": "text/x-python",
   "name": "python",
   "nbconvert_exporter": "python",
   "pygments_lexer": "ipython3",
   "version": "3.9.7"
  }
 },
 "nbformat": 4,
 "nbformat_minor": 5
}
