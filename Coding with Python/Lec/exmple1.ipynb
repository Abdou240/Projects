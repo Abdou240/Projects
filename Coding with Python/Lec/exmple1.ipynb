{
 "cells": [
  {
   "cell_type": "code",
   "execution_count": 6,
   "id": "a0dcfff8",
   "metadata": {},
   "outputs": [
    {
     "name": "stdout",
     "output_type": "stream",
     "text": [
      "['What is Python language?                                                \\n', 'Python is a widely used high-level, general-purpose, interpreted, dynamic programming language.Its design philosophy emphasizes code readability, and its syntax allows programmers to express concepts in fewer lines of code than possible in \\n']\n",
      "What is Python language?\n",
      "Python is a widely used high-level, general-purpose, interpreted, dynamic programming language.Its design philosophy emphasizes code readability, and its syntax allows programmers to express concepts in fewer lines of code than possible in\n",
      "languages such as C++ or Java.\n",
      "Python supports multiple programming paradigms, including object-oriented, imperative and functional programming or procedural styles. It features a dynamic type system and automatic memory management and has a large and comprehensive standard library.The best way we learn anything is by practice and exercise questions. We  have started this section for those (beginner to intermediate) who are familiar with Python.\n"
     ]
    },
    {
     "ename": "StopIteration",
     "evalue": "",
     "output_type": "error",
     "traceback": [
      "\u001b[1;31m---------------------------------------------------------------------------\u001b[0m",
      "\u001b[1;31mStopIteration\u001b[0m                             Traceback (most recent call last)",
      "\u001b[1;32m~\\AppData\\Local\\Temp/ipykernel_30888/845783608.py\u001b[0m in \u001b[0;36m<module>\u001b[1;34m\u001b[0m\n\u001b[0;32m      7\u001b[0m \u001b[1;32mwith\u001b[0m \u001b[0mopen\u001b[0m\u001b[1;33m(\u001b[0m\u001b[1;34m\"python.txt\"\u001b[0m\u001b[1;33m)\u001b[0m \u001b[1;32mas\u001b[0m \u001b[0mfile\u001b[0m\u001b[1;33m:\u001b[0m  \u001b[1;31m# the a opens it in append mode\u001b[0m\u001b[1;33m\u001b[0m\u001b[1;33m\u001b[0m\u001b[0m\n\u001b[0;32m      8\u001b[0m     \u001b[1;32mfor\u001b[0m \u001b[0mi\u001b[0m \u001b[1;32min\u001b[0m \u001b[0mrange\u001b[0m\u001b[1;33m(\u001b[0m\u001b[0mN\u001b[0m\u001b[1;33m)\u001b[0m\u001b[1;33m:\u001b[0m\u001b[1;33m\u001b[0m\u001b[1;33m\u001b[0m\u001b[0m\n\u001b[1;32m----> 9\u001b[1;33m         \u001b[0mline\u001b[0m \u001b[1;33m=\u001b[0m \u001b[0mnext\u001b[0m\u001b[1;33m(\u001b[0m\u001b[0mfile\u001b[0m\u001b[1;33m)\u001b[0m\u001b[1;33m.\u001b[0m\u001b[0mstrip\u001b[0m\u001b[1;33m(\u001b[0m\u001b[1;33m)\u001b[0m\u001b[1;33m\u001b[0m\u001b[1;33m\u001b[0m\u001b[0m\n\u001b[0m\u001b[0;32m     10\u001b[0m         \u001b[0mprint\u001b[0m\u001b[1;33m(\u001b[0m\u001b[0mline\u001b[0m\u001b[1;33m)\u001b[0m\u001b[1;33m\u001b[0m\u001b[1;33m\u001b[0m\u001b[0m\n",
      "\u001b[1;31mStopIteration\u001b[0m: "
     ]
    }
   ],
   "source": [
    "N =2\n",
    "with open(\"python.txt\") as myfile:\n",
    "    head = [next(myfile) for x in range(N)]\n",
    "print(head)\n",
    "\n",
    "N = 10\n",
    "with open(\"python.txt\") as file:  # the a opens it in append mode\n",
    "    for i in range(N):\n",
    "        line = next(file).strip()\n",
    "        print(line)"
   ]
  },
  {
   "cell_type": "code",
   "execution_count": 13,
   "id": "b59b6d9f",
   "metadata": {},
   "outputs": [
    {
     "name": "stdout",
     "output_type": "stream",
     "text": [
      "100\n"
     ]
    }
   ],
   "source": [
    "\n",
    "with open(\"python.txt\") as f:\n",
    "    lines = f.read() ##Assume the sample file has 3 lines\n",
    "    first = lines.split()\n",
    "    \n",
    "\n",
    "print(len(first))"
   ]
  },
  {
   "cell_type": "code",
   "execution_count": 31,
   "id": "236f67e4",
   "metadata": {},
   "outputs": [
    {
     "name": "stdout",
     "output_type": "stream",
     "text": [
      "Hallo glwhjlrghlhshgahsdhghsagjs\n",
      "\n",
      "sgsngvhsjagdÃ¶\n",
      "\n",
      "gnsdbmgbmsbakasgjslh\n",
      "\n",
      "+sjdgbjs,agljsgdsjsdljg\n",
      "\n",
      "sgnlgslh\n"
     ]
    }
   ],
   "source": [
    "f = open(\"test.txt\") \n",
    "for line in f:\n",
    "       print(line)"
   ]
  },
  {
   "cell_type": "code",
   "execution_count": 34,
   "id": "4c6b7fd1",
   "metadata": {},
   "outputs": [
    {
     "name": "stdout",
     "output_type": "stream",
     "text": [
      "['Hallo glwhjlrghlhshgahsdhghsagjs\\n', 'sgsngvhsjagdÃ¶\\n', 'gnsdbmgbmsbakasgjslh\\n', '+sjdgbjs,agljsgdsjsdljg\\n', 'sgnlgslh']\n",
      "\n"
     ]
    }
   ],
   "source": [
    "f = open(\"test.txt\") \n",
    "print(f.readlines())"
   ]
  },
  {
   "cell_type": "code",
   "execution_count": 35,
   "id": "aae362f7",
   "metadata": {},
   "outputs": [
    {
     "name": "stdout",
     "output_type": "stream",
     "text": [
      "Hallo glwhjlrghlhshgahsdhghsagjs\n",
      "\n"
     ]
    }
   ],
   "source": [
    "f = open(\"test.txt\") \n",
    "print(f.readline())"
   ]
  },
  {
   "cell_type": "code",
   "execution_count": 53,
   "id": "80281485",
   "metadata": {},
   "outputs": [],
   "source": [
    "with open(\"test.txt\",'w',encoding = 'utf-8') as f:\n",
    "   f.write(\"my first file\\n\")\n",
    "   f.write(\"This file\\n\\n\")\n",
    "   f.write(\"contains three lines\\n\")\n",
    "f.close()"
   ]
  },
  {
   "cell_type": "code",
   "execution_count": 49,
   "id": "14d87f42",
   "metadata": {},
   "outputs": [],
   "source": [
    "with open(\"test.txt\",'a',encoding = 'utf-8') as f:\n",
    "   f.write(\"my first file\\n\")\n",
    "   f.write(\"This file\\n\\n\")\n",
    "   f.write(\"contains three lines\\n\")"
   ]
  },
  {
   "cell_type": "code",
   "execution_count": 51,
   "id": "e048b148",
   "metadata": {},
   "outputs": [],
   "source": [
    "with open(\"test1.txt\",'x',encoding = 'utf-8') as f:\n",
    "   f.write(\"my first file\\n\")\n",
    "   f.write(\"This file\\n\\n\")\n",
    "   f.write(\"contains three lines\\n\")"
   ]
  },
  {
   "cell_type": "code",
   "execution_count": 1,
   "id": "ec8a88df",
   "metadata": {},
   "outputs": [],
   "source": [
    "\n",
    "import os\n",
    "os.remove(\"test.txt\")"
   ]
  },
  {
   "cell_type": "code",
   "execution_count": null,
   "id": "f9fb0419",
   "metadata": {},
   "outputs": [],
   "source": []
  },
  {
   "cell_type": "code",
   "execution_count": null,
   "id": "cbb60178",
   "metadata": {},
   "outputs": [],
   "source": []
  }
 ],
 "metadata": {
  "kernelspec": {
   "display_name": "Python 3 (ipykernel)",
   "language": "python",
   "name": "python3"
  },
  "language_info": {
   "codemirror_mode": {
    "name": "ipython",
    "version": 3
   },
   "file_extension": ".py",
   "mimetype": "text/x-python",
   "name": "python",
   "nbconvert_exporter": "python",
   "pygments_lexer": "ipython3",
   "version": "3.9.7"
  }
 },
 "nbformat": 4,
 "nbformat_minor": 5
}
