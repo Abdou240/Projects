{
 "cells": [
  {
   "cell_type": "code",
   "execution_count": 8,
   "id": "c6791d8e",
   "metadata": {},
   "outputs": [
    {
     "name": "stdout",
     "output_type": "stream",
     "text": [
      "1\n",
      "2\n",
      "3\n",
      "4\n",
      "5\n",
      "6\n",
      "7\n",
      "8\n",
      "9\n",
      "10\n"
     ]
    }
   ],
   "source": [
    "i =1 \n",
    "while i<= 10 :\n",
    "    print(i)\n",
    "    i+=1"
   ]
  },
  {
   "cell_type": "markdown",
   "id": "c0931668",
   "metadata": {},
   "source": [
    "# This is a headline\n",
    "## Sub headline\n",
    "\n",
    "**Text**\n",
    "\n",
    "More Text ...\n"
   ]
  },
  {
   "cell_type": "code",
   "execution_count": 9,
   "id": "4f8bea67",
   "metadata": {},
   "outputs": [
    {
     "name": "stdout",
     "output_type": "stream",
     "text": [
      "Hello World\n"
     ]
    }
   ],
   "source": [
    "print(\"Hello World\")"
   ]
  },
  {
   "cell_type": "code",
   "execution_count": 8,
   "id": "7ffca273",
   "metadata": {},
   "outputs": [
    {
     "name": "stdout",
     "output_type": "stream",
     "text": [
      "Enter the no. of rows:2\n",
      "Enter the no. of columns:3\n",
      "Enter the elements row-wise:\n",
      "1\n",
      "2\n",
      "2\n",
      "[[1, 2, 2]]\n",
      "4\n",
      "5\n",
      "6\n",
      "[[1, 2, 2], [4, 5, 6]]\n",
      "1 2 2 \n",
      "4 5 6 \n"
     ]
    }
   ],
   "source": [
    "rows = int(input(\"Enter the no. of rows:\"))    #user input number of rows\n",
    "cols = int(input(\"Enter the no. of columns:\"))    #user input number of columns\n",
    "\n",
    "mat = []    #defining empty List\n",
    "print(\"Enter the elements row-wise:\")\n",
    "  \n",
    "for i in range(rows):    #i iterates from 0 to value of 'rows'\n",
    "    row = []    #defining empty List\n",
    "    for j in range(cols):    #j iterates from 0 to value of 'cols'\n",
    "         row.append(int(input()))    #user input is added in List 'row'\n",
    "    mat.append(row)    #List 'row' is added in List 'mat'\n",
    "    print(mat)\n",
    "  \n",
    "for i in range(rows):    #i iterates from 0 to value of 'rows'\n",
    "    for j in range(cols):    #j iterates from 0 to value of 'cols'\n",
    "        print(mat[i][j], end = \" \")    #display value at ith row and jth column\n",
    "    print()    #line change"
   ]
  },
  {
   "cell_type": "code",
   "execution_count": 5,
   "id": "a9cc3dce",
   "metadata": {},
   "outputs": [
    {
     "name": "stdout",
     "output_type": "stream",
     "text": [
      "24\n"
     ]
    }
   ],
   "source": [
    "a = 1+2+3 +\\\n",
    "5+6+7\n",
    "print(a)"
   ]
  },
  {
   "cell_type": "code",
   "execution_count": 6,
   "id": "5b91e91a",
   "metadata": {},
   "outputs": [
    {
     "name": "stdout",
     "output_type": "stream",
     "text": [
      "Help on class range in module builtins:\n",
      "\n",
      "class range(object)\n",
      " |  range(stop) -> range object\n",
      " |  range(start, stop[, step]) -> range object\n",
      " |  \n",
      " |  Return an object that produces a sequence of integers from start (inclusive)\n",
      " |  to stop (exclusive) by step.  range(i, j) produces i, i+1, i+2, ..., j-1.\n",
      " |  start defaults to 0, and stop is omitted!  range(4) produces 0, 1, 2, 3.\n",
      " |  These are exactly the valid indices for a list of 4 elements.\n",
      " |  When step is given, it specifies the increment (or decrement).\n",
      " |  \n",
      " |  Methods defined here:\n",
      " |  \n",
      " |  __bool__(self, /)\n",
      " |      self != 0\n",
      " |  \n",
      " |  __contains__(self, key, /)\n",
      " |      Return key in self.\n",
      " |  \n",
      " |  __eq__(self, value, /)\n",
      " |      Return self==value.\n",
      " |  \n",
      " |  __ge__(self, value, /)\n",
      " |      Return self>=value.\n",
      " |  \n",
      " |  __getattribute__(self, name, /)\n",
      " |      Return getattr(self, name).\n",
      " |  \n",
      " |  __getitem__(self, key, /)\n",
      " |      Return self[key].\n",
      " |  \n",
      " |  __gt__(self, value, /)\n",
      " |      Return self>value.\n",
      " |  \n",
      " |  __hash__(self, /)\n",
      " |      Return hash(self).\n",
      " |  \n",
      " |  __iter__(self, /)\n",
      " |      Implement iter(self).\n",
      " |  \n",
      " |  __le__(self, value, /)\n",
      " |      Return self<=value.\n",
      " |  \n",
      " |  __len__(self, /)\n",
      " |      Return len(self).\n",
      " |  \n",
      " |  __lt__(self, value, /)\n",
      " |      Return self<value.\n",
      " |  \n",
      " |  __ne__(self, value, /)\n",
      " |      Return self!=value.\n",
      " |  \n",
      " |  __reduce__(...)\n",
      " |      Helper for pickle.\n",
      " |  \n",
      " |  __repr__(self, /)\n",
      " |      Return repr(self).\n",
      " |  \n",
      " |  __reversed__(...)\n",
      " |      Return a reverse iterator.\n",
      " |  \n",
      " |  count(...)\n",
      " |      rangeobject.count(value) -> integer -- return number of occurrences of value\n",
      " |  \n",
      " |  index(...)\n",
      " |      rangeobject.index(value) -> integer -- return index of value.\n",
      " |      Raise ValueError if the value is not present.\n",
      " |  \n",
      " |  ----------------------------------------------------------------------\n",
      " |  Static methods defined here:\n",
      " |  \n",
      " |  __new__(*args, **kwargs) from builtins.type\n",
      " |      Create and return a new object.  See help(type) for accurate signature.\n",
      " |  \n",
      " |  ----------------------------------------------------------------------\n",
      " |  Data descriptors defined here:\n",
      " |  \n",
      " |  start\n",
      " |  \n",
      " |  step\n",
      " |  \n",
      " |  stop\n",
      "\n"
     ]
    }
   ],
   "source": [
    "help(range)"
   ]
  },
  {
   "cell_type": "code",
   "execution_count": 10,
   "id": "4d901992",
   "metadata": {},
   "outputs": [
    {
     "name": "stdout",
     "output_type": "stream",
     "text": [
      "1\n",
      "3\n",
      "5\n",
      "7\n",
      "9\n"
     ]
    }
   ],
   "source": [
    "for i in range (1,11,2):\n",
    "    print(i)"
   ]
  },
  {
   "cell_type": "code",
   "execution_count": 11,
   "id": "8288547c",
   "metadata": {},
   "outputs": [],
   "source": [
    "a,b,c= 2,3.2,\"Hello\""
   ]
  },
  {
   "cell_type": "code",
   "execution_count": 12,
   "id": "93c22a96",
   "metadata": {},
   "outputs": [
    {
     "data": {
      "text/plain": [
       "2"
      ]
     },
     "execution_count": 12,
     "metadata": {},
     "output_type": "execute_result"
    }
   ],
   "source": [
    "a\n"
   ]
  },
  {
   "cell_type": "code",
   "execution_count": 13,
   "id": "05a174da",
   "metadata": {},
   "outputs": [
    {
     "data": {
      "text/plain": [
       "3.2"
      ]
     },
     "execution_count": 13,
     "metadata": {},
     "output_type": "execute_result"
    }
   ],
   "source": [
    "b"
   ]
  },
  {
   "cell_type": "code",
   "execution_count": 14,
   "id": "d01670b7",
   "metadata": {},
   "outputs": [
    {
     "data": {
      "text/plain": [
       "'Hello'"
      ]
     },
     "execution_count": 14,
     "metadata": {},
     "output_type": "execute_result"
    }
   ],
   "source": [
    "c"
   ]
  },
  {
   "cell_type": "code",
   "execution_count": 15,
   "id": "2325c7c1",
   "metadata": {},
   "outputs": [],
   "source": [
    "a=b=c=\"Same\""
   ]
  },
  {
   "cell_type": "code",
   "execution_count": 16,
   "id": "0947ecae",
   "metadata": {},
   "outputs": [
    {
     "data": {
      "text/plain": [
       "'Same'"
      ]
     },
     "execution_count": 16,
     "metadata": {},
     "output_type": "execute_result"
    }
   ],
   "source": [
    "a\n",
    "b\n",
    "c"
   ]
  },
  {
   "cell_type": "code",
   "execution_count": 17,
   "id": "74a6c94b",
   "metadata": {},
   "outputs": [
    {
     "data": {
      "text/plain": [
       "'Same'"
      ]
     },
     "execution_count": 17,
     "metadata": {},
     "output_type": "execute_result"
    }
   ],
   "source": [
    "a"
   ]
  },
  {
   "cell_type": "code",
   "execution_count": 18,
   "id": "cc0962fe",
   "metadata": {},
   "outputs": [
    {
     "data": {
      "text/plain": [
       "'Same'"
      ]
     },
     "execution_count": 18,
     "metadata": {},
     "output_type": "execute_result"
    }
   ],
   "source": [
    "b"
   ]
  },
  {
   "cell_type": "code",
   "execution_count": 19,
   "id": "ab990cd4",
   "metadata": {},
   "outputs": [
    {
     "data": {
      "text/plain": [
       "'Same'"
      ]
     },
     "execution_count": 19,
     "metadata": {},
     "output_type": "execute_result"
    }
   ],
   "source": [
    "c"
   ]
  },
  {
   "cell_type": "code",
   "execution_count": 21,
   "id": "09b08bee",
   "metadata": {},
   "outputs": [
    {
     "name": "stdout",
     "output_type": "stream",
     "text": [
      "<class 'int'>\n"
     ]
    }
   ],
   "source": [
    "x =5\n",
    "print(type(x))"
   ]
  },
  {
   "cell_type": "code",
   "execution_count": 26,
   "id": "64a5c400",
   "metadata": {},
   "outputs": [],
   "source": [
    "x =\"a\"\n",
    "y =\"abcdef\""
   ]
  },
  {
   "cell_type": "code",
   "execution_count": 29,
   "id": "7129d313",
   "metadata": {},
   "outputs": [
    {
     "data": {
      "text/plain": [
       "True"
      ]
     },
     "execution_count": 29,
     "metadata": {},
     "output_type": "execute_result"
    }
   ],
   "source": [
    "x  in y"
   ]
  },
  {
   "cell_type": "code",
   "execution_count": 30,
   "id": "93657f20",
   "metadata": {},
   "outputs": [
    {
     "name": "stdout",
     "output_type": "stream",
     "text": [
      "<class 'bool'>\n"
     ]
    }
   ],
   "source": [
    "x = True\n",
    "print(type(x))"
   ]
  },
  {
   "cell_type": "code",
   "execution_count": 31,
   "id": "462c89e4",
   "metadata": {},
   "outputs": [
    {
     "name": "stdout",
     "output_type": "stream",
     "text": [
      "<class 'complex'>\n"
     ]
    }
   ],
   "source": [
    "x= 1j\n",
    "print(type(x))"
   ]
  },
  {
   "cell_type": "code",
   "execution_count": 33,
   "id": "b49d80bd",
   "metadata": {},
   "outputs": [],
   "source": [
    "x =range(6)"
   ]
  },
  {
   "cell_type": "raw",
   "id": "b3f7273c",
   "metadata": {},
   "source": [
    "print(x)"
   ]
  },
  {
   "cell_type": "code",
   "execution_count": 5,
   "id": "2540f4a0",
   "metadata": {},
   "outputs": [
    {
     "data": {
      "text/plain": [
       "0"
      ]
     },
     "execution_count": 5,
     "metadata": {},
     "output_type": "execute_result"
    }
   ],
   "source": [
    "a =0\n",
    "int(a)"
   ]
  },
  {
   "cell_type": "code",
   "execution_count": 6,
   "id": "4c50854e",
   "metadata": {},
   "outputs": [
    {
     "data": {
      "text/plain": [
       "False"
      ]
     },
     "execution_count": 6,
     "metadata": {},
     "output_type": "execute_result"
    }
   ],
   "source": [
    "bool(a)"
   ]
  },
  {
   "cell_type": "code",
   "execution_count": 9,
   "id": "f7830bc4",
   "metadata": {},
   "outputs": [
    {
     "ename": "ValueError",
     "evalue": "could not convert string to float: ''",
     "output_type": "error",
     "traceback": [
      "\u001b[1;31m---------------------------------------------------------------------------\u001b[0m",
      "\u001b[1;31mValueError\u001b[0m                                Traceback (most recent call last)",
      "\u001b[1;32m~\\AppData\\Local\\Temp/ipykernel_19288/2712605730.py\u001b[0m in \u001b[0;36m<module>\u001b[1;34m\u001b[0m\n\u001b[0;32m      1\u001b[0m \u001b[0ma\u001b[0m \u001b[1;33m=\u001b[0m \u001b[1;34m\"\"\u001b[0m\u001b[1;33m\u001b[0m\u001b[1;33m\u001b[0m\u001b[0m\n\u001b[1;32m----> 2\u001b[1;33m \u001b[0mfloat\u001b[0m\u001b[1;33m(\u001b[0m\u001b[0ma\u001b[0m\u001b[1;33m)\u001b[0m\u001b[1;33m\u001b[0m\u001b[1;33m\u001b[0m\u001b[0m\n\u001b[0m",
      "\u001b[1;31mValueError\u001b[0m: could not convert string to float: ''"
     ]
    }
   ],
   "source": [
    "a = \"\"\n",
    "float(a)"
   ]
  },
  {
   "cell_type": "code",
   "execution_count": 13,
   "id": "26b252e1",
   "metadata": {},
   "outputs": [
    {
     "data": {
      "text/plain": [
       "'True'"
      ]
     },
     "execution_count": 13,
     "metadata": {},
     "output_type": "execute_result"
    }
   ],
   "source": [
    "a =True\n",
    "str(a)"
   ]
  },
  {
   "cell_type": "code",
   "execution_count": 1,
   "id": "aa810808",
   "metadata": {},
   "outputs": [
    {
     "name": "stdout",
     "output_type": "stream",
     "text": [
      "Price of Product is: 500\n",
      "Discount is : 150.0 ,Product after Discount is : 350.0\n"
     ]
    }
   ],
   "source": [
    "x = float(input(\"Price of Product is: \"))\n",
    "if x>500.0:\n",
    "    print(\"Discount is :\", x*0.5,\",Product after Discount is :\", x*0.5)\n",
    "elif x<=500.0 and x >=200.0:\n",
    "    print(\"Discount is :\", x*0.3,\",Product after Discount is :\", x*0.7)\n",
    "elif x<200.0 and x>0:\n",
    "    print(\"Discount is :\", x*0.1,\",Product after Discount is :\", x*0.9)\n",
    "else:\n",
    "    print(\"product Price is invalid\")"
   ]
  },
  {
   "cell_type": "code",
   "execution_count": 1,
   "id": "cf83c23e",
   "metadata": {},
   "outputs": [
    {
     "name": "stdout",
     "output_type": "stream",
     "text": [
      "Before enqueue  [1, 2, 3]\n"
     ]
    }
   ],
   "source": [
    "queue = [1,2,3]\n",
    "print(\"Before enqueue \", queue)"
   ]
  },
  {
   "cell_type": "code",
   "execution_count": 2,
   "id": "ba8c8758",
   "metadata": {},
   "outputs": [
    {
     "data": {
      "text/plain": [
       "[1, 2, 3, 4, 5]"
      ]
     },
     "execution_count": 2,
     "metadata": {},
     "output_type": "execute_result"
    }
   ],
   "source": [
    "queue.append(4)\n",
    "queue.append(5)\n",
    "queue"
   ]
  },
  {
   "cell_type": "code",
   "execution_count": 7,
   "id": "60e4e79d",
   "metadata": {},
   "outputs": [
    {
     "data": {
      "text/plain": [
       "4"
      ]
     },
     "execution_count": 7,
     "metadata": {},
     "output_type": "execute_result"
    }
   ],
   "source": [
    "queue.pop(1)"
   ]
  },
  {
   "cell_type": "code",
   "execution_count": 8,
   "id": "fc7c7f66",
   "metadata": {},
   "outputs": [
    {
     "data": {
      "text/plain": [
       "[2, 5]"
      ]
     },
     "execution_count": 8,
     "metadata": {},
     "output_type": "execute_result"
    }
   ],
   "source": [
    "queue\n"
   ]
  },
  {
   "cell_type": "code",
   "execution_count": null,
   "id": "b73fdbc5",
   "metadata": {},
   "outputs": [],
   "source": []
  }
 ],
 "metadata": {
  "kernelspec": {
   "display_name": "Python 3 (ipykernel)",
   "language": "python",
   "name": "python3"
  },
  "language_info": {
   "codemirror_mode": {
    "name": "ipython",
    "version": 3
   },
   "file_extension": ".py",
   "mimetype": "text/x-python",
   "name": "python",
   "nbconvert_exporter": "python",
   "pygments_lexer": "ipython3",
   "version": "3.9.7"
  }
 },
 "nbformat": 4,
 "nbformat_minor": 5
}
