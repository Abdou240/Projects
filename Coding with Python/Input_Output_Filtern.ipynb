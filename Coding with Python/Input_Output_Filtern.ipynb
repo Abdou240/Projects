{
 "cells": [
  {
   "cell_type": "code",
   "execution_count": 3,
   "id": "0b2b42d3",
   "metadata": {},
   "outputs": [
    {
     "name": "stdout",
     "output_type": "stream",
     "text": [
      "X :3\n",
      "X :t\n",
      "Invalid\n",
      "X :f\n",
      "Invalid\n",
      "X :g\n",
      "Invalid\n",
      "X :f\n",
      "Invalid\n",
      "X :2324\n",
      "X :4242\n",
      "X :424\n",
      "X :242\n",
      "X :5588\n",
      "X :58\n",
      "X :58585858858\n",
      "X :-555\n",
      "X :-67777777\n",
      "X :8\n",
      "X :\n",
      "Invalid\n",
      "X :\n",
      "Invalid\n",
      "X :888888\n",
      "X :-88888888888888888888\n",
      "X :929290290290292929090292929\n",
      "X :done\n",
      "Done!!\n",
      "Maximum 929290290290292929090292929\n",
      "Minimum -88888888888888888888\n"
     ]
    }
   ],
   "source": [
    "x = \"\"\n",
    "arr = []\n",
    "smallest = None\n",
    "largest = None\n",
    "\n",
    "while x !=\"done\":\n",
    "    x = input(\"X :\")\n",
    "    try:\n",
    "        int(x)\n",
    "        arr.append(int(x))\n",
    "        \n",
    "    except:\n",
    "        if x == \"done\":\n",
    "            print(\"Done!!\")\n",
    "        else:    \n",
    "            print(\"Invalid\")\n",
    "         \n",
    "            \n",
    "# while True:\n",
    "#     num = input(\"Enter a number: \")\n",
    "#     try:\n",
    "#         int(num)\n",
    "#         arr.append(int(num))\n",
    "#     except:\n",
    "#         if num == \"done\":\n",
    "#             break\n",
    "#         else:\n",
    "#             print(\"Invalid input\")\n",
    "    \n",
    "#     if num == \"done\":\n",
    "#         break\n",
    "                      \n",
    "\n",
    "for Value in arr:\n",
    "   \n",
    "    if smallest is None:\n",
    "        smallest = Value\n",
    "# small\n",
    "    elif smallest > Value:\n",
    "        smallest = Value\n",
    "# large\n",
    "    if  largest is None :\n",
    "        largest = Value\n",
    "       \n",
    "    elif largest < Value:\n",
    "        largest = Value\n",
    "        \n",
    "print(\"Maximum\", largest)\n",
    "print(\"Minimum\", smallest)   "
   ]
  },
  {
   "cell_type": "code",
   "execution_count": null,
   "id": "b0ff6380",
   "metadata": {},
   "outputs": [],
   "source": []
  }
 ],
 "metadata": {
  "kernelspec": {
   "display_name": "Python 3 (ipykernel)",
   "language": "python",
   "name": "python3"
  },
  "language_info": {
   "codemirror_mode": {
    "name": "ipython",
    "version": 3
   },
   "file_extension": ".py",
   "mimetype": "text/x-python",
   "name": "python",
   "nbconvert_exporter": "python",
   "pygments_lexer": "ipython3",
   "version": "3.9.7"
  }
 },
 "nbformat": 4,
 "nbformat_minor": 5
}
